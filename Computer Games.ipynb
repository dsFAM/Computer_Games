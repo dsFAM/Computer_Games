{
 "cells": [
  {
   "cell_type": "markdown",
   "metadata": {
    "toc": true
   },
   "source": [
    "<h1>Содержание<span class=\"tocSkip\"></span></h1>\n",
    "<div class=\"toc\"><ul class=\"toc-item\"><li><span><a href=\"#Откроем-файл-с-данными,-изучим-общую-информацию\" data-toc-modified-id=\"Откроем-файл-с-данными,-изучим-общую-информацию-1\"><span class=\"toc-item-num\">1&nbsp;&nbsp;</span>Откроем файл с данными, изучим общую информацию</a></span><ul class=\"toc-item\"><li><span><a href=\"#Подготовим-данные\" data-toc-modified-id=\"Подготовим-данные-1.1\"><span class=\"toc-item-num\">1.1&nbsp;&nbsp;</span>Подготовим данные</a></span></li></ul></li><li><span><a href=\"#Исследовательский-анализ-данных\" data-toc-modified-id=\"Исследовательский-анализ-данных-2\"><span class=\"toc-item-num\">2&nbsp;&nbsp;</span>Исследовательский анализ данных</a></span><ul class=\"toc-item\"><li><span><a href=\"#Изучим-динамику-выпуска-игр-и-продажи-по-годам\" data-toc-modified-id=\"Изучим-динамику-выпуска-игр-и-продажи-по-годам-2.1\"><span class=\"toc-item-num\">2.1&nbsp;&nbsp;</span>Изучим динамику выпуска игр и продажи по годам</a></span></li><li><span><a href=\"#Изучим-динамику-продаж-по-платформам\" data-toc-modified-id=\"Изучим-динамику-продаж-по-платформам-2.2\"><span class=\"toc-item-num\">2.2&nbsp;&nbsp;</span>Изучим динамику продаж по платформам</a></span></li><li><span><a href=\"#Выберем-потенциально-прибыльные-плаформы\" data-toc-modified-id=\"Выберем-потенциально-прибыльные-плаформы-2.3\"><span class=\"toc-item-num\">2.3&nbsp;&nbsp;</span>Выберем потенциально прибыльные плаформы</a></span></li><li><span><a href=\"#Построим-графики-«ящик-с-усами»-по-продажам-игр-в-разбивке-по-платформам\" data-toc-modified-id=\"Построим-графики-«ящик-с-усами»-по-продажам-игр-в-разбивке-по-платформам-2.4\"><span class=\"toc-item-num\">2.4&nbsp;&nbsp;</span>Построим графики «ящик с усами» по продажам игр в разбивке по платформам</a></span></li><li><span><a href=\"#Проверим,-как-влияют-на-продажи-внутри-одной-популярной-платформы-отзывы-пользователей-и-критиков\" data-toc-modified-id=\"Проверим,-как-влияют-на-продажи-внутри-одной-популярной-платформы-отзывы-пользователей-и-критиков-2.5\"><span class=\"toc-item-num\">2.5&nbsp;&nbsp;</span>Проверим, как влияют на продажи внутри одной популярной платформы отзывы пользователей и критиков</a></span></li><li><span><a href=\"#Распределение-игр-по-жанрам\" data-toc-modified-id=\"Распределение-игр-по-жанрам-2.6\"><span class=\"toc-item-num\">2.6&nbsp;&nbsp;</span>Распределение игр по жанрам</a></span></li><li><span><a href=\"#Составим-портрет-пользователя-каждого-региона\" data-toc-modified-id=\"Составим-портрет-пользователя-каждого-региона-2.7\"><span class=\"toc-item-num\">2.7&nbsp;&nbsp;</span>Составим портрет пользователя каждого региона</a></span></li></ul></li><li><span><a href=\"#Проверим-гипотизы\" data-toc-modified-id=\"Проверим-гипотизы-3\"><span class=\"toc-item-num\">3&nbsp;&nbsp;</span>Проверим гипотизы</a></span></li><li><span><a href=\"#Общий-вывод\" data-toc-modified-id=\"Общий-вывод-4\"><span class=\"toc-item-num\">4&nbsp;&nbsp;</span>Общий вывод</a></span></li></ul></div>"
   ]
  },
  {
   "cell_type": "markdown",
   "metadata": {},
   "source": [
    "**Задание**\n",
    "\n",
    "Вы работаете в интернет-магазине «Стримчик», который продаёт по всему миру компьютерные игры. Из открытых источников доступны исторические данные о продажах игр, оценки пользователей и экспертов, жанры и платформы (например, Xbox или PlayStation). Вам нужно выявить определяющие успешность игры закономерности. Это позволит сделать ставку на потенциально популярный продукт и спланировать рекламные кампании.\n",
    "Перед вами данные до 2016 года. Представим, что сейчас декабрь 2016 г., и вы планируете кампанию на 2017-й. Нужно отработать принцип работы с данными. Неважно, прогнозируете ли вы продажи на 2017 год по данным 2016-го или же 2027-й — по данным 2026 года.\n",
    "В наборе данных попадается аббревиатура ESRB (Entertainment Software Rating Board) — это ассоциация, определяющая возрастной рейтинг компьютерных игр. ESRB оценивает игровой контент и присваивает ему подходящую возрастную категорию, например, «Для взрослых», «Для детей младшего возраста» или «Для подростков»."
   ]
  },
  {
   "cell_type": "markdown",
   "metadata": {},
   "source": [
    "## Откроем файл с данными, изучим общую информацию"
   ]
  },
  {
   "cell_type": "code",
   "execution_count": 1,
   "metadata": {},
   "outputs": [],
   "source": [
    "#Импортируем необходимые библиотеки\n",
    "import pandas as pd\n",
    "import numpy as np\n",
    "import matplotlib.pyplot as plt\n",
    "from scipy import stats as st\n",
    "import seaborn as sns\n",
    "import warnings\n",
    "warnings.filterwarnings('ignore')\n"
   ]
  },
  {
   "cell_type": "code",
   "execution_count": 2,
   "metadata": {},
   "outputs": [],
   "source": [
    "#Настроим параметры вывода на экран\n",
    "pd.options.display.max_rows = 400"
   ]
  },
  {
   "cell_type": "code",
   "execution_count": 3,
   "metadata": {},
   "outputs": [],
   "source": [
    "#прочитаем данные из файла\n",
    "try:\n",
    "    games_data = pd.read_csv('/datasets/games.csv')\n",
    "except:\n",
    "    games_data = pd.read_csv('https://code.s3.yandex.net/datasets/games.csv')\n",
    "    \n",
    "#сохраним копию исходных данных на случай, если в последствии захочется сравнить \n",
    "#статистику исходной и обработанной выборки \n",
    "games_data_save = games_data.copy()"
   ]
  },
  {
   "cell_type": "code",
   "execution_count": 4,
   "metadata": {},
   "outputs": [
    {
     "data": {
      "text/html": [
       "<div>\n",
       "<style scoped>\n",
       "    .dataframe tbody tr th:only-of-type {\n",
       "        vertical-align: middle;\n",
       "    }\n",
       "\n",
       "    .dataframe tbody tr th {\n",
       "        vertical-align: top;\n",
       "    }\n",
       "\n",
       "    .dataframe thead th {\n",
       "        text-align: right;\n",
       "    }\n",
       "</style>\n",
       "<table border=\"1\" class=\"dataframe\">\n",
       "  <thead>\n",
       "    <tr style=\"text-align: right;\">\n",
       "      <th></th>\n",
       "      <th>Name</th>\n",
       "      <th>Platform</th>\n",
       "      <th>Year_of_Release</th>\n",
       "      <th>Genre</th>\n",
       "      <th>NA_sales</th>\n",
       "      <th>EU_sales</th>\n",
       "      <th>JP_sales</th>\n",
       "      <th>Other_sales</th>\n",
       "      <th>Critic_Score</th>\n",
       "      <th>User_Score</th>\n",
       "      <th>Rating</th>\n",
       "    </tr>\n",
       "  </thead>\n",
       "  <tbody>\n",
       "    <tr>\n",
       "      <th>0</th>\n",
       "      <td>Wii Sports</td>\n",
       "      <td>Wii</td>\n",
       "      <td>2006.0</td>\n",
       "      <td>Sports</td>\n",
       "      <td>41.36</td>\n",
       "      <td>28.96</td>\n",
       "      <td>3.77</td>\n",
       "      <td>8.45</td>\n",
       "      <td>76.0</td>\n",
       "      <td>8</td>\n",
       "      <td>E</td>\n",
       "    </tr>\n",
       "    <tr>\n",
       "      <th>1</th>\n",
       "      <td>Super Mario Bros.</td>\n",
       "      <td>NES</td>\n",
       "      <td>1985.0</td>\n",
       "      <td>Platform</td>\n",
       "      <td>29.08</td>\n",
       "      <td>3.58</td>\n",
       "      <td>6.81</td>\n",
       "      <td>0.77</td>\n",
       "      <td>NaN</td>\n",
       "      <td>NaN</td>\n",
       "      <td>NaN</td>\n",
       "    </tr>\n",
       "    <tr>\n",
       "      <th>2</th>\n",
       "      <td>Mario Kart Wii</td>\n",
       "      <td>Wii</td>\n",
       "      <td>2008.0</td>\n",
       "      <td>Racing</td>\n",
       "      <td>15.68</td>\n",
       "      <td>12.76</td>\n",
       "      <td>3.79</td>\n",
       "      <td>3.29</td>\n",
       "      <td>82.0</td>\n",
       "      <td>8.3</td>\n",
       "      <td>E</td>\n",
       "    </tr>\n",
       "    <tr>\n",
       "      <th>3</th>\n",
       "      <td>Wii Sports Resort</td>\n",
       "      <td>Wii</td>\n",
       "      <td>2009.0</td>\n",
       "      <td>Sports</td>\n",
       "      <td>15.61</td>\n",
       "      <td>10.93</td>\n",
       "      <td>3.28</td>\n",
       "      <td>2.95</td>\n",
       "      <td>80.0</td>\n",
       "      <td>8</td>\n",
       "      <td>E</td>\n",
       "    </tr>\n",
       "    <tr>\n",
       "      <th>4</th>\n",
       "      <td>Pokemon Red/Pokemon Blue</td>\n",
       "      <td>GB</td>\n",
       "      <td>1996.0</td>\n",
       "      <td>Role-Playing</td>\n",
       "      <td>11.27</td>\n",
       "      <td>8.89</td>\n",
       "      <td>10.22</td>\n",
       "      <td>1.00</td>\n",
       "      <td>NaN</td>\n",
       "      <td>NaN</td>\n",
       "      <td>NaN</td>\n",
       "    </tr>\n",
       "  </tbody>\n",
       "</table>\n",
       "</div>"
      ],
      "text/plain": [
       "                       Name Platform  Year_of_Release         Genre  NA_sales  \\\n",
       "0                Wii Sports      Wii           2006.0        Sports     41.36   \n",
       "1         Super Mario Bros.      NES           1985.0      Platform     29.08   \n",
       "2            Mario Kart Wii      Wii           2008.0        Racing     15.68   \n",
       "3         Wii Sports Resort      Wii           2009.0        Sports     15.61   \n",
       "4  Pokemon Red/Pokemon Blue       GB           1996.0  Role-Playing     11.27   \n",
       "\n",
       "   EU_sales  JP_sales  Other_sales  Critic_Score User_Score Rating  \n",
       "0     28.96      3.77         8.45          76.0          8      E  \n",
       "1      3.58      6.81         0.77           NaN        NaN    NaN  \n",
       "2     12.76      3.79         3.29          82.0        8.3      E  \n",
       "3     10.93      3.28         2.95          80.0          8      E  \n",
       "4      8.89     10.22         1.00           NaN        NaN    NaN  "
      ]
     },
     "execution_count": 4,
     "metadata": {},
     "output_type": "execute_result"
    }
   ],
   "source": [
    "#ознакомимся с данными\n",
    "games_data.head()"
   ]
  },
  {
   "cell_type": "code",
   "execution_count": 5,
   "metadata": {},
   "outputs": [
    {
     "name": "stdout",
     "output_type": "stream",
     "text": [
      "<class 'pandas.core.frame.DataFrame'>\n",
      "RangeIndex: 16715 entries, 0 to 16714\n",
      "Data columns (total 11 columns):\n",
      " #   Column           Non-Null Count  Dtype  \n",
      "---  ------           --------------  -----  \n",
      " 0   Name             16713 non-null  object \n",
      " 1   Platform         16715 non-null  object \n",
      " 2   Year_of_Release  16446 non-null  float64\n",
      " 3   Genre            16713 non-null  object \n",
      " 4   NA_sales         16715 non-null  float64\n",
      " 5   EU_sales         16715 non-null  float64\n",
      " 6   JP_sales         16715 non-null  float64\n",
      " 7   Other_sales      16715 non-null  float64\n",
      " 8   Critic_Score     8137 non-null   float64\n",
      " 9   User_Score       10014 non-null  object \n",
      " 10  Rating           9949 non-null   object \n",
      "dtypes: float64(6), object(5)\n",
      "memory usage: 1.4+ MB\n"
     ]
    }
   ],
   "source": [
    "#Изучим общую информацию о датафрейме\n",
    "games_data.info()"
   ]
  },
  {
   "cell_type": "markdown",
   "metadata": {},
   "source": [
    "**Вывод по разделу** \n",
    "\n",
    "В датасете представлены 16715 записей. В данных пристутсвуют пропуски. Неправильно определен тип данных в некоторых столбцах"
   ]
  },
  {
   "cell_type": "markdown",
   "metadata": {},
   "source": [
    "###  Подготовим данные"
   ]
  },
  {
   "cell_type": "markdown",
   "metadata": {},
   "source": [
    "**Заменим названия столбцов, приведя их к нижнему регистру**"
   ]
  },
  {
   "cell_type": "code",
   "execution_count": 6,
   "metadata": {},
   "outputs": [
    {
     "data": {
      "text/plain": [
       "Index(['name', 'platform', 'year_of_release', 'genre', 'na_sales', 'eu_sales',\n",
       "       'jp_sales', 'other_sales', 'critic_score', 'user_score', 'rating'],\n",
       "      dtype='object')"
      ]
     },
     "execution_count": 6,
     "metadata": {},
     "output_type": "execute_result"
    }
   ],
   "source": [
    "games_data.columns = games_data.columns.str.lower()\n",
    "\n",
    "games_data.columns"
   ]
  },
  {
   "cell_type": "markdown",
   "metadata": {},
   "source": [
    "**Обработаем пропуски и дубликаты**"
   ]
  },
  {
   "cell_type": "code",
   "execution_count": 7,
   "metadata": {},
   "outputs": [
    {
     "data": {
      "text/plain": [
       "0"
      ]
     },
     "execution_count": 7,
     "metadata": {},
     "output_type": "execute_result"
    }
   ],
   "source": [
    "#проверим наличие полных дубликатов\n",
    "games_data.duplicated().sum()"
   ]
  },
  {
   "cell_type": "code",
   "execution_count": 8,
   "metadata": {},
   "outputs": [
    {
     "data": {
      "text/plain": [
       "name                  2\n",
       "platform              0\n",
       "year_of_release     269\n",
       "genre                 2\n",
       "na_sales              0\n",
       "eu_sales              0\n",
       "jp_sales              0\n",
       "other_sales           0\n",
       "critic_score       8578\n",
       "user_score         6701\n",
       "rating             6766\n",
       "dtype: int64"
      ]
     },
     "execution_count": 8,
     "metadata": {},
     "output_type": "execute_result"
    }
   ],
   "source": [
    "#проверим наличие пропусков\n",
    "games_data.isna().sum()"
   ]
  },
  {
   "cell_type": "markdown",
   "metadata": {},
   "source": [
    "Пропуски присутсвуют в следующих столбцах:\n",
    "- имя\n",
    "- год выпуска\n",
    "- оценка критиков\n",
    "- оценка пользователей\n",
    "- рейтинг от организации ESRB\n",
    "\n",
    "Пропуски могли появиться по причине технического сбоя, ошибок  или умышленным пропусков этих данных оператором ввода. Попытаемся заполнить пропущенные значения"
   ]
  },
  {
   "cell_type": "code",
   "execution_count": 9,
   "metadata": {},
   "outputs": [
    {
     "data": {
      "text/html": [
       "<div>\n",
       "<style scoped>\n",
       "    .dataframe tbody tr th:only-of-type {\n",
       "        vertical-align: middle;\n",
       "    }\n",
       "\n",
       "    .dataframe tbody tr th {\n",
       "        vertical-align: top;\n",
       "    }\n",
       "\n",
       "    .dataframe thead th {\n",
       "        text-align: right;\n",
       "    }\n",
       "</style>\n",
       "<table border=\"1\" class=\"dataframe\">\n",
       "  <thead>\n",
       "    <tr style=\"text-align: right;\">\n",
       "      <th></th>\n",
       "      <th>name</th>\n",
       "      <th>platform</th>\n",
       "      <th>year_of_release</th>\n",
       "      <th>genre</th>\n",
       "      <th>na_sales</th>\n",
       "      <th>eu_sales</th>\n",
       "      <th>jp_sales</th>\n",
       "      <th>other_sales</th>\n",
       "      <th>critic_score</th>\n",
       "      <th>user_score</th>\n",
       "      <th>rating</th>\n",
       "    </tr>\n",
       "  </thead>\n",
       "  <tbody>\n",
       "    <tr>\n",
       "      <th>659</th>\n",
       "      <td>NaN</td>\n",
       "      <td>GEN</td>\n",
       "      <td>1993.0</td>\n",
       "      <td>NaN</td>\n",
       "      <td>1.78</td>\n",
       "      <td>0.53</td>\n",
       "      <td>0.00</td>\n",
       "      <td>0.08</td>\n",
       "      <td>NaN</td>\n",
       "      <td>NaN</td>\n",
       "      <td>NaN</td>\n",
       "    </tr>\n",
       "    <tr>\n",
       "      <th>14244</th>\n",
       "      <td>NaN</td>\n",
       "      <td>GEN</td>\n",
       "      <td>1993.0</td>\n",
       "      <td>NaN</td>\n",
       "      <td>0.00</td>\n",
       "      <td>0.00</td>\n",
       "      <td>0.03</td>\n",
       "      <td>0.00</td>\n",
       "      <td>NaN</td>\n",
       "      <td>NaN</td>\n",
       "      <td>NaN</td>\n",
       "    </tr>\n",
       "  </tbody>\n",
       "</table>\n",
       "</div>"
      ],
      "text/plain": [
       "      name platform  year_of_release genre  na_sales  eu_sales  jp_sales  \\\n",
       "659    NaN      GEN           1993.0   NaN      1.78      0.53      0.00   \n",
       "14244  NaN      GEN           1993.0   NaN      0.00      0.00      0.03   \n",
       "\n",
       "       other_sales  critic_score user_score rating  \n",
       "659           0.08           NaN        NaN    NaN  \n",
       "14244         0.00           NaN        NaN    NaN  "
      ]
     },
     "execution_count": 9,
     "metadata": {},
     "output_type": "execute_result"
    }
   ],
   "source": [
    "#изучим пропуски в поле name\n",
    "games_data[games_data['name'].isna()]"
   ]
  },
  {
   "cell_type": "markdown",
   "metadata": {},
   "source": [
    "В данных есть записи о двух неизвестных играх, для которых также нет сведений о рейтинге и оценках. Наименования игр мы не сможем восстановить. Таких записей всего две - их удаление не окажет существенного влияния на дальнейший анализ"
   ]
  },
  {
   "cell_type": "code",
   "execution_count": 10,
   "metadata": {},
   "outputs": [
    {
     "data": {
      "text/plain": [
       "0"
      ]
     },
     "execution_count": 10,
     "metadata": {},
     "output_type": "execute_result"
    }
   ],
   "source": [
    "#удалим записи с пропусками в столбце name\n",
    "games_data = games_data.dropna(subset=['name'])\n",
    "\n",
    "#проверим результат работы\n",
    "games_data['name'].isna().sum()"
   ]
  },
  {
   "cell_type": "markdown",
   "metadata": {},
   "source": [
    "В поле year_of_release присутсвуют 269 пропусков. Игры могут выпускаться в разные годы для разных платформ.\n",
    "Заполнять их на основе имеющихся сведений по другим платформам будет неправильно.\n",
    "Оставим данные пропуски без изменений\n",
    "\n",
    "Наличие пропусков стоит обсудить с разработчиками - возможно имеют место ошибки при вводе"
   ]
  },
  {
   "cell_type": "markdown",
   "metadata": {},
   "source": [
    "В поле user_score присутсвует более 2тыс. значений tbd - будет определено. Кроме того, еще 6701 значений пропущено (либо в результате сбоя, либо умышленно)\n",
    "\n",
    "Фактически эти значения несут одинаковую смысловую нагрузку - рейтинг не определен. Заменим все значения tbd на пропуски. \n",
    "\n",
    "При этом стоит обратить внимание разработчиков на наличию значительного количества пропусков и значений tbd в данном поле. Возможно стоит доработать механизмы ввода данных"
   ]
  },
  {
   "cell_type": "code",
   "execution_count": 11,
   "metadata": {},
   "outputs": [
    {
     "data": {
      "text/plain": [
       "name                  0\n",
       "platform              0\n",
       "year_of_release     269\n",
       "genre                 0\n",
       "na_sales              0\n",
       "eu_sales              0\n",
       "jp_sales              0\n",
       "other_sales           0\n",
       "critic_score       8576\n",
       "user_score         9123\n",
       "rating             6764\n",
       "dtype: int64"
      ]
     },
     "execution_count": 11,
     "metadata": {},
     "output_type": "execute_result"
    }
   ],
   "source": [
    "games_data['user_score'] = games_data['user_score'].where(games_data['user_score'] != 'tbd', np.nan)\n",
    "\n",
    "games_data.isnull().sum()"
   ]
  },
  {
   "cell_type": "markdown",
   "metadata": {},
   "source": [
    "В поле rating присутсвуют 6764 пропуска. \n",
    "- 'K-A' использовался в 1994-1998 гг. В настоящее время соответсвует 'Е'. Надо поменять\n",
    "- ESRB — определяет рейтингов для компьютерных видеоигр и другого развлекательного программного обеспечения в США и Канаде. Для других регионов оно не устанавливается. Пропуск значения несет смысловую нагрузку Заполним пропуски \"значением-заглушкой\" - \"no-rating\""
   ]
  },
  {
   "cell_type": "code",
   "execution_count": 12,
   "metadata": {},
   "outputs": [
    {
     "name": "stdout",
     "output_type": "stream",
     "text": [
      "E       3990\n",
      "T       2961\n",
      "M       1563\n",
      "E10+    1420\n",
      "EC         8\n",
      "K-A        3\n",
      "RP         3\n",
      "AO         1\n",
      "Name: rating, dtype: int64\n"
     ]
    },
    {
     "data": {
      "text/plain": [
       "E       3993\n",
       "T       2961\n",
       "M       1563\n",
       "E10+    1420\n",
       "EC         8\n",
       "RP         3\n",
       "AO         1\n",
       "Name: rating, dtype: int64"
      ]
     },
     "execution_count": 12,
     "metadata": {},
     "output_type": "execute_result"
    }
   ],
   "source": [
    "# поменяем рейтинг 'K-A' на 'Е'\n",
    "print(games_data['rating'].value_counts())\n",
    "\n",
    "games_data['rating'] = games_data['rating'].where(games_data['rating'] != 'K-A', 'E')\n",
    "\n",
    "games_data['rating'].value_counts()\n"
   ]
  },
  {
   "cell_type": "code",
   "execution_count": 13,
   "metadata": {},
   "outputs": [
    {
     "data": {
      "text/plain": [
       "no-rating    6764\n",
       "E            3993\n",
       "T            2961\n",
       "M            1563\n",
       "E10+         1420\n",
       "EC              8\n",
       "RP              3\n",
       "AO              1\n",
       "Name: rating, dtype: int64"
      ]
     },
     "execution_count": 13,
     "metadata": {},
     "output_type": "execute_result"
    }
   ],
   "source": [
    "#ESRB — заполним пропуски \"значением-заглушкой\" - \"no-rating\"\n",
    "games_data['rating'] = games_data['rating'].where(games_data['rating'].notna(), 'no-rating')\n",
    "\n",
    "games_data['rating'].value_counts()"
   ]
  },
  {
   "cell_type": "markdown",
   "metadata": {},
   "source": [
    "**Преобразуем данные к нужным типам**\n",
    "- year_of_release преобразуем к целочисленному типу\n",
    "- user_score преобразуем к вещественному типу"
   ]
  },
  {
   "cell_type": "code",
   "execution_count": 14,
   "metadata": {},
   "outputs": [
    {
     "name": "stdout",
     "output_type": "stream",
     "text": [
      "<class 'pandas.core.frame.DataFrame'>\n",
      "Int64Index: 16713 entries, 0 to 16714\n",
      "Data columns (total 11 columns):\n",
      " #   Column           Non-Null Count  Dtype  \n",
      "---  ------           --------------  -----  \n",
      " 0   name             16713 non-null  object \n",
      " 1   platform         16713 non-null  object \n",
      " 2   year_of_release  16444 non-null  Int32  \n",
      " 3   genre            16713 non-null  object \n",
      " 4   na_sales         16713 non-null  float64\n",
      " 5   eu_sales         16713 non-null  float64\n",
      " 6   jp_sales         16713 non-null  float64\n",
      " 7   other_sales      16713 non-null  float64\n",
      " 8   critic_score     8137 non-null   float64\n",
      " 9   user_score       7590 non-null   float32\n",
      " 10  rating           16713 non-null  object \n",
      "dtypes: Int32(1), float32(1), float64(5), object(4)\n",
      "memory usage: 1.4+ MB\n"
     ]
    }
   ],
   "source": [
    "#year_of_release ->int64\n",
    "#user_score->float64\n",
    "\n",
    "games_data['year_of_release'] = games_data['year_of_release'].astype('Int32')\n",
    "games_data['user_score'] = games_data['user_score'].astype('float32')\n",
    "\n",
    "#проверим результат\n",
    "games_data.info()"
   ]
  },
  {
   "cell_type": "code",
   "execution_count": 15,
   "metadata": {},
   "outputs": [
    {
     "data": {
      "text/html": [
       "<div>\n",
       "<style scoped>\n",
       "    .dataframe tbody tr th:only-of-type {\n",
       "        vertical-align: middle;\n",
       "    }\n",
       "\n",
       "    .dataframe tbody tr th {\n",
       "        vertical-align: top;\n",
       "    }\n",
       "\n",
       "    .dataframe thead th {\n",
       "        text-align: right;\n",
       "    }\n",
       "</style>\n",
       "<table border=\"1\" class=\"dataframe\">\n",
       "  <thead>\n",
       "    <tr style=\"text-align: right;\">\n",
       "      <th></th>\n",
       "      <th>year_of_release</th>\n",
       "      <th>na_sales</th>\n",
       "      <th>eu_sales</th>\n",
       "      <th>jp_sales</th>\n",
       "      <th>other_sales</th>\n",
       "      <th>critic_score</th>\n",
       "      <th>user_score</th>\n",
       "    </tr>\n",
       "  </thead>\n",
       "  <tbody>\n",
       "    <tr>\n",
       "      <th>count</th>\n",
       "      <td>16444.000000</td>\n",
       "      <td>16713.000000</td>\n",
       "      <td>16713.000000</td>\n",
       "      <td>16713.000000</td>\n",
       "      <td>16713.000000</td>\n",
       "      <td>8137.000000</td>\n",
       "      <td>7590.000000</td>\n",
       "    </tr>\n",
       "    <tr>\n",
       "      <th>mean</th>\n",
       "      <td>2006.486256</td>\n",
       "      <td>0.263302</td>\n",
       "      <td>0.145045</td>\n",
       "      <td>0.077625</td>\n",
       "      <td>0.047343</td>\n",
       "      <td>68.967679</td>\n",
       "      <td>7.125046</td>\n",
       "    </tr>\n",
       "    <tr>\n",
       "      <th>std</th>\n",
       "      <td>5.875525</td>\n",
       "      <td>0.813565</td>\n",
       "      <td>0.503359</td>\n",
       "      <td>0.308871</td>\n",
       "      <td>0.186742</td>\n",
       "      <td>13.938165</td>\n",
       "      <td>1.500006</td>\n",
       "    </tr>\n",
       "    <tr>\n",
       "      <th>min</th>\n",
       "      <td>1980.000000</td>\n",
       "      <td>0.000000</td>\n",
       "      <td>0.000000</td>\n",
       "      <td>0.000000</td>\n",
       "      <td>0.000000</td>\n",
       "      <td>13.000000</td>\n",
       "      <td>0.000000</td>\n",
       "    </tr>\n",
       "    <tr>\n",
       "      <th>25%</th>\n",
       "      <td>2003.000000</td>\n",
       "      <td>0.000000</td>\n",
       "      <td>0.000000</td>\n",
       "      <td>0.000000</td>\n",
       "      <td>0.000000</td>\n",
       "      <td>60.000000</td>\n",
       "      <td>6.400000</td>\n",
       "    </tr>\n",
       "    <tr>\n",
       "      <th>50%</th>\n",
       "      <td>2007.000000</td>\n",
       "      <td>0.080000</td>\n",
       "      <td>0.020000</td>\n",
       "      <td>0.000000</td>\n",
       "      <td>0.010000</td>\n",
       "      <td>71.000000</td>\n",
       "      <td>7.500000</td>\n",
       "    </tr>\n",
       "    <tr>\n",
       "      <th>75%</th>\n",
       "      <td>2010.000000</td>\n",
       "      <td>0.240000</td>\n",
       "      <td>0.110000</td>\n",
       "      <td>0.040000</td>\n",
       "      <td>0.030000</td>\n",
       "      <td>79.000000</td>\n",
       "      <td>8.200000</td>\n",
       "    </tr>\n",
       "    <tr>\n",
       "      <th>max</th>\n",
       "      <td>2016.000000</td>\n",
       "      <td>41.360000</td>\n",
       "      <td>28.960000</td>\n",
       "      <td>10.220000</td>\n",
       "      <td>10.570000</td>\n",
       "      <td>98.000000</td>\n",
       "      <td>9.700000</td>\n",
       "    </tr>\n",
       "  </tbody>\n",
       "</table>\n",
       "</div>"
      ],
      "text/plain": [
       "       year_of_release      na_sales      eu_sales      jp_sales  \\\n",
       "count     16444.000000  16713.000000  16713.000000  16713.000000   \n",
       "mean       2006.486256      0.263302      0.145045      0.077625   \n",
       "std           5.875525      0.813565      0.503359      0.308871   \n",
       "min        1980.000000      0.000000      0.000000      0.000000   \n",
       "25%        2003.000000      0.000000      0.000000      0.000000   \n",
       "50%        2007.000000      0.080000      0.020000      0.000000   \n",
       "75%        2010.000000      0.240000      0.110000      0.040000   \n",
       "max        2016.000000     41.360000     28.960000     10.220000   \n",
       "\n",
       "        other_sales  critic_score   user_score  \n",
       "count  16713.000000   8137.000000  7590.000000  \n",
       "mean       0.047343     68.967679     7.125046  \n",
       "std        0.186742     13.938165     1.500006  \n",
       "min        0.000000     13.000000     0.000000  \n",
       "25%        0.000000     60.000000     6.400000  \n",
       "50%        0.010000     71.000000     7.500000  \n",
       "75%        0.030000     79.000000     8.200000  \n",
       "max       10.570000     98.000000     9.700000  "
      ]
     },
     "execution_count": 15,
     "metadata": {},
     "output_type": "execute_result"
    }
   ],
   "source": [
    "# Изучим данные\n",
    "games_data.describe()"
   ]
  },
  {
   "cell_type": "code",
   "execution_count": 16,
   "metadata": {},
   "outputs": [
    {
     "data": {
      "image/png": "[encoded data removed]",
      "text/plain": [
       "<Figure size 720x720 with 9 Axes>"
      ]
     },
     "metadata": {
      "needs_background": "light"
     },
     "output_type": "display_data"
    }
   ],
   "source": [
    "#Построим общую гистограмму для всех числовых столбцов таблицы\n",
    "games_data.hist(figsize=(10, 10))\n",
    "\n",
    "plt.show()"
   ]
  },
  {
   "cell_type": "markdown",
   "metadata": {},
   "source": [
    "Судя по гистограммам и результатам работы функции describe в данных о продажах присутсвуют выбросы. \n",
    "Это может быть либо результатом ошибки ввода или следствие наличия небольшого количества сверх популярных игр. В любом случае это исключительные случаи и их лучше не учитывать при анализе показателей стреднестатистических игр, составляющих большую часть выборки."
   ]
  },
  {
   "cell_type": "code",
   "execution_count": 17,
   "metadata": {},
   "outputs": [
    {
     "name": "stdout",
     "output_type": "stream",
     "text": [
      "Статистика до чистки\n",
      "           na_sales      eu_sales      jp_sales   other_sales\n",
      "count  16713.000000  16713.000000  16713.000000  16713.000000\n",
      "mean       0.263302      0.145045      0.077625      0.047343\n",
      "std        0.813565      0.503359      0.308871      0.186742\n",
      "min        0.000000      0.000000      0.000000      0.000000\n",
      "25%        0.000000      0.000000      0.000000      0.000000\n",
      "50%        0.080000      0.020000      0.000000      0.010000\n",
      "75%        0.240000      0.110000      0.040000      0.030000\n",
      "max       41.360000     28.960000     10.220000     10.570000\n",
      "Статистика после чистки\n",
      "           na_sales     eu_sales      jp_sales   other_sales\n",
      "count  16042.000000  16042.00000  16042.000000  16042.000000\n",
      "mean       0.182159      0.08907      0.046055      0.027391\n",
      "std        0.307025      0.16808      0.117306      0.048959\n",
      "min        0.000000      0.00000      0.000000      0.000000\n",
      "25%        0.000000      0.00000      0.000000      0.000000\n",
      "50%        0.070000      0.02000      0.000000      0.010000\n",
      "75%        0.210000      0.09000      0.030000      0.030000\n",
      "max        2.780000      1.32000      0.980000      0.320000\n"
     ]
    }
   ],
   "source": [
    "# Функция удаляет выбросы (выше 99 квантиля)\n",
    "def clean_data(data, columns):\n",
    "    \n",
    "    for column in columns:\n",
    "        q99 = data[column].quantile(0.99)\n",
    "        \n",
    "        data = data[data[column]<q99]\n",
    "    \n",
    "    return data\n",
    "\n",
    "#Столбцы с выбросами\n",
    "columns_to_clean = ['na_sales', 'eu_sales', 'jp_sales', 'other_sales']\n",
    "\n",
    "print('Статистика до чистки')\n",
    "print(games_data[columns_to_clean].describe())\n",
    "\n",
    "#почистим данные в колонках columns_to_clean\n",
    "games_data = clean_data(games_data, columns_to_clean)\n",
    "\n",
    "print('Статистика после чистки')\n",
    "print(games_data[columns_to_clean].describe())"
   ]
  },
  {
   "cell_type": "markdown",
   "metadata": {},
   "source": [
    "Проверим, сколько записей осталось для проведения анализа"
   ]
  },
  {
   "cell_type": "code",
   "execution_count": 18,
   "metadata": {},
   "outputs": [
    {
     "name": "stdout",
     "output_type": "stream",
     "text": [
      "<class 'pandas.core.frame.DataFrame'>\n",
      "Int64Index: 16042 entries, 233 to 16714\n",
      "Data columns (total 11 columns):\n",
      " #   Column           Non-Null Count  Dtype  \n",
      "---  ------           --------------  -----  \n",
      " 0   name             16042 non-null  object \n",
      " 1   platform         16042 non-null  object \n",
      " 2   year_of_release  15777 non-null  Int32  \n",
      " 3   genre            16042 non-null  object \n",
      " 4   na_sales         16042 non-null  float64\n",
      " 5   eu_sales         16042 non-null  float64\n",
      " 6   jp_sales         16042 non-null  float64\n",
      " 7   other_sales      16042 non-null  float64\n",
      " 8   critic_score     7732 non-null   float64\n",
      " 9   user_score       7173 non-null   float32\n",
      " 10  rating           16042 non-null  object \n",
      "dtypes: Int32(1), float32(1), float64(5), object(4)\n",
      "memory usage: 1.4+ MB\n"
     ]
    }
   ],
   "source": [
    "games_data.info()"
   ]
  },
  {
   "cell_type": "markdown",
   "metadata": {},
   "source": [
    "Мы удалили небольшое количество нехарактерных, выделяющиеся из общего распределения записей. При этом сохранили большую часть данных"
   ]
  },
  {
   "cell_type": "markdown",
   "metadata": {},
   "source": [
    "**Посчитаем суммарные продажи во всех регионах и запишем их в отдельный столбец**"
   ]
  },
  {
   "cell_type": "code",
   "execution_count": 19,
   "metadata": {},
   "outputs": [],
   "source": [
    "games_data['total_sales'] = games_data.loc[:,['na_sales', 'eu_sales', 'eu_sales', 'jp_sales', 'other_sales']]\\\n",
    "                                        .sum(axis=1)"
   ]
  },
  {
   "cell_type": "markdown",
   "metadata": {},
   "source": [
    "Проверим, сколько записей осталось для проведения анализа"
   ]
  },
  {
   "cell_type": "markdown",
   "metadata": {},
   "source": [
    "**Вывод по разделу**\n",
    "\n",
    "Мы почистили данные. Заполнили пропуски, где это возможно. При этом нам удалось сохранить значительную часть исходной информации, что позволит провести исследование "
   ]
  },
  {
   "cell_type": "markdown",
   "metadata": {},
   "source": [
    "##  Исследовательский анализ данных"
   ]
  },
  {
   "cell_type": "markdown",
   "metadata": {},
   "source": [
    "### Изучим динамику выпуска игр и продажи по годам"
   ]
  },
  {
   "cell_type": "code",
   "execution_count": 20,
   "metadata": {},
   "outputs": [
    {
     "data": {
      "image/png": "[encoded data removed]",
      "text/plain": [
       "<Figure size 720x360 with 1 Axes>"
      ]
     },
     "metadata": {
      "needs_background": "light"
     },
     "output_type": "display_data"
    },
    {
     "data": {
      "image/png": "[encoded data removed]",
      "text/plain": [
       "<Figure size 720x360 with 1 Axes>"
      ]
     },
     "metadata": {
      "needs_background": "light"
     },
     "output_type": "display_data"
    }
   ],
   "source": [
    "#Изучим динамику выпуска игр по годам\n",
    "(games_data\n",
    "    .pivot_table(index='year_of_release', values='name', aggfunc='count')\n",
    "    .rename(columns={'name': 'Игры'})\n",
    "    .plot(grid=True, style='o-',kind='bar',figsize=(10, 5))\n",
    ")\n",
    "\n",
    "\n",
    "plt.title('Количество игр по годам', fontsize=14, color='red')\n",
    "plt.xlabel('год')\n",
    "plt.ylabel('Количество игр')\n",
    "plt.show()\n",
    "\n",
    "#Изучим динамику продаж по годам\n",
    "(games_data\n",
    "    .pivot_table(index='year_of_release', values='total_sales', aggfunc='sum')\n",
    "    .rename(columns={'total_sales': 'Продажи'})\n",
    "    .plot(grid=True, style='o-',kind='bar',figsize=(10, 5))\n",
    ")\n",
    "\n",
    "\n",
    "plt.title('Продажи по годам', fontsize=14, color='red')\n",
    "plt.xlabel('год')\n",
    "plt.ylabel('Продажи')\n",
    "plt.show()"
   ]
  },
  {
   "cell_type": "markdown",
   "metadata": {},
   "source": [
    "В период с 1980 по 1994 года ежегодно выпускалось не более 100 игр. Динамичный рост рынка компьютерных игр начался в 90-е годы. Наибольший интерес представляет период с 1994 года по настоящее время, который характеризуется высокой динамикой развития сектора"
   ]
  },
  {
   "cell_type": "markdown",
   "metadata": {},
   "source": [
    "### Изучим динамику продаж по платформам"
   ]
  },
  {
   "cell_type": "code",
   "execution_count": 21,
   "metadata": {},
   "outputs": [
    {
     "data": {
      "image/png": "[encoded data removed]",
      "text/plain": [
       "<Figure size 720x360 with 1 Axes>"
      ]
     },
     "metadata": {
      "needs_background": "light"
     },
     "output_type": "display_data"
    }
   ],
   "source": [
    "#выберем 5 платформ с наибольшим числом продаж\n",
    "top5platforms = (\n",
    "    games_data\n",
    "    .pivot_table(index='platform', values='total_sales', aggfunc='sum')['total_sales']\n",
    "    .sort_values(ascending=False)\n",
    "    .head(5)\n",
    "    .index\n",
    ")\n",
    "\n",
    "#построим графики для каждой платформы с данными продаж по годам \n",
    "for platform in top5platforms:\n",
    "    temp_data = (\n",
    "        games_data\n",
    "        .loc[games_data['platform']==platform]\n",
    "        .pivot_table(index='year_of_release', values='total_sales', aggfunc='sum')\n",
    "        .rename(columns={'total_sales': platform})\n",
    "    )\n",
    "    \n",
    "    temp_data[platform].plot(legend=True, grid=True,figsize=(10, 5))\n",
    "\n",
    "plt.title('Продажи по годам', fontsize=14, color='red')\n",
    "plt.xlabel('год')\n",
    "plt.ylabel('Продажи')\n",
    "plt.show()    "
   ]
  },
  {
   "cell_type": "markdown",
   "metadata": {},
   "source": [
    "Срок жизни платформы в среднем 10 лет. При этом пик популярности составляет 3-5 лет.\n",
    "\n",
    "Для дальнейшего исследования возьмем приод времени с 2013 года по 2016 год. При выборе более продолжительного отрезка времени мы рискует \"зацепить\" устаревшие  тренды. В случае более короткого промежутка - можем пропустить формирование новых актуальных тенденций"
   ]
  },
  {
   "cell_type": "code",
   "execution_count": 22,
   "metadata": {},
   "outputs": [],
   "source": [
    "#получим актуальные данные из выборки за периол с 2013 года по 2016 год\n",
    "relevant_games_data = games_data.loc[games_data['year_of_release']>=2013]\n",
    "\n",
    "#print(relevant_games_data['year_of_release'].unique())"
   ]
  },
  {
   "cell_type": "markdown",
   "metadata": {},
   "source": [
    "### Выберем потенциально прибыльные плаформы"
   ]
  },
  {
   "cell_type": "code",
   "execution_count": 23,
   "metadata": {},
   "outputs": [
    {
     "data": {
      "image/png": "[encoded data removed]",
      "text/plain": [
       "<Figure size 360x360 with 1 Axes>"
      ]
     },
     "metadata": {
      "needs_background": "light"
     },
     "output_type": "display_data"
    },
    {
     "data": {
      "image/png": "[encoded data removed]",
      "text/plain": [
       "<Figure size 360x360 with 1 Axes>"
      ]
     },
     "metadata": {
      "needs_background": "light"
     },
     "output_type": "display_data"
    }
   ],
   "source": [
    "#отсортируепм платформы по продажам\n",
    "topplatforms = (\n",
    "    relevant_games_data\n",
    "    .pivot_table(index='platform', values='total_sales', aggfunc='sum')['total_sales']\n",
    "    .sort_values(ascending=False)\n",
    ")\n",
    "\n",
    "\n",
    "#построим стобчатую диаграмму с общими продажами за период 2013-2016 гг.\n",
    "topplatforms.plot(grid=True,figsize=(5, 5), kind='bar')\n",
    "plt.title('Продажи по платформам за период 2013-2016 гг.', fontsize=14, color='red')\n",
    "plt.xlabel('Платформы')\n",
    "plt.ylabel('Продажи')\n",
    "plt.show()\n",
    "\n",
    "#построим графики для каждой платформы с данными продаж по годам \n",
    "for platform in topplatforms.index:\n",
    "    temp_data = (\n",
    "        relevant_games_data\n",
    "        .loc[relevant_games_data['platform']==platform]\n",
    "        .pivot_table(index='year_of_release', values='total_sales', aggfunc='sum')\n",
    "        .rename(columns={'total_sales': platform})\n",
    "    )\n",
    "    \n",
    "    temp_data[platform].plot(legend=True, grid=True,figsize=(5, 5), xticks=[2013,2014,2015,2016])\n",
    "\n",
    "plt.title('Продажи по платформам в разные годы', fontsize=14, color='red')\n",
    "plt.xlabel('Год')\n",
    "plt.legend(bbox_to_anchor=(1.05, 1.0), loc='upper left')         \n",
    "plt.show()"
   ]
  },
  {
   "cell_type": "markdown",
   "metadata": {},
   "source": [
    "Из графиков видно, что по состоянию на 2015 год (данные за 2016 год могут быть не полными)  к наиболее перспективным  по продажам платформам можно отнести PS4, XOne, 3DS и WiiU"
   ]
  },
  {
   "cell_type": "markdown",
   "metadata": {},
   "source": [
    "### Построим графики «ящик с усами» по продажам игр в разбивке по платформам"
   ]
  },
  {
   "cell_type": "code",
   "execution_count": 24,
   "metadata": {},
   "outputs": [
    {
     "data": {
      "text/plain": [
       "<seaborn.axisgrid.FacetGrid at 0x7fc1ec26f9d0>"
      ]
     },
     "execution_count": 24,
     "metadata": {},
     "output_type": "execute_result"
    },
    {
     "data": {
      "image/png": "[encoded data removed]",
      "text/plain": [
       "<Figure size 648x216 with 1 Axes>"
      ]
     },
     "metadata": {
      "needs_background": "light"
     },
     "output_type": "display_data"
    }
   ],
   "source": [
    "#список перспективных платформ\n",
    "promising_platforms_list = ['PS4','XOne','3DS','WiiU']\n",
    "\n",
    "promising_platforms = relevant_games_data.query('platform in @promising_platforms_list')\n",
    "\n",
    "ax = sns.catplot(x='total_sales',\n",
    "            y='platform',\n",
    "            kind='box',\n",
    "            orient=\"h\",\n",
    "            height=3, \n",
    "            aspect=3,\n",
    "            data=promising_platforms)\n",
    "\n",
    "ax.fig.suptitle('Продажи', fontsize=14, color='red')\n",
    "\n",
    "ax.set(xlim=(0,3),xlabel='Продажи', ylabel='Платформы')"
   ]
  },
  {
   "cell_type": "markdown",
   "metadata": {},
   "source": [
    "Медианное значение продаж для игр на WiiU и XOne практически одинаковые. При этом максимальные значения данного параметра у XOne несколько выше. То есть продажа игр для XOne в среднем может принести больше прибыли\n",
    "\n",
    "Показатели 3DS и PS4 явно слабее\n"
   ]
  },
  {
   "cell_type": "markdown",
   "metadata": {},
   "source": [
    "### Проверим, как влияют на продажи внутри одной популярной платформы отзывы пользователей и критиков"
   ]
  },
  {
   "cell_type": "code",
   "execution_count": 25,
   "metadata": {
    "scrolled": true
   },
   "outputs": [
    {
     "data": {
      "image/png": "[encoded data removed]",
      "text/plain": [
       "<Figure size 432x216 with 2 Axes>"
      ]
     },
     "metadata": {
      "needs_background": "light"
     },
     "output_type": "display_data"
    },
    {
     "name": "stdout",
     "output_type": "stream",
     "text": [
      "Корреляция оценки критиков и продаж для XOne: 0.41628265915417356\n",
      "Корреляция оценки пользователей и продаж для XOne: -0.0015480560322179665\n"
     ]
    },
    {
     "data": {
      "text/plain": [
       "[]"
      ]
     },
     "execution_count": 25,
     "metadata": {},
     "output_type": "execute_result"
    }
   ],
   "source": [
    "\n",
    "#функция строит две диаграммы рассеянья, показывающие зависимость продаж игр \n",
    "#на платформе 'platform' от оценок критиков и пользователей\n",
    "#входные параметры:\n",
    "#platform -  наименование изучаемой платформы\n",
    "#data - датафрэйм с данными\n",
    "def rating_to_sells_corr(platform, data):\n",
    "    \n",
    "    #здесь будем сохранять сообщения о возникших ошибках\n",
    "    err = []\n",
    "    \n",
    "    # сабплот с двумя графиками \n",
    "    rows = 1\n",
    "    cols = 2\n",
    "    fig, ax = plt.subplots(rows, cols)\n",
    "\n",
    "    #получим данные по продажам для платформы\n",
    "    platform_data = data.loc[data['platform']==platform]\n",
    "    \n",
    "    #если для платформы platform нет данных о продажах возвращаем ошибку\n",
    "    if platform_data['total_sales'].notna().sum()==0:\n",
    "        err.append(f'Для платформы {platform} нет данных о продажах')\n",
    "        return err\n",
    "          \n",
    "    #если для платформы platform нет данных об оценках критиков фиксируем ошибку              \n",
    "    if platform_data['critic_score'].notna().sum()==0:\n",
    "        err.append(f'Для платформы {platform} нет оценок критиков')\n",
    "    else:\n",
    "        # если данные есть построим диаграмму рассеяния продаж и отзывов критиков\n",
    "        (platform_data\n",
    "            .pivot_table(index='critic_score', values='total_sales')\n",
    "            .plot(ax=ax[0], figsize=(6, 3), style='o', title='Оценки критиков', legend=False)\n",
    "            .set(xlabel='Оценки', ylabel='Глобальные продажи')\n",
    "        )          \n",
    "                   \n",
    "    #если для платформы platform нет данных об оценках пользователей фиксируем ошибку      \n",
    "    if platform_data['user_score'].notna().sum()==0:\n",
    "        err.append(f'Для платформы {platform} нет оценок пользователей')\n",
    "    else:\n",
    "        #если данные есть построим диаграму рассеяния продаж и отзывов пользователей\n",
    "        (platform_data\n",
    "            .pivot_table(index='user_score', values='total_sales')\n",
    "            .plot(ax=ax[1], figsize=(6, 3), style='o', title='Оценки пользователей', legend=False)\n",
    "            .set(xlabel='Оценки', ylabel='Глобальные продажи')\n",
    "        )\n",
    "           \n",
    "    fig.suptitle(f\"Зависимость продаж от рейтинга для {platform}\", fontsize=14, color='red')\n",
    "    plt.tight_layout()\n",
    "    plt.show()\n",
    "\n",
    "    print(f'Корреляция оценки критиков и продаж для {platform}:',\\\n",
    "          platform_data['critic_score'].corr(platform_data['total_sales']))\n",
    "    print(f'Корреляция оценки пользователей и продаж для {platform}:',\\\n",
    "          platform_data['user_score'].corr(platform_data['total_sales']))\n",
    "\n",
    "    return err\n",
    "\n",
    "#получим данные по продажам для платформы ps4\n",
    "rating_to_sells_corr('XOne', relevant_games_data)\n"
   ]
  },
  {
   "cell_type": "markdown",
   "metadata": {},
   "source": [
    "Прослеживается слабая связь между оценками критиков и продажами. При этом для оценок выше 60 отмечается рост показателя продаж.\n",
    "\n",
    "Корреляция оценок пользователей и продаж очень слабая"
   ]
  },
  {
   "cell_type": "code",
   "execution_count": 26,
   "metadata": {},
   "outputs": [
    {
     "data": {
      "image/png": "[encoded data removed]",
      "text/plain": [
       "<Figure size 432x216 with 2 Axes>"
      ]
     },
     "metadata": {
      "needs_background": "light"
     },
     "output_type": "display_data"
    },
    {
     "name": "stdout",
     "output_type": "stream",
     "text": [
      "Корреляция оценки критиков и продаж для PS4: 0.2814610239130507\n",
      "Корреляция оценки пользователей и продаж для PS4: -0.015800905253457016\n"
     ]
    },
    {
     "data": {
      "image/png": "[encoded data removed]",
      "text/plain": [
       "<Figure size 432x216 with 2 Axes>"
      ]
     },
     "metadata": {
      "needs_background": "light"
     },
     "output_type": "display_data"
    },
    {
     "name": "stdout",
     "output_type": "stream",
     "text": [
      "Корреляция оценки критиков и продаж для XOne: 0.41628265915417356\n",
      "Корреляция оценки пользователей и продаж для XOne: -0.0015480560322179665\n"
     ]
    },
    {
     "data": {
      "image/png": "[encoded data removed]",
      "text/plain": [
       "<Figure size 432x216 with 2 Axes>"
      ]
     },
     "metadata": {
      "needs_background": "light"
     },
     "output_type": "display_data"
    },
    {
     "name": "stdout",
     "output_type": "stream",
     "text": [
      "Корреляция оценки критиков и продаж для 3DS: 0.31241537523307256\n",
      "Корреляция оценки пользователей и продаж для 3DS: 0.1729989241353487\n"
     ]
    },
    {
     "data": {
      "image/png": "[encoded data removed]",
      "text/plain": [
       "<Figure size 432x216 with 2 Axes>"
      ]
     },
     "metadata": {
      "needs_background": "light"
     },
     "output_type": "display_data"
    },
    {
     "name": "stdout",
     "output_type": "stream",
     "text": [
      "Корреляция оценки критиков и продаж для WiiU: 0.40699144294591644\n",
      "Корреляция оценки пользователей и продаж для WiiU: 0.42687537562866285\n"
     ]
    }
   ],
   "source": [
    "#изучим взаимосвязь оценок критиков и пользователей с продажами.\n",
    "#будем рассматривать  платформы, для которых выпускались игры за актуальный период (2013-2016 гг.)\n",
    "#данные для таких платформ ранее были сохранены в переменной relevant_games_data\n",
    "#рассматривать будем только перспективные платформы из переменной promising_platforms_list\n",
    "\n",
    "for platform in promising_platforms_list:\n",
    "    rating_to_sells_corr(platform, relevant_games_data)\n"
   ]
  },
  {
   "cell_type": "markdown",
   "metadata": {},
   "source": [
    "- для платформ PS4, 3DS отмечаются аналогичные XOne особенности: прослеживается слабая связь между оценками критиков и продажами. Отсутсвует корреляция между оценками пользователей и продажами\n",
    "- для платформы WiiU характерна слабая зависимость оценок критиков и продаж, а также оценок пользователей и продаж\n",
    "- таким образом, сделать однозначный вывод о взаимосвязи рейтингов и продаж для всех платформ на основе данных об отдой выборочной будет не всегда правильно. Лучше проверить наличие корреляции признаков отдельно для каждой платформы"
   ]
  },
  {
   "cell_type": "markdown",
   "metadata": {},
   "source": [
    "### Распределение игр по жанрам"
   ]
  },
  {
   "cell_type": "code",
   "execution_count": 27,
   "metadata": {},
   "outputs": [
    {
     "data": {
      "image/png": "[encoded data removed]",
      "text/plain": [
       "<Figure size 720x360 with 1 Axes>"
      ]
     },
     "metadata": {
      "needs_background": "light"
     },
     "output_type": "display_data"
    },
    {
     "data": {
      "image/png": "[encoded data removed]",
      "text/plain": [
       "<Figure size 720x360 with 1 Axes>"
      ]
     },
     "metadata": {
      "needs_background": "light"
     },
     "output_type": "display_data"
    }
   ],
   "source": [
    "#изучим распределение игр. по жанрам за актуальный период (2013-2016 гг.)\n",
    "(relevant_games_data\n",
    "    .pivot_table(index='genre', values='name', aggfunc='count')\n",
    "    .sort_values(by='name', ascending=False)\n",
    "    .rename(columns={'name': 'Игры'})\n",
    "    .plot(grid=True, style='o-',kind='bar',figsize=(10, 5))\n",
    ")\n",
    "\n",
    "\n",
    "plt.title('Количество игр по жанрам', fontsize=14, color='red')\n",
    "plt.xlabel('Жанры')\n",
    "plt.ylabel('Количество игр')\n",
    "plt.show()\n",
    "\n",
    "#изучим медианные продажи по  жанрам за актуальный период (2013-2016 гг.)\n",
    "(relevant_games_data\n",
    "    .pivot_table(index='genre', values='total_sales', aggfunc='median')\n",
    "    .sort_values(by='total_sales', ascending=False)\n",
    "    .rename(columns={'total_sales': 'Медианные продажи'})\n",
    "    .plot(grid=True, style='o-',kind='bar',figsize=(10, 5))\n",
    ")\n",
    "\n",
    "plt.title('Медианные продажи по жанрам', fontsize=14, color='red')\n",
    "plt.xlabel('Жанры')\n",
    "plt.ylabel('Медианные продажи')\n",
    "plt.show()"
   ]
  },
  {
   "cell_type": "markdown",
   "metadata": {},
   "source": [
    "Больше всего игр выпускаю в жанрах Action, Role-Playing и Adventure. Меньше всего - Pazzle и Strategy\n",
    "\n",
    "Самые прибыльные игры - в жанрах Shooter, Platform и Sports. Самуые низкие сборы у Pazzle и Adventure"
   ]
  },
  {
   "cell_type": "markdown",
   "metadata": {},
   "source": [
    "**Вывод по разделу**\n",
    "- динамичное развитие игрового рынка началось с начала 90-х годов. Пик развития сектора пришелся на 2008-2009 гг. \n",
    "- срок жизни платформы в среднем составляет 10 лет. При этом пик популярности обычно приходится на 3-5 лет. С учетом этого при проведении дальнейшего исследования будем оперировать данными за \"актуальный период\" 2013-2016 гг. чтобы не захватить устаревшие данные и не пропустить формирование новых трендов\n",
    "- в настоящее время отмечается тенденция к снижению количества выпуска приложений и объемам их продаж по всем платформам. К наиболее перспективным платформам можно отнести PS4, XOne, 3DS и WiiU, которые по состоянию на 2015-2016 гг. показывают достаточно большие объемы продаж\n",
    "- медианное значение продаж для игр на WiiU и XOne практически одинаковые. При этом максимальные значения данного параметра у XOne несколько выше. То есть продажа игр для XOne потенциально может принести больше прибыли\n",
    "- продажи игр для разных платформ могут по разному зависеть от  оценок критиков и пользователей. Значит нельзя сделать  однозначный вывод о взаимосвязи рейтингов и продаж для всех платформ на основе данных об отдой выборочной. Для каждой платформы необходимо проверять наличие корреляции признаков отдельно\n",
    "- больше всего игр выпускаю в жанрах Action, Role-Playing и Adventure. Меньше всего - Strategy и Pazzle.\n",
    "- самые прибыльные игры в жанрах Shooter, Platform и Sports. Самые низкие сборы у Pazzle и Adventure"
   ]
  },
  {
   "cell_type": "markdown",
   "metadata": {},
   "source": [
    "### Составим портрет пользователя каждого региона"
   ]
  },
  {
   "cell_type": "markdown",
   "metadata": {},
   "source": [
    "**Изучим популярность различных платформ по регионам**"
   ]
  },
  {
   "cell_type": "code",
   "execution_count": 28,
   "metadata": {},
   "outputs": [
    {
     "data": {
      "image/png": "[encoded data removed]",
      "text/plain": [
       "<Figure size 1080x360 with 3 Axes>"
      ]
     },
     "metadata": {},
     "output_type": "display_data"
    }
   ],
   "source": [
    "#функция строит круговые диаграммы   продаж для заданного признака (столбца) для регионов из датасэта (Северная Америка, Европейский Союз, Япония),\n",
    "#признак, по которому сравниваются продажи задается column_to_group (имя столбца из исходного датафрэйма)\n",
    "#на каждой диаграмме приводятся данные по топ top_number значений для заданного признака в данном регионе\n",
    "def regional_sells(main_title, column_to_group, top_number, df):\n",
    "    #список регионов для анализа\n",
    "    regions = [('Продажи в северной Америке','na_sales'),\\\n",
    "              ('Продажи в Евросоюзе','eu_sales'),\\\n",
    "              ('Продажи в Японии','jp_sales')]\n",
    "\n",
    "\n",
    "    #создадим область с тремя графиками \n",
    "    fig, ax = plt.subplots(1, 3, figsize=(15, 5))\n",
    "\n",
    "    #в цикле получим данные по продажам для каждого региона\n",
    "    #и построим соответсвующую кргуовую диаграмму\n",
    "    for i, region in enumerate(regions):\n",
    "        #получим данные по продажам для очередного региона из списка fields\n",
    "        temp_data = df.groupby(column_to_group)[region[1]]\\\n",
    "        .sum()\\\n",
    "        .sort_values(ascending=False)\n",
    "\n",
    "        other_data_sum = temp_data[top_number:].sum()\n",
    "        temp_data = temp_data[:top_number].copy()\n",
    "        temp_data['Others'] = other_data_sum\n",
    "\n",
    "        temp_data.plot(ax=ax[i], kind='pie',   autopct='%1.1f%%', title=region[0], legend=False)\\\n",
    "                .set(ylabel='')\n",
    "\n",
    "    fig.suptitle(main_title, fontsize=14, color='red')\n",
    "    plt.show()\n",
    "\n",
    "#построим круговые лдиаграммы, демонстрирующие показатели продаж для различных платформ по трем регионам    \n",
    "regional_sells('Популярность платформ по регионам','platform',5, relevant_games_data)\n",
    " "
   ]
  },
  {
   "cell_type": "markdown",
   "metadata": {},
   "source": [
    "Самые популярные платформы: \n",
    "- в Северной Америке: XOne, X360 и PS4 \n",
    "- в Европейском Союзе: PS4, XOne и PS3\n",
    "- в Японии: 3DS, PS3 и PSV"
   ]
  },
  {
   "cell_type": "markdown",
   "metadata": {},
   "source": [
    "**Изучим популярность различных жанров по регионам**"
   ]
  },
  {
   "cell_type": "code",
   "execution_count": 29,
   "metadata": {},
   "outputs": [
    {
     "data": {
      "image/png": "[encoded data removed]",
      "text/plain": [
       "<Figure size 1080x360 with 3 Axes>"
      ]
     },
     "metadata": {},
     "output_type": "display_data"
    }
   ],
   "source": [
    "#построим круговые лдиаграммы, демонстрирующие показатели продаж для различных жанров по трем регионам    \n",
    "regional_sells('Популярность жанров по регионам','genre',5, relevant_games_data)"
   ]
  },
  {
   "cell_type": "markdown",
   "metadata": {},
   "source": [
    "Самые популярные жанры: \n",
    "- в Северной Америке: Action, Shooter и Sports\n",
    "- в Европейском Союзе: Action, Shooter и Sports\n",
    "- в Японии: Action, Role-Playing и Misc"
   ]
  },
  {
   "cell_type": "markdown",
   "metadata": {},
   "source": [
    "**Оценим влияние рейтинга ESRB  на продажи для различных регионов**"
   ]
  },
  {
   "cell_type": "code",
   "execution_count": 30,
   "metadata": {},
   "outputs": [
    {
     "data": {
      "image/png": "[encoded data removed]",
      "text/plain": [
       "<Figure size 1080x360 with 3 Axes>"
      ]
     },
     "metadata": {},
     "output_type": "display_data"
    }
   ],
   "source": [
    "#построим круговые диаграммы, демонстрирующие показатели продаж для различных показателей ESRB по трем регионам    \n",
    "regional_sells('Влияние рейтинга ESRB на продажи игр в различных регионах','rating',3, relevant_games_data)"
   ]
  },
  {
   "cell_type": "markdown",
   "metadata": {},
   "source": [
    "Наиболее продаваемые категории игр в зависимости от рейтинга ESRB:\n",
    "- в Северной Америке: М («Для взрослых») и Е («Для всех»)\n",
    "- в Европейском Союзе: М («Для взрослых») и no-rating (игры без рейтинга - они были выпущены не для США и Канады)\n",
    "- в Японии: no-rating, Т ( «Подросткам»)"
   ]
  },
  {
   "cell_type": "markdown",
   "metadata": {},
   "source": [
    "**Вывод по разделу**\n",
    "- \"типичный\" пользователь в Северной Америке играет в Action игры для взрослых на платформе XOne\n",
    "-  европейские игроки тоже любят Action игры для взрослых, но предпочитают платформу PS4\n",
    "- в Японии большинство пользователей предпочитают Action игры на платформе 3DS, выпущенные не для США и Канады"
   ]
  },
  {
   "cell_type": "markdown",
   "metadata": {},
   "source": [
    "## Проверим гипотизы"
   ]
  },
  {
   "cell_type": "markdown",
   "metadata": {},
   "source": [
    "**1.  Проверка гипотезы: Средние пользовательские рейтинги платформ Xbox One и PC одинаковые**\n",
    "```\n",
    "Н_0: Средний пользовательский рейтинги (user_score) XBox One = средний пользовательский рейтинги (user_score) PC \n",
    "Н_а: Средний пользовательский рейтинги (user_score) XBox One ≠ средний пользовательский рейтинги (user_score) PC \n",
    "```"
   ]
  },
  {
   "cell_type": "code",
   "execution_count": 31,
   "metadata": {},
   "outputs": [
    {
     "name": "stdout",
     "output_type": "stream",
     "text": [
      "Средний пользовательский рейтинг для XOne = 6.56\n",
      "Средний пользовательский рейтинг для PC = 6.29\n",
      "pvalue =  0.12337886482179786\n",
      "Не получилось отвергнуть нулевую гипотезу\n"
     ]
    }
   ],
   "source": [
    "#print(relevant_games_data['platform'].value_counts())\n",
    "\n",
    "xone_data_notna = relevant_games_data[(relevant_games_data['platform']=='XOne') \\\n",
    "                                        & (relevant_games_data['user_score'].notna())]['user_score']\n",
    "print(f'Средний пользовательский рейтинг для XOne = {xone_data_notna.mean():.2f}')\n",
    "\n",
    "#проверка\n",
    "#print(xone_data.shape[0], xone_data.isna().sum())\n",
    "#print(xone_data_notna.shape[0], xone_data_notna.isna().sum())\n",
    "\n",
    "pc_data_notna = relevant_games_data[(relevant_games_data['platform']=='PC') \\\n",
    "                                        & (relevant_games_data['user_score'].notna())]['user_score']\n",
    "print(f'Средний пользовательский рейтинг для PC = {pc_data_notna.mean():.2f}')\n",
    "\n",
    "#проверка\n",
    "#print(pc_data.shape[0], pc_data.isna().sum())\n",
    "#print(pc_data_notna.shape[0], pc_data_notna.isna().sum())\n",
    "\n",
    "# results = вызов метода для проверки гипотезы\n",
    "results = st.ttest_ind(xone_data_notna, pc_data_notna, equal_var = False, nan_policy='omit')\n",
    "\n",
    "# alpha = зададим значение уровня значимости\n",
    "alpha = .05\n",
    "\n",
    "# вывод значения p-value на экран \n",
    "print('pvalue = ',  results.pvalue)\n",
    "#print(results_notna.pvalue)\n",
    "\n",
    "\n",
    "# условный оператор с выводом строки с ответом\n",
    "if (results.pvalue < alpha):\n",
    "    print(\"Отвергаем нулевую гипотезу\")\n",
    "else:\n",
    "    print(\"Не получилось отвергнуть нулевую гипотезу\")\n"
   ]
  },
  {
   "cell_type": "markdown",
   "metadata": {},
   "source": [
    "Полученное значение p-value говорит о том, что имеющиеся различие средних пользовательских оценок платформ Xbox One и PC могут быть получены случайно с вероятностью около 12%. Такое значение показателя p-value слишком велико, чтобы делать уверенный вывод о различии средних пользовательских рейтингов платформ. Таким образом, ны не можем отвергнуть нулевую гипотезу."
   ]
  },
  {
   "cell_type": "markdown",
   "metadata": {},
   "source": [
    "**2.  Проверка гипотезы: Средние пользовательские рейтинги жанров Action (англ. «действие», экшен-игры) и Sports (англ. «спортивные соревнования») разные**\n",
    "```\n",
    "Н_0: Средний пользовательский рейтинг (user_score) жанра Action = средний пользовательскому рейтингу (user_score) жанра Sports. \n",
    "Н_а: Средний пользовательский рейтинг (user_score) жанра Action ≠ средний пользовательскому рейтингу (user_score) жанра Sports. \n",
    "```"
   ]
  },
  {
   "cell_type": "code",
   "execution_count": 32,
   "metadata": {},
   "outputs": [
    {
     "name": "stdout",
     "output_type": "stream",
     "text": [
      "Средний пользовательский рейтинг для жанра Action = 6.80\n",
      "Средний пользовательский рейтинг для жанра Sports = 5.24\n",
      "pvalue =  4.672245553225129e-17\n",
      "Отвергаем нулевую гипотезу\n"
     ]
    }
   ],
   "source": [
    "#print(relevant_games_data['platform'].value_counts())\n",
    "\n",
    "action_data_na = relevant_games_data[(relevant_games_data['genre']=='Action') \\\n",
    "                                        & (relevant_games_data['user_score'].notna())]['user_score']\n",
    "print(f'Средний пользовательский рейтинг для жанра Action = {action_data_na.mean():.2f}')\n",
    "\n",
    "sports_data_na = relevant_games_data[(relevant_games_data['genre']=='Sports') \\\n",
    "                                        & (relevant_games_data['user_score'].notna())]['user_score']\n",
    "print(f'Средний пользовательский рейтинг для жанра Sports = {sports_data_na.mean():.2f}')\n",
    "\n",
    "# results = вызов метода для проверки гипотезы\n",
    "results = st.ttest_ind(action_data_na, sports_data_na, equal_var = False, nan_policy='omit')\n",
    "\n",
    "# alpha = зададим значение уровня значимости\n",
    "alpha = .05\n",
    "\n",
    "# вывод значения p-value на экран \n",
    "print('pvalue = ',  results.pvalue)\n",
    "\n",
    "# условный оператор с выводом строки с ответом\n",
    "if (results.pvalue < alpha):\n",
    "    print(\"Отвергаем нулевую гипотезу\")\n",
    "else:\n",
    "    print(\"Не получилось отвергнуть нулевую гипотезу\")\n"
   ]
  },
  {
   "cell_type": "markdown",
   "metadata": {},
   "source": [
    "Полученное значение p-value очень мало, случайно получить такую разность средних значений пользовательского рейтинга для жанров Action и Sports маловероятно. Мы можем сделать вывод, что гипотиза скорее всего ошибочна."
   ]
  },
  {
   "cell_type": "markdown",
   "metadata": {},
   "source": [
    "**Вывод по разделу**\n",
    "\n",
    "Для проведения исследования мы проверили две (двусторонние) гипотезы о равенстве среднего двух генеральных совокупностей. При этом использовался метод scipy.stats.ttest_ind, так как выборки удовлетворяют необходимым требованиям:\n",
    "- генеральные совокупности не зависимы друг от друга\n",
    "- выборки достаточно велики и и мы можем полагать, что выборочные средние распределены нормально\n",
    "- выборки раного размера, поэтому параметр  equal_var укажем как False, чтобы тест посчитал дисперсии выборок по отдельности.\n",
    "\n",
    "В результате, в первом случае мы получили высокую вероятность случайного получения вычесленных по имеющимся данным средних пользовательских оценок для Xbox One и PC, что не позволило отвергнуть нулевую гипотезу. То есть существует значимая вероятность равенства средних пользовательских оценок для Xbox One и PC. \n",
    "\n",
    "Во втором случае p-value оказалось очень мало, в следствии чего мы смогли отвергнуть нулевую гипотезу и сделать вывод о том, что средние значения пользовательского рейтинга для жанров Action и Sports различаются с существенной вероятностью. "
   ]
  },
  {
   "cell_type": "markdown",
   "metadata": {},
   "source": [
    "## Общий вывод"
   ]
  },
  {
   "cell_type": "markdown",
   "metadata": {},
   "source": [
    "1) В ходе исследования изучили базу данных интернет-магазина по продаже компьютерных игр. По результатам первичной оценки было обнаружено наличие большого количества пропусков, а также ошибок автоматического определения типов данных в некоторых столбцах.\n",
    "\n",
    "2) В процессе предобработки  часть пропущенных значений удалось восстановить. Некоторые данные, пропуски в которых восстановить не удалось,  были удалены. С целью проведения исследования в данные был добавлен дополнительный столбец с общими продажами для каждой игры.\n",
    "\n",
    "3) Изучены данные об основных показателей реализации игровых приложений в глобальном масштабе, а также их влияние на итоговые продажи. Установлено:\n",
    "- динамичное развитие игрового рынка началось с начала 90-х годов. Пик развития сектора пришелся на 2008-2009 гг. \n",
    "- срок жизни платформы в среднем составляет 10 лет. При этом пик популярности обычно приходится на 3-5 лет. С учетом этого при проведении дальнейшего исследования будем оперировать данными за \"актуальный период\" 2013-2016 гг. чтобы не захватить устаревшие данные и не пропустить формирование новых трендов\n",
    "- в настоящее время отмечается тенденция к снижению количества выпуска приложений и объемам их продаж по всем платформам. К наиболее перспективным платформам можно отнести PS4, XOne, 3DS и WiiU, которые по состоянию на 2015-2016 гг. показывают достаточно большие объемы продаж\n",
    "- медианное значение продаж для игр на WiiU и XOne практически одинаковые. При этом максимальные значения данного параметра у XOne несколько выше. То есть продажа игр для XOne в среднем может принести больше прибыли\n",
    "- продажи игр для разных платформ могут по разному зависеть от  оценок критиков и пользователей. Нельзя сделать  однозначный вывод о взаимосвязи рейтингов и продаж для всех платформ на основе данных об отдой выборочной. Для каждой платформы необходимо проверять наличие корреляции признаков отдельно\n",
    "- больше всего игр выпускаю в жанрах Action, Role-Playing и Adventure. Меньше всего - Strategy и Pazzle.\n",
    "- самые прибыльные игры в жанрах Shooter, Platform и Sports. Самые низкие сборы у Pazzle и Adventure\n",
    "\n",
    "4) Изучены данные по продажам в разбивке по регионам (Северная Америка, ЕС, Япония). Установлено, что:\n",
    "- \"типичный\" пользователь в Северной Америке играет в Action игры для взрослых на платформе XOne\n",
    "-  европейские игроки тоже любят Action игры для взрослых, но предпочитают платформу PS4\n",
    "- в Японии большинство пользователей также предпочитают Action игры, но на платформе 3DS и выпущенные не для США и Канады\n",
    "\n",
    "5) В ходе исследования  рассмотрены две исследовательские гипотезы. В результате сделаны следующие выводы:\n",
    "- существует значимая вероятность равенства средних пользовательских оценок платформ Xbox One и PC\n",
    "- средние пользовательские рейтинги жанров Action и Sports скорее всего разные\n",
    "\n",
    "6) В исходных данных присутсвует значительное количество пропусков. Необходимо совместно с разработчиками разобраться в причинах, проработать возможности решения проблемных моментов.\n",
    "    "
   ]
  }
 ],
 "metadata": {
  "ExecuteTimeLog": [
   {
    "duration": 859,
    "start_time": "2023-01-17T18:25:10.680Z"
   },
   {
    "duration": 245,
    "start_time": "2023-01-17T18:26:02.484Z"
   },
   {
    "duration": 2,
    "start_time": "2023-01-17T18:26:15.713Z"
   },
   {
    "duration": 55,
    "start_time": "2023-01-17T18:29:01.461Z"
   },
   {
    "duration": 5,
    "start_time": "2023-01-17T18:29:18.079Z"
   },
   {
    "duration": 3,
    "start_time": "2023-01-17T18:29:20.720Z"
   },
   {
    "duration": 48,
    "start_time": "2023-01-17T18:29:23.787Z"
   },
   {
    "duration": 217,
    "start_time": "2023-01-17T18:29:30.215Z"
   },
   {
    "duration": 26,
    "start_time": "2023-01-17T18:29:51.183Z"
   },
   {
    "duration": 18,
    "start_time": "2023-01-17T18:32:50.004Z"
   },
   {
    "duration": 456,
    "start_time": "2023-01-17T18:46:38.281Z"
   },
   {
    "duration": 729,
    "start_time": "2023-01-17T18:49:14.025Z"
   },
   {
    "duration": 7,
    "start_time": "2023-01-17T18:51:36.103Z"
   },
   {
    "duration": 11,
    "start_time": "2023-01-17T18:52:02.566Z"
   },
   {
    "duration": 10,
    "start_time": "2023-01-17T18:52:24.669Z"
   },
   {
    "duration": 101,
    "start_time": "2023-01-17T18:52:46.358Z"
   },
   {
    "duration": 11,
    "start_time": "2023-01-17T18:52:55.158Z"
   },
   {
    "duration": 13,
    "start_time": "2023-01-17T18:53:19.907Z"
   },
   {
    "duration": 6,
    "start_time": "2023-01-17T18:53:58.950Z"
   },
   {
    "duration": 5,
    "start_time": "2023-01-17T18:54:43.211Z"
   },
   {
    "duration": 7,
    "start_time": "2023-01-17T18:55:07.709Z"
   },
   {
    "duration": 20,
    "start_time": "2023-01-17T18:57:26.094Z"
   },
   {
    "duration": 15,
    "start_time": "2023-01-17T18:57:32.595Z"
   },
   {
    "duration": 72,
    "start_time": "2023-01-17T19:02:31.324Z"
   },
   {
    "duration": 6,
    "start_time": "2023-01-17T19:03:34.057Z"
   },
   {
    "duration": 4,
    "start_time": "2023-01-17T19:07:15.094Z"
   },
   {
    "duration": 5,
    "start_time": "2023-01-17T19:09:35.348Z"
   },
   {
    "duration": 11,
    "start_time": "2023-01-17T19:11:24.888Z"
   },
   {
    "duration": 11,
    "start_time": "2023-01-17T19:11:42.582Z"
   },
   {
    "duration": 7,
    "start_time": "2023-01-17T19:11:53.948Z"
   },
   {
    "duration": 10,
    "start_time": "2023-01-17T19:12:06.900Z"
   },
   {
    "duration": 8,
    "start_time": "2023-01-17T19:12:41.130Z"
   },
   {
    "duration": 10,
    "start_time": "2023-01-17T19:12:48.149Z"
   },
   {
    "duration": 10,
    "start_time": "2023-01-17T19:13:06.304Z"
   },
   {
    "duration": 43,
    "start_time": "2023-01-17T19:20:38.233Z"
   },
   {
    "duration": 10,
    "start_time": "2023-01-17T19:21:18.122Z"
   },
   {
    "duration": 16,
    "start_time": "2023-01-17T19:23:51.562Z"
   },
   {
    "duration": 13,
    "start_time": "2023-01-17T19:25:05.275Z"
   },
   {
    "duration": 23,
    "start_time": "2023-01-17T19:25:22.182Z"
   },
   {
    "duration": 22,
    "start_time": "2023-01-17T19:27:22.207Z"
   },
   {
    "duration": 12,
    "start_time": "2023-01-17T19:27:55.637Z"
   },
   {
    "duration": 10,
    "start_time": "2023-01-17T19:29:27.533Z"
   },
   {
    "duration": 8,
    "start_time": "2023-01-17T19:29:48.869Z"
   },
   {
    "duration": 50,
    "start_time": "2023-01-17T19:31:26.373Z"
   },
   {
    "duration": 5,
    "start_time": "2023-01-17T19:37:40.625Z"
   },
   {
    "duration": 27,
    "start_time": "2023-01-17T19:38:36.175Z"
   },
   {
    "duration": 14,
    "start_time": "2023-01-17T19:38:57.288Z"
   },
   {
    "duration": 15,
    "start_time": "2023-01-17T19:39:19.661Z"
   },
   {
    "duration": 12,
    "start_time": "2023-01-17T19:42:58.127Z"
   },
   {
    "duration": 2,
    "start_time": "2023-01-17T19:45:41.599Z"
   },
   {
    "duration": 9,
    "start_time": "2023-01-17T19:45:41.603Z"
   },
   {
    "duration": 76,
    "start_time": "2023-01-17T19:45:41.614Z"
   },
   {
    "duration": 14,
    "start_time": "2023-01-17T19:45:41.692Z"
   },
   {
    "duration": 34,
    "start_time": "2023-01-17T19:45:41.709Z"
   },
   {
    "duration": 7,
    "start_time": "2023-01-17T19:45:41.745Z"
   },
   {
    "duration": 51,
    "start_time": "2023-01-17T19:45:41.754Z"
   },
   {
    "duration": 10,
    "start_time": "2023-01-17T19:45:41.807Z"
   },
   {
    "duration": 26,
    "start_time": "2023-01-17T19:45:41.819Z"
   },
   {
    "duration": 8,
    "start_time": "2023-01-17T19:45:44.114Z"
   },
   {
    "duration": 18,
    "start_time": "2023-01-17T19:46:36.979Z"
   },
   {
    "duration": 9,
    "start_time": "2023-01-17T19:47:03.154Z"
   },
   {
    "duration": 11,
    "start_time": "2023-01-17T19:47:45.240Z"
   },
   {
    "duration": 2,
    "start_time": "2023-01-17T19:47:54.984Z"
   },
   {
    "duration": 6,
    "start_time": "2023-01-17T19:47:54.988Z"
   },
   {
    "duration": 58,
    "start_time": "2023-01-17T19:47:54.996Z"
   },
   {
    "duration": 30,
    "start_time": "2023-01-17T19:47:55.056Z"
   },
   {
    "duration": 39,
    "start_time": "2023-01-17T19:47:55.094Z"
   },
   {
    "duration": 15,
    "start_time": "2023-01-17T19:47:55.137Z"
   },
   {
    "duration": 54,
    "start_time": "2023-01-17T19:47:55.154Z"
   },
   {
    "duration": 27,
    "start_time": "2023-01-17T19:47:55.210Z"
   },
   {
    "duration": 38,
    "start_time": "2023-01-17T19:47:55.239Z"
   },
   {
    "duration": 12,
    "start_time": "2023-01-17T19:47:58.311Z"
   },
   {
    "duration": 13,
    "start_time": "2023-01-17T19:49:26.363Z"
   },
   {
    "duration": 135,
    "start_time": "2023-01-17T19:49:42.885Z"
   },
   {
    "duration": 6,
    "start_time": "2023-01-17T19:56:25.559Z"
   },
   {
    "duration": 5,
    "start_time": "2023-01-17T19:56:34.102Z"
   },
   {
    "duration": 27,
    "start_time": "2023-01-17T20:02:01.581Z"
   },
   {
    "duration": 20,
    "start_time": "2023-01-17T20:02:17.819Z"
   },
   {
    "duration": 23,
    "start_time": "2023-01-17T20:08:06.051Z"
   },
   {
    "duration": 24,
    "start_time": "2023-01-17T20:08:19.596Z"
   },
   {
    "duration": 26,
    "start_time": "2023-01-17T20:09:12.663Z"
   },
   {
    "duration": 6,
    "start_time": "2023-01-17T20:09:58.498Z"
   },
   {
    "duration": 6,
    "start_time": "2023-01-17T20:10:13.958Z"
   },
   {
    "duration": 2,
    "start_time": "2023-01-17T20:12:17.281Z"
   },
   {
    "duration": 97,
    "start_time": "2023-01-17T20:12:21.983Z"
   },
   {
    "duration": 36,
    "start_time": "2023-01-17T20:13:47.746Z"
   },
   {
    "duration": 41,
    "start_time": "2023-01-17T20:13:54.606Z"
   },
   {
    "duration": 41,
    "start_time": "2023-01-17T20:14:09.341Z"
   },
   {
    "duration": 14,
    "start_time": "2023-01-17T20:14:23.133Z"
   },
   {
    "duration": 34,
    "start_time": "2023-01-17T20:20:42.853Z"
   },
   {
    "duration": 5,
    "start_time": "2023-01-17T20:21:07.297Z"
   },
   {
    "duration": 29,
    "start_time": "2023-01-17T20:47:39.134Z"
   },
   {
    "duration": 23,
    "start_time": "2023-01-17T20:48:18.212Z"
   },
   {
    "duration": 29,
    "start_time": "2023-01-17T20:56:25.958Z"
   },
   {
    "duration": 51,
    "start_time": "2023-01-18T17:34:59.890Z"
   },
   {
    "duration": 1422,
    "start_time": "2023-01-18T17:35:06.167Z"
   },
   {
    "duration": 3,
    "start_time": "2023-01-18T17:35:07.591Z"
   },
   {
    "duration": 114,
    "start_time": "2023-01-18T17:35:07.596Z"
   },
   {
    "duration": 19,
    "start_time": "2023-01-18T17:35:07.712Z"
   },
   {
    "duration": 29,
    "start_time": "2023-01-18T17:35:07.733Z"
   },
   {
    "duration": 5,
    "start_time": "2023-01-18T17:35:07.764Z"
   },
   {
    "duration": 19,
    "start_time": "2023-01-18T17:35:07.771Z"
   },
   {
    "duration": 10,
    "start_time": "2023-01-18T17:35:07.792Z"
   },
   {
    "duration": 34,
    "start_time": "2023-01-18T17:35:07.803Z"
   },
   {
    "duration": 26,
    "start_time": "2023-01-18T17:35:07.838Z"
   },
   {
    "duration": 32,
    "start_time": "2023-01-18T17:35:07.866Z"
   },
   {
    "duration": 75,
    "start_time": "2023-01-18T17:35:21.675Z"
   },
   {
    "duration": 14,
    "start_time": "2023-01-18T17:35:49.494Z"
   },
   {
    "duration": 4,
    "start_time": "2023-01-18T17:36:23.522Z"
   },
   {
    "duration": 14,
    "start_time": "2023-01-18T17:36:34.739Z"
   },
   {
    "duration": 10,
    "start_time": "2023-01-18T17:54:15.102Z"
   },
   {
    "duration": 144,
    "start_time": "2023-01-18T17:54:22.679Z"
   },
   {
    "duration": 12,
    "start_time": "2023-01-18T17:55:13.657Z"
   },
   {
    "duration": 9,
    "start_time": "2023-01-18T17:55:21.979Z"
   },
   {
    "duration": 108,
    "start_time": "2023-01-18T17:55:35.759Z"
   },
   {
    "duration": 14,
    "start_time": "2023-01-18T17:56:02.404Z"
   },
   {
    "duration": 121,
    "start_time": "2023-01-18T17:56:15.949Z"
   },
   {
    "duration": 11,
    "start_time": "2023-01-18T17:56:23.880Z"
   },
   {
    "duration": 9,
    "start_time": "2023-01-18T17:56:49.692Z"
   },
   {
    "duration": 12,
    "start_time": "2023-01-18T17:57:36.766Z"
   },
   {
    "duration": 12,
    "start_time": "2023-01-18T17:57:39.643Z"
   },
   {
    "duration": 19,
    "start_time": "2023-01-18T17:57:46.481Z"
   },
   {
    "duration": 3,
    "start_time": "2023-01-18T18:00:09.121Z"
   },
   {
    "duration": 106,
    "start_time": "2023-01-18T18:02:04.394Z"
   },
   {
    "duration": 3,
    "start_time": "2023-01-18T18:05:05.292Z"
   },
   {
    "duration": 6,
    "start_time": "2023-01-18T18:06:05.020Z"
   },
   {
    "duration": 19,
    "start_time": "2023-01-18T18:06:27.838Z"
   },
   {
    "duration": 5,
    "start_time": "2023-01-18T18:10:19.054Z"
   },
   {
    "duration": 16,
    "start_time": "2023-01-18T18:10:25.535Z"
   },
   {
    "duration": 8,
    "start_time": "2023-01-18T18:10:54.335Z"
   },
   {
    "duration": 10,
    "start_time": "2023-01-18T18:11:35.581Z"
   },
   {
    "duration": 10,
    "start_time": "2023-01-18T18:11:49.290Z"
   },
   {
    "duration": 5,
    "start_time": "2023-01-18T18:12:22.352Z"
   },
   {
    "duration": 10,
    "start_time": "2023-01-18T18:38:15.134Z"
   },
   {
    "duration": 18,
    "start_time": "2023-01-18T18:38:34.148Z"
   },
   {
    "duration": 65,
    "start_time": "2023-01-18T18:38:45.872Z"
   },
   {
    "duration": 5,
    "start_time": "2023-01-18T18:39:57.335Z"
   },
   {
    "duration": 7,
    "start_time": "2023-01-18T18:40:32.034Z"
   },
   {
    "duration": 12,
    "start_time": "2023-01-18T19:08:52.767Z"
   },
   {
    "duration": 87,
    "start_time": "2023-01-18T19:09:25.133Z"
   },
   {
    "duration": 12,
    "start_time": "2023-01-18T19:10:26.853Z"
   },
   {
    "duration": 11,
    "start_time": "2023-01-18T19:10:37.425Z"
   },
   {
    "duration": 3,
    "start_time": "2023-01-18T19:11:09.845Z"
   },
   {
    "duration": 10,
    "start_time": "2023-01-18T19:11:09.849Z"
   },
   {
    "duration": 51,
    "start_time": "2023-01-18T19:11:09.860Z"
   },
   {
    "duration": 14,
    "start_time": "2023-01-18T19:11:09.913Z"
   },
   {
    "duration": 18,
    "start_time": "2023-01-18T19:11:09.929Z"
   },
   {
    "duration": 7,
    "start_time": "2023-01-18T19:11:09.948Z"
   },
   {
    "duration": 21,
    "start_time": "2023-01-18T19:11:09.957Z"
   },
   {
    "duration": 9,
    "start_time": "2023-01-18T19:11:09.980Z"
   },
   {
    "duration": 19,
    "start_time": "2023-01-18T19:11:09.990Z"
   },
   {
    "duration": 15,
    "start_time": "2023-01-18T19:11:10.028Z"
   },
   {
    "duration": 21,
    "start_time": "2023-01-18T19:11:10.045Z"
   },
   {
    "duration": 19,
    "start_time": "2023-01-18T19:11:10.068Z"
   },
   {
    "duration": 9,
    "start_time": "2023-01-18T19:11:13.742Z"
   },
   {
    "duration": 3,
    "start_time": "2023-01-18T19:11:35.110Z"
   },
   {
    "duration": 22,
    "start_time": "2023-01-18T19:11:35.114Z"
   },
   {
    "duration": 65,
    "start_time": "2023-01-18T19:11:35.138Z"
   },
   {
    "duration": 15,
    "start_time": "2023-01-18T19:11:35.205Z"
   },
   {
    "duration": 23,
    "start_time": "2023-01-18T19:11:35.222Z"
   },
   {
    "duration": 27,
    "start_time": "2023-01-18T19:11:35.247Z"
   },
   {
    "duration": 57,
    "start_time": "2023-01-18T19:11:35.276Z"
   },
   {
    "duration": 9,
    "start_time": "2023-01-18T19:11:35.334Z"
   },
   {
    "duration": 23,
    "start_time": "2023-01-18T19:11:35.345Z"
   },
   {
    "duration": 39,
    "start_time": "2023-01-18T19:11:35.370Z"
   },
   {
    "duration": 3,
    "start_time": "2023-01-18T19:11:35.411Z"
   },
   {
    "duration": 10,
    "start_time": "2023-01-18T19:11:35.416Z"
   },
   {
    "duration": 9,
    "start_time": "2023-01-18T19:11:37.965Z"
   },
   {
    "duration": 26,
    "start_time": "2023-01-18T19:12:30.068Z"
   },
   {
    "duration": 3,
    "start_time": "2023-01-18T19:13:25.037Z"
   },
   {
    "duration": 9,
    "start_time": "2023-01-18T19:13:25.043Z"
   },
   {
    "duration": 52,
    "start_time": "2023-01-18T19:13:25.053Z"
   },
   {
    "duration": 13,
    "start_time": "2023-01-18T19:13:25.106Z"
   },
   {
    "duration": 14,
    "start_time": "2023-01-18T19:13:25.121Z"
   },
   {
    "duration": 4,
    "start_time": "2023-01-18T19:13:25.137Z"
   },
   {
    "duration": 19,
    "start_time": "2023-01-18T19:13:25.143Z"
   },
   {
    "duration": 9,
    "start_time": "2023-01-18T19:13:25.163Z"
   },
   {
    "duration": 16,
    "start_time": "2023-01-18T19:13:25.173Z"
   },
   {
    "duration": 9,
    "start_time": "2023-01-18T19:13:25.190Z"
   },
   {
    "duration": 25,
    "start_time": "2023-01-18T19:13:25.201Z"
   },
   {
    "duration": 7,
    "start_time": "2023-01-18T19:13:25.228Z"
   },
   {
    "duration": 10,
    "start_time": "2023-01-18T19:13:26.937Z"
   },
   {
    "duration": 17,
    "start_time": "2023-01-18T19:13:35.644Z"
   },
   {
    "duration": 11,
    "start_time": "2023-01-18T19:15:45.571Z"
   },
   {
    "duration": 17,
    "start_time": "2023-01-18T19:18:13.692Z"
   },
   {
    "duration": 0,
    "start_time": "2023-01-18T19:18:13.711Z"
   },
   {
    "duration": 3,
    "start_time": "2023-01-18T19:18:16.356Z"
   },
   {
    "duration": 13,
    "start_time": "2023-01-18T19:18:16.362Z"
   },
   {
    "duration": 59,
    "start_time": "2023-01-18T19:18:16.377Z"
   },
   {
    "duration": 13,
    "start_time": "2023-01-18T19:18:16.438Z"
   },
   {
    "duration": 14,
    "start_time": "2023-01-18T19:18:16.453Z"
   },
   {
    "duration": 4,
    "start_time": "2023-01-18T19:18:16.468Z"
   },
   {
    "duration": 18,
    "start_time": "2023-01-18T19:18:16.474Z"
   },
   {
    "duration": 8,
    "start_time": "2023-01-18T19:18:16.494Z"
   },
   {
    "duration": 33,
    "start_time": "2023-01-18T19:18:16.503Z"
   },
   {
    "duration": 8,
    "start_time": "2023-01-18T19:18:16.538Z"
   },
   {
    "duration": 6,
    "start_time": "2023-01-18T19:18:16.547Z"
   },
   {
    "duration": 16,
    "start_time": "2023-01-18T19:18:16.554Z"
   },
   {
    "duration": 19,
    "start_time": "2023-01-18T19:18:16.572Z"
   },
   {
    "duration": 0,
    "start_time": "2023-01-18T19:18:16.593Z"
   },
   {
    "duration": 21,
    "start_time": "2023-01-18T19:18:22.694Z"
   },
   {
    "duration": 7,
    "start_time": "2023-01-18T19:18:57.254Z"
   },
   {
    "duration": 14,
    "start_time": "2023-01-18T19:19:30.177Z"
   },
   {
    "duration": 15,
    "start_time": "2023-01-18T19:20:18.254Z"
   },
   {
    "duration": 18,
    "start_time": "2023-01-18T19:24:43.930Z"
   },
   {
    "duration": 7,
    "start_time": "2023-01-18T19:32:35.843Z"
   },
   {
    "duration": 1144,
    "start_time": "2023-01-18T20:15:29.442Z"
   },
   {
    "duration": 3,
    "start_time": "2023-01-18T20:15:34.232Z"
   },
   {
    "duration": 17,
    "start_time": "2023-01-18T20:15:34.237Z"
   },
   {
    "duration": 54,
    "start_time": "2023-01-18T20:15:34.256Z"
   },
   {
    "duration": 14,
    "start_time": "2023-01-18T20:15:34.311Z"
   },
   {
    "duration": 22,
    "start_time": "2023-01-18T20:15:34.327Z"
   },
   {
    "duration": 8,
    "start_time": "2023-01-18T20:15:34.351Z"
   },
   {
    "duration": 25,
    "start_time": "2023-01-18T20:15:34.360Z"
   },
   {
    "duration": 9,
    "start_time": "2023-01-18T20:15:34.387Z"
   },
   {
    "duration": 23,
    "start_time": "2023-01-18T20:15:34.397Z"
   },
   {
    "duration": 26,
    "start_time": "2023-01-18T20:15:34.422Z"
   },
   {
    "duration": 3,
    "start_time": "2023-01-18T20:15:34.450Z"
   },
   {
    "duration": 16,
    "start_time": "2023-01-18T20:15:34.454Z"
   },
   {
    "duration": 6,
    "start_time": "2023-01-18T20:15:34.472Z"
   },
   {
    "duration": 1104,
    "start_time": "2023-01-18T20:15:36.856Z"
   },
   {
    "duration": 9,
    "start_time": "2023-01-18T20:16:06.162Z"
   },
   {
    "duration": 6,
    "start_time": "2023-01-18T20:16:37.677Z"
   },
   {
    "duration": 10,
    "start_time": "2023-01-18T20:16:46.331Z"
   },
   {
    "duration": 15,
    "start_time": "2023-01-18T20:17:47.719Z"
   },
   {
    "duration": 212,
    "start_time": "2023-01-18T20:19:31.928Z"
   },
   {
    "duration": 948,
    "start_time": "2023-01-18T20:20:17.169Z"
   },
   {
    "duration": 1160,
    "start_time": "2023-01-18T20:21:15.517Z"
   },
   {
    "duration": 972,
    "start_time": "2023-01-18T20:21:29.437Z"
   },
   {
    "duration": 1630,
    "start_time": "2023-01-18T20:21:43.268Z"
   },
   {
    "duration": 5,
    "start_time": "2023-01-18T20:24:12.018Z"
   },
   {
    "duration": 25,
    "start_time": "2023-01-18T20:24:29.633Z"
   },
   {
    "duration": 24,
    "start_time": "2023-01-18T20:25:06.043Z"
   },
   {
    "duration": 19,
    "start_time": "2023-01-18T20:25:18.474Z"
   },
   {
    "duration": 1811,
    "start_time": "2023-01-18T20:25:36.227Z"
   },
   {
    "duration": 1766,
    "start_time": "2023-01-18T20:26:53.790Z"
   },
   {
    "duration": 1845,
    "start_time": "2023-01-18T20:27:35.274Z"
   },
   {
    "duration": 1696,
    "start_time": "2023-01-18T20:28:04.872Z"
   },
   {
    "duration": 1745,
    "start_time": "2023-01-18T20:29:05.594Z"
   },
   {
    "duration": 1720,
    "start_time": "2023-01-18T20:29:21.376Z"
   },
   {
    "duration": 1703,
    "start_time": "2023-01-18T20:30:25.238Z"
   },
   {
    "duration": 11,
    "start_time": "2023-01-18T20:34:54.918Z"
   },
   {
    "duration": 213,
    "start_time": "2023-01-18T20:35:07.580Z"
   },
   {
    "duration": 208,
    "start_time": "2023-01-18T20:35:16.719Z"
   },
   {
    "duration": 221,
    "start_time": "2023-01-18T20:35:37.877Z"
   },
   {
    "duration": 188,
    "start_time": "2023-01-18T20:35:46.678Z"
   },
   {
    "duration": 333,
    "start_time": "2023-01-18T20:35:56.404Z"
   },
   {
    "duration": 211,
    "start_time": "2023-01-18T20:36:46.019Z"
   },
   {
    "duration": 202,
    "start_time": "2023-01-18T20:36:59.402Z"
   },
   {
    "duration": 1497,
    "start_time": "2023-01-19T19:24:33.960Z"
   },
   {
    "duration": 3,
    "start_time": "2023-01-19T19:24:35.459Z"
   },
   {
    "duration": 198,
    "start_time": "2023-01-19T19:24:35.463Z"
   },
   {
    "duration": 18,
    "start_time": "2023-01-19T19:24:35.663Z"
   },
   {
    "duration": 16,
    "start_time": "2023-01-19T19:24:35.683Z"
   },
   {
    "duration": 5,
    "start_time": "2023-01-19T19:24:35.701Z"
   },
   {
    "duration": 20,
    "start_time": "2023-01-19T19:24:35.708Z"
   },
   {
    "duration": 12,
    "start_time": "2023-01-19T19:24:35.748Z"
   },
   {
    "duration": 15,
    "start_time": "2023-01-19T19:24:35.762Z"
   },
   {
    "duration": 18,
    "start_time": "2023-01-19T19:24:35.779Z"
   },
   {
    "duration": 3,
    "start_time": "2023-01-19T19:24:35.799Z"
   },
   {
    "duration": 26,
    "start_time": "2023-01-19T19:24:35.805Z"
   },
   {
    "duration": 20,
    "start_time": "2023-01-19T19:24:35.832Z"
   },
   {
    "duration": 27,
    "start_time": "2023-01-19T19:24:35.855Z"
   },
   {
    "duration": 6,
    "start_time": "2023-01-19T19:24:35.884Z"
   },
   {
    "duration": 2000,
    "start_time": "2023-01-19T19:24:35.892Z"
   },
   {
    "duration": 111,
    "start_time": "2023-01-19T19:24:41.503Z"
   },
   {
    "duration": 200,
    "start_time": "2023-01-19T19:25:10.342Z"
   },
   {
    "duration": 253,
    "start_time": "2023-01-19T19:25:37.343Z"
   },
   {
    "duration": 19,
    "start_time": "2023-01-19T19:28:38.952Z"
   },
   {
    "duration": 4,
    "start_time": "2023-01-19T19:29:01.192Z"
   },
   {
    "duration": 25,
    "start_time": "2023-01-19T19:29:01.199Z"
   },
   {
    "duration": 111,
    "start_time": "2023-01-19T19:29:01.226Z"
   },
   {
    "duration": 20,
    "start_time": "2023-01-19T19:29:01.339Z"
   },
   {
    "duration": 28,
    "start_time": "2023-01-19T19:29:01.362Z"
   },
   {
    "duration": 5,
    "start_time": "2023-01-19T19:29:01.394Z"
   },
   {
    "duration": 26,
    "start_time": "2023-01-19T19:29:01.401Z"
   },
   {
    "duration": 29,
    "start_time": "2023-01-19T19:29:01.429Z"
   },
   {
    "duration": 19,
    "start_time": "2023-01-19T19:29:01.460Z"
   },
   {
    "duration": 31,
    "start_time": "2023-01-19T19:29:01.481Z"
   },
   {
    "duration": 18,
    "start_time": "2023-01-19T19:29:01.514Z"
   },
   {
    "duration": 42,
    "start_time": "2023-01-19T19:29:01.534Z"
   },
   {
    "duration": 16,
    "start_time": "2023-01-19T19:29:04.354Z"
   },
   {
    "duration": 3,
    "start_time": "2023-01-19T19:37:19.808Z"
   },
   {
    "duration": 8,
    "start_time": "2023-01-19T19:37:19.814Z"
   },
   {
    "duration": 66,
    "start_time": "2023-01-19T19:37:19.824Z"
   },
   {
    "duration": 18,
    "start_time": "2023-01-19T19:37:19.893Z"
   },
   {
    "duration": 36,
    "start_time": "2023-01-19T19:37:19.914Z"
   },
   {
    "duration": 6,
    "start_time": "2023-01-19T19:37:19.952Z"
   },
   {
    "duration": 37,
    "start_time": "2023-01-19T19:37:19.960Z"
   },
   {
    "duration": 13,
    "start_time": "2023-01-19T19:37:19.999Z"
   },
   {
    "duration": 47,
    "start_time": "2023-01-19T19:37:20.014Z"
   },
   {
    "duration": 16,
    "start_time": "2023-01-19T19:37:20.063Z"
   },
   {
    "duration": 20,
    "start_time": "2023-01-19T19:37:20.081Z"
   },
   {
    "duration": 15,
    "start_time": "2023-01-19T19:37:20.103Z"
   },
   {
    "duration": 17,
    "start_time": "2023-01-19T19:37:20.120Z"
   },
   {
    "duration": 20,
    "start_time": "2023-01-19T19:37:22.455Z"
   },
   {
    "duration": 14,
    "start_time": "2023-01-19T19:38:13.624Z"
   },
   {
    "duration": 22,
    "start_time": "2023-01-19T19:39:01.864Z"
   },
   {
    "duration": 14,
    "start_time": "2023-01-19T19:39:26.189Z"
   },
   {
    "duration": 15,
    "start_time": "2023-01-19T19:39:44.347Z"
   },
   {
    "duration": 3,
    "start_time": "2023-01-19T19:50:16.556Z"
   },
   {
    "duration": 49,
    "start_time": "2023-01-19T20:05:15.585Z"
   },
   {
    "duration": 365,
    "start_time": "2023-01-19T20:06:46.397Z"
   },
   {
    "duration": 322,
    "start_time": "2023-01-19T20:07:41.745Z"
   },
   {
    "duration": 5,
    "start_time": "2023-01-19T20:11:12.484Z"
   },
   {
    "duration": 6,
    "start_time": "2023-01-19T20:11:19.486Z"
   },
   {
    "duration": 19,
    "start_time": "2023-01-19T20:12:21.281Z"
   },
   {
    "duration": 7,
    "start_time": "2023-01-19T20:12:42.897Z"
   },
   {
    "duration": 6,
    "start_time": "2023-01-19T20:12:55.256Z"
   },
   {
    "duration": 437,
    "start_time": "2023-01-19T20:18:49.460Z"
   },
   {
    "duration": 315,
    "start_time": "2023-01-19T20:19:04.386Z"
   },
   {
    "duration": 314,
    "start_time": "2023-01-19T20:23:46.915Z"
   },
   {
    "duration": 318,
    "start_time": "2023-01-19T20:30:01.308Z"
   },
   {
    "duration": 10,
    "start_time": "2023-01-19T20:31:11.744Z"
   },
   {
    "duration": 16,
    "start_time": "2023-01-19T20:40:05.775Z"
   },
   {
    "duration": 15,
    "start_time": "2023-01-19T20:40:19.727Z"
   },
   {
    "duration": 11,
    "start_time": "2023-01-19T20:40:57.971Z"
   },
   {
    "duration": 43,
    "start_time": "2023-01-19T20:41:17.217Z"
   },
   {
    "duration": 12,
    "start_time": "2023-01-19T20:41:29.033Z"
   },
   {
    "duration": 334,
    "start_time": "2023-01-19T20:41:38.075Z"
   },
   {
    "duration": 49,
    "start_time": "2023-01-20T15:42:07.461Z"
   },
   {
    "duration": 1373,
    "start_time": "2023-01-20T15:42:15.236Z"
   },
   {
    "duration": 3,
    "start_time": "2023-01-20T15:42:16.611Z"
   },
   {
    "duration": 132,
    "start_time": "2023-01-20T15:42:16.615Z"
   },
   {
    "duration": 22,
    "start_time": "2023-01-20T15:42:16.749Z"
   },
   {
    "duration": 15,
    "start_time": "2023-01-20T15:42:16.774Z"
   },
   {
    "duration": 8,
    "start_time": "2023-01-20T15:42:16.790Z"
   },
   {
    "duration": 29,
    "start_time": "2023-01-20T15:42:16.799Z"
   },
   {
    "duration": 8,
    "start_time": "2023-01-20T15:42:16.830Z"
   },
   {
    "duration": 17,
    "start_time": "2023-01-20T15:42:16.839Z"
   },
   {
    "duration": 19,
    "start_time": "2023-01-20T15:42:16.858Z"
   },
   {
    "duration": 3,
    "start_time": "2023-01-20T15:42:16.879Z"
   },
   {
    "duration": 22,
    "start_time": "2023-01-20T15:42:16.884Z"
   },
   {
    "duration": 28,
    "start_time": "2023-01-20T15:42:16.907Z"
   },
   {
    "duration": 18,
    "start_time": "2023-01-20T15:42:16.938Z"
   },
   {
    "duration": 8,
    "start_time": "2023-01-20T15:42:16.958Z"
   },
   {
    "duration": 2034,
    "start_time": "2023-01-20T15:42:16.968Z"
   },
   {
    "duration": 210,
    "start_time": "2023-01-20T15:42:19.004Z"
   },
   {
    "duration": 437,
    "start_time": "2023-01-20T15:45:43.259Z"
   },
   {
    "duration": 371,
    "start_time": "2023-01-20T15:45:57.084Z"
   },
   {
    "duration": 347,
    "start_time": "2023-01-20T15:46:02.948Z"
   },
   {
    "duration": 518,
    "start_time": "2023-01-20T15:46:10.242Z"
   },
   {
    "duration": 337,
    "start_time": "2023-01-20T15:47:02.269Z"
   },
   {
    "duration": 67,
    "start_time": "2023-01-20T15:52:43.937Z"
   },
   {
    "duration": 1095,
    "start_time": "2023-01-20T15:52:56.096Z"
   },
   {
    "duration": 11,
    "start_time": "2023-01-20T15:53:09.781Z"
   },
   {
    "duration": 17,
    "start_time": "2023-01-20T15:53:20.259Z"
   },
   {
    "duration": 9,
    "start_time": "2023-01-20T17:24:28.251Z"
   },
   {
    "duration": 76,
    "start_time": "2023-01-20T17:28:40.578Z"
   },
   {
    "duration": 10,
    "start_time": "2023-01-20T17:28:49.504Z"
   },
   {
    "duration": 12,
    "start_time": "2023-01-20T17:28:57.695Z"
   },
   {
    "duration": 15,
    "start_time": "2023-01-20T17:29:20.990Z"
   },
   {
    "duration": 12,
    "start_time": "2023-01-20T17:29:31.660Z"
   },
   {
    "duration": 11,
    "start_time": "2023-01-20T17:29:39.480Z"
   },
   {
    "duration": 23,
    "start_time": "2023-01-20T17:33:38.638Z"
   },
   {
    "duration": 1182,
    "start_time": "2023-01-20T17:35:39.632Z"
   },
   {
    "duration": 1165,
    "start_time": "2023-01-20T17:37:06.084Z"
   },
   {
    "duration": 41,
    "start_time": "2023-01-20T17:37:15.477Z"
   },
   {
    "duration": 45,
    "start_time": "2023-01-20T17:37:22.215Z"
   },
   {
    "duration": 1238,
    "start_time": "2023-01-20T17:38:17.873Z"
   },
   {
    "duration": 50,
    "start_time": "2023-01-20T17:39:10.574Z"
   },
   {
    "duration": 136,
    "start_time": "2023-01-20T17:39:31.674Z"
   },
   {
    "duration": 244,
    "start_time": "2023-01-20T17:39:47.851Z"
   },
   {
    "duration": 261,
    "start_time": "2023-01-20T17:41:26.452Z"
   },
   {
    "duration": 6,
    "start_time": "2023-01-20T17:47:34.599Z"
   },
   {
    "duration": 4,
    "start_time": "2023-01-20T17:47:56.291Z"
   },
   {
    "duration": 268,
    "start_time": "2023-01-20T17:50:06.864Z"
   },
   {
    "duration": 17,
    "start_time": "2023-01-20T17:51:05.089Z"
   },
   {
    "duration": 6,
    "start_time": "2023-01-20T17:51:15.403Z"
   },
   {
    "duration": 1137,
    "start_time": "2023-01-20T17:51:33.182Z"
   },
   {
    "duration": 264,
    "start_time": "2023-01-20T17:51:43.199Z"
   },
   {
    "duration": 338,
    "start_time": "2023-01-20T17:52:06.891Z"
   },
   {
    "duration": 265,
    "start_time": "2023-01-20T17:52:17.899Z"
   },
   {
    "duration": 260,
    "start_time": "2023-01-20T18:00:15.122Z"
   },
   {
    "duration": 247,
    "start_time": "2023-01-20T18:01:04.925Z"
   },
   {
    "duration": 6,
    "start_time": "2023-01-20T18:01:29.500Z"
   },
   {
    "duration": 317,
    "start_time": "2023-01-20T18:01:48.130Z"
   },
   {
    "duration": 11,
    "start_time": "2023-01-20T18:01:57.347Z"
   },
   {
    "duration": 2,
    "start_time": "2023-01-20T18:02:12.309Z"
   },
   {
    "duration": 6,
    "start_time": "2023-01-20T18:02:12.313Z"
   },
   {
    "duration": 47,
    "start_time": "2023-01-20T18:02:12.321Z"
   },
   {
    "duration": 13,
    "start_time": "2023-01-20T18:02:12.370Z"
   },
   {
    "duration": 15,
    "start_time": "2023-01-20T18:02:12.384Z"
   },
   {
    "duration": 4,
    "start_time": "2023-01-20T18:02:12.401Z"
   },
   {
    "duration": 21,
    "start_time": "2023-01-20T18:02:12.407Z"
   },
   {
    "duration": 9,
    "start_time": "2023-01-20T18:02:12.429Z"
   },
   {
    "duration": 18,
    "start_time": "2023-01-20T18:02:12.440Z"
   },
   {
    "duration": 10,
    "start_time": "2023-01-20T18:02:12.460Z"
   },
   {
    "duration": 4,
    "start_time": "2023-01-20T18:02:12.472Z"
   },
   {
    "duration": 17,
    "start_time": "2023-01-20T18:02:12.478Z"
   },
   {
    "duration": 142,
    "start_time": "2023-01-20T18:02:12.497Z"
   },
   {
    "duration": 23,
    "start_time": "2023-01-20T18:02:12.641Z"
   },
   {
    "duration": 6,
    "start_time": "2023-01-20T18:02:12.665Z"
   },
   {
    "duration": 1972,
    "start_time": "2023-01-20T18:02:12.673Z"
   },
   {
    "duration": 230,
    "start_time": "2023-01-20T18:02:14.647Z"
   },
   {
    "duration": 345,
    "start_time": "2023-01-20T18:02:14.878Z"
   },
   {
    "duration": 257,
    "start_time": "2023-01-20T18:02:15.227Z"
   },
   {
    "duration": 5,
    "start_time": "2023-01-20T18:02:15.486Z"
   },
   {
    "duration": 256,
    "start_time": "2023-01-20T18:02:21.629Z"
   },
   {
    "duration": 3,
    "start_time": "2023-01-20T18:02:43.092Z"
   },
   {
    "duration": 11,
    "start_time": "2023-01-20T18:02:43.098Z"
   },
   {
    "duration": 49,
    "start_time": "2023-01-20T18:02:43.111Z"
   },
   {
    "duration": 14,
    "start_time": "2023-01-20T18:02:43.162Z"
   },
   {
    "duration": 20,
    "start_time": "2023-01-20T18:02:43.179Z"
   },
   {
    "duration": 5,
    "start_time": "2023-01-20T18:02:43.201Z"
   },
   {
    "duration": 21,
    "start_time": "2023-01-20T18:02:43.208Z"
   },
   {
    "duration": 10,
    "start_time": "2023-01-20T18:02:43.231Z"
   },
   {
    "duration": 17,
    "start_time": "2023-01-20T18:02:43.244Z"
   },
   {
    "duration": 21,
    "start_time": "2023-01-20T18:02:43.262Z"
   },
   {
    "duration": 2,
    "start_time": "2023-01-20T18:02:43.284Z"
   },
   {
    "duration": 14,
    "start_time": "2023-01-20T18:02:43.288Z"
   },
   {
    "duration": 32,
    "start_time": "2023-01-20T18:02:43.304Z"
   },
   {
    "duration": 16,
    "start_time": "2023-01-20T18:02:43.338Z"
   },
   {
    "duration": 6,
    "start_time": "2023-01-20T18:02:43.355Z"
   },
   {
    "duration": 1999,
    "start_time": "2023-01-20T18:02:43.363Z"
   },
   {
    "duration": 216,
    "start_time": "2023-01-20T18:02:45.364Z"
   },
   {
    "duration": 507,
    "start_time": "2023-01-20T18:02:45.582Z"
   },
   {
    "duration": 265,
    "start_time": "2023-01-20T18:02:46.091Z"
   },
   {
    "duration": 4,
    "start_time": "2023-01-20T18:02:46.358Z"
   },
   {
    "duration": 271,
    "start_time": "2023-01-20T18:02:49.761Z"
   },
   {
    "duration": 5,
    "start_time": "2023-01-20T18:03:12.344Z"
   },
   {
    "duration": 7,
    "start_time": "2023-01-20T18:03:22.441Z"
   },
   {
    "duration": 256,
    "start_time": "2023-01-20T18:03:41.315Z"
   },
   {
    "duration": 7,
    "start_time": "2023-01-20T18:03:56.342Z"
   },
   {
    "duration": 3,
    "start_time": "2023-01-20T18:04:02.156Z"
   },
   {
    "duration": 60,
    "start_time": "2023-01-20T18:04:02.161Z"
   },
   {
    "duration": 70,
    "start_time": "2023-01-20T18:04:02.223Z"
   },
   {
    "duration": 14,
    "start_time": "2023-01-20T18:04:02.295Z"
   },
   {
    "duration": 32,
    "start_time": "2023-01-20T18:04:02.311Z"
   },
   {
    "duration": 11,
    "start_time": "2023-01-20T18:04:02.346Z"
   },
   {
    "duration": 36,
    "start_time": "2023-01-20T18:04:02.359Z"
   },
   {
    "duration": 10,
    "start_time": "2023-01-20T18:04:02.397Z"
   },
   {
    "duration": 21,
    "start_time": "2023-01-20T18:04:02.410Z"
   },
   {
    "duration": 18,
    "start_time": "2023-01-20T18:04:02.433Z"
   },
   {
    "duration": 10,
    "start_time": "2023-01-20T18:04:02.452Z"
   },
   {
    "duration": 16,
    "start_time": "2023-01-20T18:04:02.464Z"
   },
   {
    "duration": 14,
    "start_time": "2023-01-20T18:04:02.482Z"
   },
   {
    "duration": 30,
    "start_time": "2023-01-20T18:04:02.498Z"
   },
   {
    "duration": 6,
    "start_time": "2023-01-20T18:04:02.531Z"
   },
   {
    "duration": 2125,
    "start_time": "2023-01-20T18:04:02.540Z"
   },
   {
    "duration": 248,
    "start_time": "2023-01-20T18:04:04.667Z"
   },
   {
    "duration": 369,
    "start_time": "2023-01-20T18:04:04.916Z"
   },
   {
    "duration": 414,
    "start_time": "2023-01-20T18:04:05.288Z"
   },
   {
    "duration": 6,
    "start_time": "2023-01-20T18:04:05.704Z"
   },
   {
    "duration": 239,
    "start_time": "2023-01-20T18:04:08.051Z"
   },
   {
    "duration": 1117,
    "start_time": "2023-01-20T18:04:44.047Z"
   },
   {
    "duration": 8,
    "start_time": "2023-01-20T18:05:44.501Z"
   },
   {
    "duration": 1191,
    "start_time": "2023-01-20T18:05:46.844Z"
   },
   {
    "duration": 267,
    "start_time": "2023-01-20T18:06:04.460Z"
   },
   {
    "duration": 6,
    "start_time": "2023-01-20T18:06:12.427Z"
   },
   {
    "duration": 250,
    "start_time": "2023-01-20T18:06:14.102Z"
   },
   {
    "duration": 5,
    "start_time": "2023-01-20T18:06:27.375Z"
   },
   {
    "duration": 29,
    "start_time": "2023-01-20T18:06:27.383Z"
   },
   {
    "duration": 70,
    "start_time": "2023-01-20T18:06:27.414Z"
   },
   {
    "duration": 15,
    "start_time": "2023-01-20T18:06:27.486Z"
   },
   {
    "duration": 18,
    "start_time": "2023-01-20T18:06:27.503Z"
   },
   {
    "duration": 9,
    "start_time": "2023-01-20T18:06:27.523Z"
   },
   {
    "duration": 34,
    "start_time": "2023-01-20T18:06:27.534Z"
   },
   {
    "duration": 10,
    "start_time": "2023-01-20T18:06:27.570Z"
   },
   {
    "duration": 120,
    "start_time": "2023-01-20T18:06:27.582Z"
   },
   {
    "duration": 18,
    "start_time": "2023-01-20T18:06:27.704Z"
   },
   {
    "duration": 8,
    "start_time": "2023-01-20T18:06:27.724Z"
   },
   {
    "duration": 16,
    "start_time": "2023-01-20T18:06:27.734Z"
   },
   {
    "duration": 19,
    "start_time": "2023-01-20T18:06:27.751Z"
   },
   {
    "duration": 20,
    "start_time": "2023-01-20T18:06:27.773Z"
   },
   {
    "duration": 6,
    "start_time": "2023-01-20T18:06:27.795Z"
   },
   {
    "duration": 2093,
    "start_time": "2023-01-20T18:06:27.803Z"
   },
   {
    "duration": 263,
    "start_time": "2023-01-20T18:06:29.899Z"
   },
   {
    "duration": 447,
    "start_time": "2023-01-20T18:06:30.163Z"
   },
   {
    "duration": 295,
    "start_time": "2023-01-20T18:06:30.612Z"
   },
   {
    "duration": 9,
    "start_time": "2023-01-20T18:06:30.909Z"
   },
   {
    "duration": 449,
    "start_time": "2023-01-20T18:08:46.562Z"
   },
   {
    "duration": 7,
    "start_time": "2023-01-20T18:09:32.356Z"
   },
   {
    "duration": 416,
    "start_time": "2023-01-20T18:09:34.445Z"
   },
   {
    "duration": 453,
    "start_time": "2023-01-20T18:27:10.804Z"
   },
   {
    "duration": 429,
    "start_time": "2023-01-20T18:27:49.840Z"
   },
   {
    "duration": 404,
    "start_time": "2023-01-20T18:56:25.523Z"
   },
   {
    "duration": 464,
    "start_time": "2023-01-20T18:56:58.302Z"
   },
   {
    "duration": 567,
    "start_time": "2023-01-20T18:57:19.240Z"
   },
   {
    "duration": 486,
    "start_time": "2023-01-20T19:02:05.912Z"
   },
   {
    "duration": 69,
    "start_time": "2023-01-20T19:02:40.779Z"
   },
   {
    "duration": 99,
    "start_time": "2023-01-20T19:02:48.463Z"
   },
   {
    "duration": 189,
    "start_time": "2023-01-20T19:04:16.787Z"
   },
   {
    "duration": 403,
    "start_time": "2023-01-20T19:04:43.125Z"
   },
   {
    "duration": 424,
    "start_time": "2023-01-20T19:04:53.462Z"
   },
   {
    "duration": 529,
    "start_time": "2023-01-20T19:05:25.345Z"
   },
   {
    "duration": 564,
    "start_time": "2023-01-20T19:07:38.377Z"
   },
   {
    "duration": 549,
    "start_time": "2023-01-20T19:09:17.606Z"
   },
   {
    "duration": 547,
    "start_time": "2023-01-20T19:10:12.702Z"
   },
   {
    "duration": 681,
    "start_time": "2023-01-20T19:11:04.116Z"
   },
   {
    "duration": 566,
    "start_time": "2023-01-20T19:11:20.621Z"
   },
   {
    "duration": 28,
    "start_time": "2023-01-20T19:19:13.545Z"
   },
   {
    "duration": 580,
    "start_time": "2023-01-20T19:20:11.532Z"
   },
   {
    "duration": 5,
    "start_time": "2023-01-20T19:20:33.536Z"
   },
   {
    "duration": 13,
    "start_time": "2023-01-20T19:20:33.545Z"
   },
   {
    "duration": 66,
    "start_time": "2023-01-20T19:20:33.559Z"
   },
   {
    "duration": 15,
    "start_time": "2023-01-20T19:20:33.631Z"
   },
   {
    "duration": 32,
    "start_time": "2023-01-20T19:20:33.648Z"
   },
   {
    "duration": 15,
    "start_time": "2023-01-20T19:20:33.683Z"
   },
   {
    "duration": 32,
    "start_time": "2023-01-20T19:20:33.701Z"
   },
   {
    "duration": 20,
    "start_time": "2023-01-20T19:20:33.735Z"
   },
   {
    "duration": 27,
    "start_time": "2023-01-20T19:20:33.757Z"
   },
   {
    "duration": 32,
    "start_time": "2023-01-20T19:20:33.788Z"
   },
   {
    "duration": 26,
    "start_time": "2023-01-20T19:20:33.822Z"
   },
   {
    "duration": 20,
    "start_time": "2023-01-20T19:20:33.851Z"
   },
   {
    "duration": 14,
    "start_time": "2023-01-20T19:20:33.872Z"
   },
   {
    "duration": 28,
    "start_time": "2023-01-20T19:20:33.888Z"
   },
   {
    "duration": 6,
    "start_time": "2023-01-20T19:20:33.918Z"
   },
   {
    "duration": 2064,
    "start_time": "2023-01-20T19:20:33.926Z"
   },
   {
    "duration": 250,
    "start_time": "2023-01-20T19:20:35.992Z"
   },
   {
    "duration": 557,
    "start_time": "2023-01-20T19:20:36.244Z"
   },
   {
    "duration": 280,
    "start_time": "2023-01-20T19:20:36.802Z"
   },
   {
    "duration": 5,
    "start_time": "2023-01-20T19:20:37.083Z"
   },
   {
    "duration": 579,
    "start_time": "2023-01-20T19:20:42.582Z"
   },
   {
    "duration": 544,
    "start_time": "2023-01-20T19:21:48.022Z"
   },
   {
    "duration": 547,
    "start_time": "2023-01-20T19:21:57.671Z"
   },
   {
    "duration": 676,
    "start_time": "2023-01-20T19:22:11.651Z"
   },
   {
    "duration": 608,
    "start_time": "2023-01-20T19:24:10.492Z"
   },
   {
    "duration": 1231,
    "start_time": "2023-01-20T19:30:33.617Z"
   },
   {
    "duration": 3,
    "start_time": "2023-01-20T19:31:12.246Z"
   },
   {
    "duration": 23,
    "start_time": "2023-01-20T19:31:12.251Z"
   },
   {
    "duration": 85,
    "start_time": "2023-01-20T19:31:12.276Z"
   },
   {
    "duration": 14,
    "start_time": "2023-01-20T19:31:12.364Z"
   },
   {
    "duration": 35,
    "start_time": "2023-01-20T19:31:12.379Z"
   },
   {
    "duration": 9,
    "start_time": "2023-01-20T19:31:12.416Z"
   },
   {
    "duration": 43,
    "start_time": "2023-01-20T19:31:12.427Z"
   },
   {
    "duration": 26,
    "start_time": "2023-01-20T19:31:12.471Z"
   },
   {
    "duration": 43,
    "start_time": "2023-01-20T19:31:12.499Z"
   },
   {
    "duration": 33,
    "start_time": "2023-01-20T19:31:12.544Z"
   },
   {
    "duration": 19,
    "start_time": "2023-01-20T19:31:12.579Z"
   },
   {
    "duration": 33,
    "start_time": "2023-01-20T19:31:12.600Z"
   },
   {
    "duration": 50,
    "start_time": "2023-01-20T19:31:12.646Z"
   },
   {
    "duration": 60,
    "start_time": "2023-01-20T19:31:12.698Z"
   },
   {
    "duration": 40,
    "start_time": "2023-01-20T19:31:12.760Z"
   },
   {
    "duration": 2141,
    "start_time": "2023-01-20T19:31:12.802Z"
   },
   {
    "duration": 228,
    "start_time": "2023-01-20T19:31:14.945Z"
   },
   {
    "duration": 541,
    "start_time": "2023-01-20T19:31:15.175Z"
   },
   {
    "duration": 278,
    "start_time": "2023-01-20T19:31:15.718Z"
   },
   {
    "duration": 5,
    "start_time": "2023-01-20T19:31:15.998Z"
   },
   {
    "duration": 606,
    "start_time": "2023-01-20T19:31:16.006Z"
   },
   {
    "duration": 1216,
    "start_time": "2023-01-20T19:31:21.877Z"
   },
   {
    "duration": 11,
    "start_time": "2023-01-20T19:32:07.315Z"
   },
   {
    "duration": 351,
    "start_time": "2023-01-20T19:33:17.688Z"
   },
   {
    "duration": 885,
    "start_time": "2023-01-20T19:33:31.094Z"
   },
   {
    "duration": 7,
    "start_time": "2023-01-20T19:34:07.293Z"
   },
   {
    "duration": 404,
    "start_time": "2023-01-20T19:34:16.780Z"
   },
   {
    "duration": 13,
    "start_time": "2023-01-20T19:34:27.799Z"
   },
   {
    "duration": 8,
    "start_time": "2023-01-20T19:34:58.944Z"
   },
   {
    "duration": 203,
    "start_time": "2023-01-20T19:35:45.852Z"
   },
   {
    "duration": 87,
    "start_time": "2023-01-20T19:37:21.491Z"
   },
   {
    "duration": 4,
    "start_time": "2023-01-20T19:37:32.022Z"
   },
   {
    "duration": 142,
    "start_time": "2023-01-20T19:37:56.503Z"
   },
   {
    "duration": 12,
    "start_time": "2023-01-20T19:42:21.853Z"
   },
   {
    "duration": 70,
    "start_time": "2023-01-20T19:42:27.342Z"
   },
   {
    "duration": 3,
    "start_time": "2023-01-20T19:42:27.414Z"
   },
   {
    "duration": 66,
    "start_time": "2023-01-20T19:42:27.418Z"
   },
   {
    "duration": 13,
    "start_time": "2023-01-20T19:42:27.485Z"
   },
   {
    "duration": 23,
    "start_time": "2023-01-20T19:42:27.500Z"
   },
   {
    "duration": 26,
    "start_time": "2023-01-20T19:42:27.524Z"
   },
   {
    "duration": 22,
    "start_time": "2023-01-20T19:42:27.552Z"
   },
   {
    "duration": 25,
    "start_time": "2023-01-20T19:42:27.576Z"
   },
   {
    "duration": 15,
    "start_time": "2023-01-20T19:42:27.603Z"
   },
   {
    "duration": 16,
    "start_time": "2023-01-20T19:42:27.620Z"
   },
   {
    "duration": 17,
    "start_time": "2023-01-20T19:42:27.638Z"
   },
   {
    "duration": 30,
    "start_time": "2023-01-20T19:42:27.656Z"
   },
   {
    "duration": 19,
    "start_time": "2023-01-20T19:42:27.688Z"
   },
   {
    "duration": 16,
    "start_time": "2023-01-20T19:42:27.710Z"
   },
   {
    "duration": 10,
    "start_time": "2023-01-20T19:42:27.729Z"
   },
   {
    "duration": 2040,
    "start_time": "2023-01-20T19:42:27.740Z"
   },
   {
    "duration": 392,
    "start_time": "2023-01-20T19:42:29.782Z"
   },
   {
    "duration": 406,
    "start_time": "2023-01-20T19:42:30.176Z"
   },
   {
    "duration": 310,
    "start_time": "2023-01-20T19:42:30.584Z"
   },
   {
    "duration": 4,
    "start_time": "2023-01-20T19:42:30.896Z"
   },
   {
    "duration": 590,
    "start_time": "2023-01-20T19:42:30.902Z"
   },
   {
    "duration": 32,
    "start_time": "2023-01-20T19:42:36.815Z"
   },
   {
    "duration": 352,
    "start_time": "2023-01-20T19:55:06.663Z"
   },
   {
    "duration": 284,
    "start_time": "2023-01-20T19:57:35.518Z"
   },
   {
    "duration": 274,
    "start_time": "2023-01-20T19:57:46.830Z"
   },
   {
    "duration": 226,
    "start_time": "2023-01-20T19:58:03.263Z"
   },
   {
    "duration": 381,
    "start_time": "2023-01-20T19:58:23.266Z"
   },
   {
    "duration": 386,
    "start_time": "2023-01-20T19:58:49.372Z"
   },
   {
    "duration": 7,
    "start_time": "2023-01-20T20:09:11.816Z"
   },
   {
    "duration": 271,
    "start_time": "2023-01-20T20:09:24.023Z"
   },
   {
    "duration": 283,
    "start_time": "2023-01-20T20:09:55.279Z"
   },
   {
    "duration": 268,
    "start_time": "2023-01-20T20:22:41.028Z"
   },
   {
    "duration": 290,
    "start_time": "2023-01-20T20:23:14.602Z"
   },
   {
    "duration": 162,
    "start_time": "2023-01-20T20:26:32.656Z"
   },
   {
    "duration": 154,
    "start_time": "2023-01-20T20:28:28.205Z"
   },
   {
    "duration": 174,
    "start_time": "2023-01-20T20:30:48.240Z"
   },
   {
    "duration": 164,
    "start_time": "2023-01-20T20:31:03.278Z"
   },
   {
    "duration": 163,
    "start_time": "2023-01-20T20:31:27.481Z"
   },
   {
    "duration": 3,
    "start_time": "2023-01-20T20:31:40.999Z"
   },
   {
    "duration": 14,
    "start_time": "2023-01-20T20:31:41.003Z"
   },
   {
    "duration": 71,
    "start_time": "2023-01-20T20:31:41.018Z"
   },
   {
    "duration": 15,
    "start_time": "2023-01-20T20:31:41.092Z"
   },
   {
    "duration": 33,
    "start_time": "2023-01-20T20:31:41.109Z"
   },
   {
    "duration": 6,
    "start_time": "2023-01-20T20:31:41.144Z"
   },
   {
    "duration": 23,
    "start_time": "2023-01-20T20:31:41.151Z"
   },
   {
    "duration": 11,
    "start_time": "2023-01-20T20:31:41.176Z"
   },
   {
    "duration": 24,
    "start_time": "2023-01-20T20:31:41.190Z"
   },
   {
    "duration": 21,
    "start_time": "2023-01-20T20:31:41.233Z"
   },
   {
    "duration": 7,
    "start_time": "2023-01-20T20:31:41.255Z"
   },
   {
    "duration": 40,
    "start_time": "2023-01-20T20:31:41.264Z"
   },
   {
    "duration": 22,
    "start_time": "2023-01-20T20:31:41.306Z"
   },
   {
    "duration": 44,
    "start_time": "2023-01-20T20:31:41.335Z"
   },
   {
    "duration": 5,
    "start_time": "2023-01-20T20:31:41.380Z"
   },
   {
    "duration": 2160,
    "start_time": "2023-01-20T20:31:41.387Z"
   },
   {
    "duration": 372,
    "start_time": "2023-01-20T20:31:43.549Z"
   },
   {
    "duration": 352,
    "start_time": "2023-01-20T20:31:43.923Z"
   },
   {
    "duration": 267,
    "start_time": "2023-01-20T20:31:44.276Z"
   },
   {
    "duration": 4,
    "start_time": "2023-01-20T20:31:44.545Z"
   },
   {
    "duration": 535,
    "start_time": "2023-01-20T20:31:44.551Z"
   },
   {
    "duration": 310,
    "start_time": "2023-01-20T20:31:45.087Z"
   },
   {
    "duration": 169,
    "start_time": "2023-01-20T20:31:48.444Z"
   },
   {
    "duration": 170,
    "start_time": "2023-01-20T20:32:31.788Z"
   },
   {
    "duration": 169,
    "start_time": "2023-01-20T20:32:39.973Z"
   },
   {
    "duration": 3,
    "start_time": "2023-01-20T20:33:11.451Z"
   },
   {
    "duration": 6,
    "start_time": "2023-01-20T20:33:11.456Z"
   },
   {
    "duration": 71,
    "start_time": "2023-01-20T20:33:11.464Z"
   },
   {
    "duration": 13,
    "start_time": "2023-01-20T20:33:11.540Z"
   },
   {
    "duration": 16,
    "start_time": "2023-01-20T20:33:11.555Z"
   },
   {
    "duration": 4,
    "start_time": "2023-01-20T20:33:11.572Z"
   },
   {
    "duration": 18,
    "start_time": "2023-01-20T20:33:11.578Z"
   },
   {
    "duration": 9,
    "start_time": "2023-01-20T20:33:11.598Z"
   },
   {
    "duration": 31,
    "start_time": "2023-01-20T20:33:11.609Z"
   },
   {
    "duration": 8,
    "start_time": "2023-01-20T20:33:11.641Z"
   },
   {
    "duration": 5,
    "start_time": "2023-01-20T20:33:11.651Z"
   },
   {
    "duration": 13,
    "start_time": "2023-01-20T20:33:11.657Z"
   },
   {
    "duration": 11,
    "start_time": "2023-01-20T20:33:11.671Z"
   },
   {
    "duration": 21,
    "start_time": "2023-01-20T20:33:11.684Z"
   },
   {
    "duration": 7,
    "start_time": "2023-01-20T20:33:11.738Z"
   },
   {
    "duration": 2034,
    "start_time": "2023-01-20T20:33:11.746Z"
   },
   {
    "duration": 221,
    "start_time": "2023-01-20T20:33:13.782Z"
   },
   {
    "duration": 562,
    "start_time": "2023-01-20T20:33:14.005Z"
   },
   {
    "duration": 273,
    "start_time": "2023-01-20T20:33:14.569Z"
   },
   {
    "duration": 4,
    "start_time": "2023-01-20T20:33:14.844Z"
   },
   {
    "duration": 537,
    "start_time": "2023-01-20T20:33:14.850Z"
   },
   {
    "duration": 304,
    "start_time": "2023-01-20T20:33:15.388Z"
   },
   {
    "duration": 189,
    "start_time": "2023-01-20T20:33:20.056Z"
   },
   {
    "duration": 188,
    "start_time": "2023-01-20T20:33:33.603Z"
   },
   {
    "duration": 3,
    "start_time": "2023-01-20T20:33:38.197Z"
   },
   {
    "duration": 7,
    "start_time": "2023-01-20T20:33:38.202Z"
   },
   {
    "duration": 54,
    "start_time": "2023-01-20T20:33:38.210Z"
   },
   {
    "duration": 13,
    "start_time": "2023-01-20T20:33:38.265Z"
   },
   {
    "duration": 23,
    "start_time": "2023-01-20T20:33:38.280Z"
   },
   {
    "duration": 18,
    "start_time": "2023-01-20T20:33:38.304Z"
   },
   {
    "duration": 32,
    "start_time": "2023-01-20T20:33:38.323Z"
   },
   {
    "duration": 23,
    "start_time": "2023-01-20T20:33:38.357Z"
   },
   {
    "duration": 22,
    "start_time": "2023-01-20T20:33:38.382Z"
   },
   {
    "duration": 40,
    "start_time": "2023-01-20T20:33:38.406Z"
   },
   {
    "duration": 7,
    "start_time": "2023-01-20T20:33:38.448Z"
   },
   {
    "duration": 14,
    "start_time": "2023-01-20T20:33:38.457Z"
   },
   {
    "duration": 20,
    "start_time": "2023-01-20T20:33:38.473Z"
   },
   {
    "duration": 21,
    "start_time": "2023-01-20T20:33:38.495Z"
   },
   {
    "duration": 20,
    "start_time": "2023-01-20T20:33:38.518Z"
   },
   {
    "duration": 2122,
    "start_time": "2023-01-20T20:33:38.541Z"
   },
   {
    "duration": 233,
    "start_time": "2023-01-20T20:33:40.665Z"
   },
   {
    "duration": 552,
    "start_time": "2023-01-20T20:33:40.900Z"
   },
   {
    "duration": 289,
    "start_time": "2023-01-20T20:33:41.453Z"
   },
   {
    "duration": 5,
    "start_time": "2023-01-20T20:33:41.744Z"
   },
   {
    "duration": 623,
    "start_time": "2023-01-20T20:33:41.751Z"
   },
   {
    "duration": 299,
    "start_time": "2023-01-20T20:33:42.376Z"
   },
   {
    "duration": 176,
    "start_time": "2023-01-20T20:33:46.289Z"
   },
   {
    "duration": 2,
    "start_time": "2023-01-20T20:34:19.363Z"
   },
   {
    "duration": 13,
    "start_time": "2023-01-20T20:34:19.367Z"
   },
   {
    "duration": 65,
    "start_time": "2023-01-20T20:34:19.381Z"
   },
   {
    "duration": 18,
    "start_time": "2023-01-20T20:34:19.448Z"
   },
   {
    "duration": 20,
    "start_time": "2023-01-20T20:34:19.469Z"
   },
   {
    "duration": 8,
    "start_time": "2023-01-20T20:34:19.490Z"
   },
   {
    "duration": 41,
    "start_time": "2023-01-20T20:34:19.500Z"
   },
   {
    "duration": 18,
    "start_time": "2023-01-20T20:34:19.542Z"
   },
   {
    "duration": 23,
    "start_time": "2023-01-20T20:34:19.562Z"
   },
   {
    "duration": 28,
    "start_time": "2023-01-20T20:34:19.586Z"
   },
   {
    "duration": 14,
    "start_time": "2023-01-20T20:34:19.616Z"
   },
   {
    "duration": 22,
    "start_time": "2023-01-20T20:34:19.640Z"
   },
   {
    "duration": 16,
    "start_time": "2023-01-20T20:34:19.664Z"
   },
   {
    "duration": 24,
    "start_time": "2023-01-20T20:34:19.683Z"
   },
   {
    "duration": 7,
    "start_time": "2023-01-20T20:34:19.709Z"
   },
   {
    "duration": 2230,
    "start_time": "2023-01-20T20:34:19.717Z"
   },
   {
    "duration": 225,
    "start_time": "2023-01-20T20:34:21.949Z"
   },
   {
    "duration": 372,
    "start_time": "2023-01-20T20:34:22.175Z"
   },
   {
    "duration": 290,
    "start_time": "2023-01-20T20:34:22.548Z"
   },
   {
    "duration": 5,
    "start_time": "2023-01-20T20:34:22.840Z"
   },
   {
    "duration": 739,
    "start_time": "2023-01-20T20:34:22.846Z"
   },
   {
    "duration": 301,
    "start_time": "2023-01-20T20:34:23.586Z"
   },
   {
    "duration": 155,
    "start_time": "2023-01-20T20:37:41.804Z"
   },
   {
    "duration": 162,
    "start_time": "2023-01-20T20:43:31.850Z"
   },
   {
    "duration": 178,
    "start_time": "2023-01-20T20:44:26.854Z"
   },
   {
    "duration": 179,
    "start_time": "2023-01-20T20:46:14.406Z"
   },
   {
    "duration": 176,
    "start_time": "2023-01-20T20:46:32.813Z"
   },
   {
    "duration": 4,
    "start_time": "2023-01-20T20:47:08.140Z"
   },
   {
    "duration": 18,
    "start_time": "2023-01-20T20:47:08.147Z"
   },
   {
    "duration": 59,
    "start_time": "2023-01-20T20:47:08.168Z"
   },
   {
    "duration": 14,
    "start_time": "2023-01-20T20:47:08.229Z"
   },
   {
    "duration": 19,
    "start_time": "2023-01-20T20:47:08.245Z"
   },
   {
    "duration": 5,
    "start_time": "2023-01-20T20:47:08.265Z"
   },
   {
    "duration": 20,
    "start_time": "2023-01-20T20:47:08.272Z"
   },
   {
    "duration": 43,
    "start_time": "2023-01-20T20:47:08.294Z"
   },
   {
    "duration": 26,
    "start_time": "2023-01-20T20:47:08.339Z"
   },
   {
    "duration": 14,
    "start_time": "2023-01-20T20:47:08.368Z"
   },
   {
    "duration": 15,
    "start_time": "2023-01-20T20:47:08.383Z"
   },
   {
    "duration": 28,
    "start_time": "2023-01-20T20:47:08.400Z"
   },
   {
    "duration": 12,
    "start_time": "2023-01-20T20:47:08.430Z"
   },
   {
    "duration": 22,
    "start_time": "2023-01-20T20:47:08.446Z"
   },
   {
    "duration": 6,
    "start_time": "2023-01-20T20:47:08.470Z"
   },
   {
    "duration": 2200,
    "start_time": "2023-01-20T20:47:08.478Z"
   },
   {
    "duration": 257,
    "start_time": "2023-01-20T20:47:10.680Z"
   },
   {
    "duration": 367,
    "start_time": "2023-01-20T20:47:10.939Z"
   },
   {
    "duration": 276,
    "start_time": "2023-01-20T20:47:11.308Z"
   },
   {
    "duration": 6,
    "start_time": "2023-01-20T20:47:11.585Z"
   },
   {
    "duration": 799,
    "start_time": "2023-01-20T20:47:11.592Z"
   },
   {
    "duration": 344,
    "start_time": "2023-01-20T20:47:12.393Z"
   },
   {
    "duration": 177,
    "start_time": "2023-01-20T20:47:18.879Z"
   },
   {
    "duration": 173,
    "start_time": "2023-01-20T20:49:32.993Z"
   },
   {
    "duration": 3,
    "start_time": "2023-01-20T20:49:53.488Z"
   },
   {
    "duration": 20,
    "start_time": "2023-01-20T20:49:53.493Z"
   },
   {
    "duration": 55,
    "start_time": "2023-01-20T20:49:53.515Z"
   },
   {
    "duration": 14,
    "start_time": "2023-01-20T20:49:53.572Z"
   },
   {
    "duration": 21,
    "start_time": "2023-01-20T20:49:53.588Z"
   },
   {
    "duration": 6,
    "start_time": "2023-01-20T20:49:53.610Z"
   },
   {
    "duration": 21,
    "start_time": "2023-01-20T20:49:53.618Z"
   },
   {
    "duration": 9,
    "start_time": "2023-01-20T20:49:53.642Z"
   },
   {
    "duration": 16,
    "start_time": "2023-01-20T20:49:53.653Z"
   },
   {
    "duration": 16,
    "start_time": "2023-01-20T20:49:53.671Z"
   },
   {
    "duration": 19,
    "start_time": "2023-01-20T20:49:53.688Z"
   },
   {
    "duration": 25,
    "start_time": "2023-01-20T20:49:53.709Z"
   },
   {
    "duration": 32,
    "start_time": "2023-01-20T20:49:53.736Z"
   },
   {
    "duration": 18,
    "start_time": "2023-01-20T20:49:53.771Z"
   },
   {
    "duration": 20,
    "start_time": "2023-01-20T20:49:53.791Z"
   },
   {
    "duration": 2064,
    "start_time": "2023-01-20T20:49:53.812Z"
   },
   {
    "duration": 234,
    "start_time": "2023-01-20T20:49:55.877Z"
   },
   {
    "duration": 385,
    "start_time": "2023-01-20T20:49:56.113Z"
   },
   {
    "duration": 261,
    "start_time": "2023-01-20T20:49:56.499Z"
   },
   {
    "duration": 5,
    "start_time": "2023-01-20T20:49:56.762Z"
   },
   {
    "duration": 544,
    "start_time": "2023-01-20T20:49:56.769Z"
   },
   {
    "duration": 542,
    "start_time": "2023-01-20T20:49:57.316Z"
   },
   {
    "duration": 168,
    "start_time": "2023-01-20T20:50:04.607Z"
   },
   {
    "duration": 4,
    "start_time": "2023-01-20T20:50:19.453Z"
   },
   {
    "duration": 13,
    "start_time": "2023-01-20T20:50:19.459Z"
   },
   {
    "duration": 61,
    "start_time": "2023-01-20T20:50:19.474Z"
   },
   {
    "duration": 14,
    "start_time": "2023-01-20T20:50:19.537Z"
   },
   {
    "duration": 16,
    "start_time": "2023-01-20T20:50:19.554Z"
   },
   {
    "duration": 5,
    "start_time": "2023-01-20T20:50:19.572Z"
   },
   {
    "duration": 18,
    "start_time": "2023-01-20T20:50:19.579Z"
   },
   {
    "duration": 30,
    "start_time": "2023-01-20T20:50:19.598Z"
   },
   {
    "duration": 14,
    "start_time": "2023-01-20T20:50:19.629Z"
   },
   {
    "duration": 15,
    "start_time": "2023-01-20T20:50:19.645Z"
   },
   {
    "duration": 3,
    "start_time": "2023-01-20T20:50:19.662Z"
   },
   {
    "duration": 15,
    "start_time": "2023-01-20T20:50:19.666Z"
   },
   {
    "duration": 12,
    "start_time": "2023-01-20T20:50:19.683Z"
   },
   {
    "duration": 17,
    "start_time": "2023-01-20T20:50:19.728Z"
   },
   {
    "duration": 6,
    "start_time": "2023-01-20T20:50:19.747Z"
   },
   {
    "duration": 2178,
    "start_time": "2023-01-20T20:50:19.754Z"
   },
   {
    "duration": 225,
    "start_time": "2023-01-20T20:50:21.933Z"
   },
   {
    "duration": 363,
    "start_time": "2023-01-20T20:50:22.160Z"
   },
   {
    "duration": 276,
    "start_time": "2023-01-20T20:50:22.525Z"
   },
   {
    "duration": 5,
    "start_time": "2023-01-20T20:50:22.803Z"
   },
   {
    "duration": 551,
    "start_time": "2023-01-20T20:50:22.809Z"
   },
   {
    "duration": 331,
    "start_time": "2023-01-20T20:50:23.362Z"
   },
   {
    "duration": 183,
    "start_time": "2023-01-20T20:50:30.207Z"
   },
   {
    "duration": 159,
    "start_time": "2023-01-20T20:51:45.315Z"
   },
   {
    "duration": 73,
    "start_time": "2023-01-20T20:52:08.220Z"
   },
   {
    "duration": 6,
    "start_time": "2023-01-20T20:55:49.984Z"
   },
   {
    "duration": 23,
    "start_time": "2023-01-20T20:57:42.452Z"
   },
   {
    "duration": 536,
    "start_time": "2023-01-20T20:58:08.749Z"
   },
   {
    "duration": 340,
    "start_time": "2023-01-20T20:58:50.213Z"
   },
   {
    "duration": 393,
    "start_time": "2023-01-20T20:59:00.592Z"
   },
   {
    "duration": 310,
    "start_time": "2023-01-20T20:59:05.644Z"
   },
   {
    "duration": 400,
    "start_time": "2023-01-20T20:59:10.340Z"
   },
   {
    "duration": 339,
    "start_time": "2023-01-20T20:59:22.088Z"
   },
   {
    "duration": 279,
    "start_time": "2023-01-20T20:59:26.915Z"
   },
   {
    "duration": 292,
    "start_time": "2023-01-20T21:00:14.222Z"
   },
   {
    "duration": 262,
    "start_time": "2023-01-20T21:00:26.039Z"
   },
   {
    "duration": 319,
    "start_time": "2023-01-20T21:00:55.540Z"
   },
   {
    "duration": 282,
    "start_time": "2023-01-20T21:01:01.856Z"
   },
   {
    "duration": 327,
    "start_time": "2023-01-20T21:01:08.037Z"
   },
   {
    "duration": 395,
    "start_time": "2023-01-20T21:01:13.594Z"
   },
   {
    "duration": 265,
    "start_time": "2023-01-20T21:01:21.441Z"
   },
   {
    "duration": 276,
    "start_time": "2023-01-20T21:01:55.601Z"
   },
   {
    "duration": 261,
    "start_time": "2023-01-20T21:02:04.331Z"
   },
   {
    "duration": 278,
    "start_time": "2023-01-20T21:02:10.314Z"
   },
   {
    "duration": 354,
    "start_time": "2023-01-20T21:02:16.333Z"
   },
   {
    "duration": 303,
    "start_time": "2023-01-20T21:02:25.776Z"
   },
   {
    "duration": 270,
    "start_time": "2023-01-20T21:02:34.546Z"
   },
   {
    "duration": 296,
    "start_time": "2023-01-20T21:03:27.418Z"
   },
   {
    "duration": 274,
    "start_time": "2023-01-20T21:03:32.345Z"
   },
   {
    "duration": 475,
    "start_time": "2023-01-20T21:03:35.623Z"
   },
   {
    "duration": 263,
    "start_time": "2023-01-20T21:03:40.545Z"
   },
   {
    "duration": 330,
    "start_time": "2023-01-20T21:05:00.309Z"
   },
   {
    "duration": 286,
    "start_time": "2023-01-20T21:05:05.812Z"
   },
   {
    "duration": 310,
    "start_time": "2023-01-20T21:05:10.121Z"
   },
   {
    "duration": 288,
    "start_time": "2023-01-20T21:05:46.418Z"
   },
   {
    "duration": 1356,
    "start_time": "2023-01-21T09:05:49.327Z"
   },
   {
    "duration": 2,
    "start_time": "2023-01-21T09:05:50.685Z"
   },
   {
    "duration": 202,
    "start_time": "2023-01-21T09:05:50.689Z"
   },
   {
    "duration": 17,
    "start_time": "2023-01-21T09:05:50.893Z"
   },
   {
    "duration": 14,
    "start_time": "2023-01-21T09:05:50.912Z"
   },
   {
    "duration": 4,
    "start_time": "2023-01-21T09:05:50.927Z"
   },
   {
    "duration": 18,
    "start_time": "2023-01-21T09:05:50.932Z"
   },
   {
    "duration": 30,
    "start_time": "2023-01-21T09:05:50.951Z"
   },
   {
    "duration": 25,
    "start_time": "2023-01-21T09:05:50.982Z"
   },
   {
    "duration": 14,
    "start_time": "2023-01-21T09:05:51.008Z"
   },
   {
    "duration": 8,
    "start_time": "2023-01-21T09:05:51.024Z"
   },
   {
    "duration": 35,
    "start_time": "2023-01-21T09:05:51.033Z"
   },
   {
    "duration": 14,
    "start_time": "2023-01-21T09:05:51.070Z"
   },
   {
    "duration": 20,
    "start_time": "2023-01-21T09:05:51.086Z"
   },
   {
    "duration": 6,
    "start_time": "2023-01-21T09:05:51.108Z"
   },
   {
    "duration": 1740,
    "start_time": "2023-01-21T09:05:51.115Z"
   },
   {
    "duration": 195,
    "start_time": "2023-01-21T09:05:52.856Z"
   },
   {
    "duration": 303,
    "start_time": "2023-01-21T09:05:53.052Z"
   },
   {
    "duration": 222,
    "start_time": "2023-01-21T09:05:53.356Z"
   },
   {
    "duration": 5,
    "start_time": "2023-01-21T09:05:53.580Z"
   },
   {
    "duration": 604,
    "start_time": "2023-01-21T09:05:53.586Z"
   },
   {
    "duration": 355,
    "start_time": "2023-01-21T09:05:54.191Z"
   },
   {
    "duration": 161,
    "start_time": "2023-01-21T09:06:01.988Z"
   },
   {
    "duration": 4,
    "start_time": "2023-01-21T09:07:27.922Z"
   },
   {
    "duration": 160,
    "start_time": "2023-01-21T09:08:05.360Z"
   },
   {
    "duration": 3,
    "start_time": "2023-01-21T09:08:57.173Z"
   },
   {
    "duration": 11,
    "start_time": "2023-01-21T09:08:57.178Z"
   },
   {
    "duration": 56,
    "start_time": "2023-01-21T09:08:57.190Z"
   },
   {
    "duration": 13,
    "start_time": "2023-01-21T09:08:57.247Z"
   },
   {
    "duration": 17,
    "start_time": "2023-01-21T09:08:57.263Z"
   },
   {
    "duration": 21,
    "start_time": "2023-01-21T09:08:57.282Z"
   },
   {
    "duration": 22,
    "start_time": "2023-01-21T09:08:57.305Z"
   },
   {
    "duration": 17,
    "start_time": "2023-01-21T09:08:57.328Z"
   },
   {
    "duration": 19,
    "start_time": "2023-01-21T09:08:57.347Z"
   },
   {
    "duration": 21,
    "start_time": "2023-01-21T09:08:57.367Z"
   },
   {
    "duration": 10,
    "start_time": "2023-01-21T09:08:57.390Z"
   },
   {
    "duration": 18,
    "start_time": "2023-01-21T09:08:57.401Z"
   },
   {
    "duration": 10,
    "start_time": "2023-01-21T09:08:57.420Z"
   },
   {
    "duration": 14,
    "start_time": "2023-01-21T09:08:57.432Z"
   },
   {
    "duration": 4,
    "start_time": "2023-01-21T09:08:57.448Z"
   },
   {
    "duration": 1838,
    "start_time": "2023-01-21T09:08:57.454Z"
   },
   {
    "duration": 186,
    "start_time": "2023-01-21T09:08:59.294Z"
   },
   {
    "duration": 304,
    "start_time": "2023-01-21T09:08:59.481Z"
   },
   {
    "duration": 348,
    "start_time": "2023-01-21T09:08:59.786Z"
   },
   {
    "duration": 10,
    "start_time": "2023-01-21T09:09:00.136Z"
   },
   {
    "duration": 505,
    "start_time": "2023-01-21T09:09:00.147Z"
   },
   {
    "duration": 279,
    "start_time": "2023-01-21T09:09:00.653Z"
   },
   {
    "duration": 155,
    "start_time": "2023-01-21T09:09:18.495Z"
   },
   {
    "duration": 3,
    "start_time": "2023-01-21T09:10:18.785Z"
   },
   {
    "duration": 25,
    "start_time": "2023-01-21T09:10:18.792Z"
   },
   {
    "duration": 66,
    "start_time": "2023-01-21T09:10:18.819Z"
   },
   {
    "duration": 13,
    "start_time": "2023-01-21T09:10:18.886Z"
   },
   {
    "duration": 16,
    "start_time": "2023-01-21T09:10:18.901Z"
   },
   {
    "duration": 8,
    "start_time": "2023-01-21T09:10:18.918Z"
   },
   {
    "duration": 25,
    "start_time": "2023-01-21T09:10:18.928Z"
   },
   {
    "duration": 9,
    "start_time": "2023-01-21T09:10:18.954Z"
   },
   {
    "duration": 26,
    "start_time": "2023-01-21T09:10:18.964Z"
   },
   {
    "duration": 16,
    "start_time": "2023-01-21T09:10:18.991Z"
   },
   {
    "duration": 2,
    "start_time": "2023-01-21T09:10:19.010Z"
   },
   {
    "duration": 18,
    "start_time": "2023-01-21T09:10:19.014Z"
   },
   {
    "duration": 17,
    "start_time": "2023-01-21T09:10:19.034Z"
   },
   {
    "duration": 17,
    "start_time": "2023-01-21T09:10:19.053Z"
   },
   {
    "duration": 5,
    "start_time": "2023-01-21T09:10:19.072Z"
   },
   {
    "duration": 1873,
    "start_time": "2023-01-21T09:10:19.079Z"
   },
   {
    "duration": 214,
    "start_time": "2023-01-21T09:10:20.954Z"
   },
   {
    "duration": 453,
    "start_time": "2023-01-21T09:10:21.170Z"
   },
   {
    "duration": 262,
    "start_time": "2023-01-21T09:10:21.625Z"
   },
   {
    "duration": 5,
    "start_time": "2023-01-21T09:10:21.889Z"
   },
   {
    "duration": 506,
    "start_time": "2023-01-21T09:10:21.895Z"
   },
   {
    "duration": 324,
    "start_time": "2023-01-21T09:10:22.402Z"
   },
   {
    "duration": 149,
    "start_time": "2023-01-21T09:10:29.786Z"
   },
   {
    "duration": 157,
    "start_time": "2023-01-21T09:11:30.857Z"
   },
   {
    "duration": 150,
    "start_time": "2023-01-21T09:13:02.204Z"
   },
   {
    "duration": 4,
    "start_time": "2023-01-21T09:13:14.689Z"
   },
   {
    "duration": 25,
    "start_time": "2023-01-21T09:13:14.695Z"
   },
   {
    "duration": 63,
    "start_time": "2023-01-21T09:13:14.722Z"
   },
   {
    "duration": 15,
    "start_time": "2023-01-21T09:13:14.787Z"
   },
   {
    "duration": 22,
    "start_time": "2023-01-21T09:13:14.805Z"
   },
   {
    "duration": 5,
    "start_time": "2023-01-21T09:13:14.829Z"
   },
   {
    "duration": 23,
    "start_time": "2023-01-21T09:13:14.835Z"
   },
   {
    "duration": 10,
    "start_time": "2023-01-21T09:13:14.859Z"
   },
   {
    "duration": 13,
    "start_time": "2023-01-21T09:13:14.870Z"
   },
   {
    "duration": 9,
    "start_time": "2023-01-21T09:13:14.884Z"
   },
   {
    "duration": 16,
    "start_time": "2023-01-21T09:13:14.894Z"
   },
   {
    "duration": 21,
    "start_time": "2023-01-21T09:13:14.911Z"
   },
   {
    "duration": 17,
    "start_time": "2023-01-21T09:13:14.933Z"
   },
   {
    "duration": 16,
    "start_time": "2023-01-21T09:13:14.953Z"
   },
   {
    "duration": 5,
    "start_time": "2023-01-21T09:13:14.970Z"
   },
   {
    "duration": 1858,
    "start_time": "2023-01-21T09:13:14.976Z"
   },
   {
    "duration": 327,
    "start_time": "2023-01-21T09:13:16.844Z"
   },
   {
    "duration": 353,
    "start_time": "2023-01-21T09:13:17.173Z"
   },
   {
    "duration": 252,
    "start_time": "2023-01-21T09:13:17.529Z"
   },
   {
    "duration": 5,
    "start_time": "2023-01-21T09:13:17.783Z"
   },
   {
    "duration": 501,
    "start_time": "2023-01-21T09:13:17.789Z"
   },
   {
    "duration": 276,
    "start_time": "2023-01-21T09:13:18.291Z"
   },
   {
    "duration": 158,
    "start_time": "2023-01-21T09:13:30.737Z"
   },
   {
    "duration": 3,
    "start_time": "2023-01-21T09:13:51.017Z"
   },
   {
    "duration": 24,
    "start_time": "2023-01-21T09:13:51.022Z"
   },
   {
    "duration": 58,
    "start_time": "2023-01-21T09:13:51.048Z"
   },
   {
    "duration": 13,
    "start_time": "2023-01-21T09:13:51.107Z"
   },
   {
    "duration": 17,
    "start_time": "2023-01-21T09:13:51.122Z"
   },
   {
    "duration": 4,
    "start_time": "2023-01-21T09:13:51.141Z"
   },
   {
    "duration": 19,
    "start_time": "2023-01-21T09:13:51.147Z"
   },
   {
    "duration": 8,
    "start_time": "2023-01-21T09:13:51.167Z"
   },
   {
    "duration": 16,
    "start_time": "2023-01-21T09:13:51.176Z"
   },
   {
    "duration": 14,
    "start_time": "2023-01-21T09:13:51.193Z"
   },
   {
    "duration": 13,
    "start_time": "2023-01-21T09:13:51.209Z"
   },
   {
    "duration": 13,
    "start_time": "2023-01-21T09:13:51.224Z"
   },
   {
    "duration": 10,
    "start_time": "2023-01-21T09:13:51.244Z"
   },
   {
    "duration": 25,
    "start_time": "2023-01-21T09:13:51.258Z"
   },
   {
    "duration": 5,
    "start_time": "2023-01-21T09:13:51.285Z"
   },
   {
    "duration": 1883,
    "start_time": "2023-01-21T09:13:51.292Z"
   },
   {
    "duration": 340,
    "start_time": "2023-01-21T09:13:53.178Z"
   },
   {
    "duration": 326,
    "start_time": "2023-01-21T09:13:53.520Z"
   },
   {
    "duration": 254,
    "start_time": "2023-01-21T09:13:53.847Z"
   },
   {
    "duration": 4,
    "start_time": "2023-01-21T09:13:54.103Z"
   },
   {
    "duration": 535,
    "start_time": "2023-01-21T09:13:54.109Z"
   },
   {
    "duration": 289,
    "start_time": "2023-01-21T09:13:54.646Z"
   },
   {
    "duration": 164,
    "start_time": "2023-01-21T09:14:01.274Z"
   },
   {
    "duration": 46,
    "start_time": "2023-01-21T15:27:56.301Z"
   },
   {
    "duration": 1312,
    "start_time": "2023-01-21T15:27:59.026Z"
   },
   {
    "duration": 9,
    "start_time": "2023-01-21T15:28:00.340Z"
   },
   {
    "duration": 239,
    "start_time": "2023-01-21T15:28:00.350Z"
   },
   {
    "duration": 20,
    "start_time": "2023-01-21T15:28:00.591Z"
   },
   {
    "duration": 31,
    "start_time": "2023-01-21T15:28:00.612Z"
   },
   {
    "duration": 18,
    "start_time": "2023-01-21T15:28:00.644Z"
   },
   {
    "duration": 44,
    "start_time": "2023-01-21T15:28:00.664Z"
   },
   {
    "duration": 24,
    "start_time": "2023-01-21T15:28:00.710Z"
   },
   {
    "duration": 39,
    "start_time": "2023-01-21T15:28:00.735Z"
   },
   {
    "duration": 21,
    "start_time": "2023-01-21T15:28:00.778Z"
   },
   {
    "duration": 2,
    "start_time": "2023-01-21T15:28:00.801Z"
   },
   {
    "duration": 53,
    "start_time": "2023-01-21T15:28:00.805Z"
   },
   {
    "duration": 11,
    "start_time": "2023-01-21T15:28:00.859Z"
   },
   {
    "duration": 33,
    "start_time": "2023-01-21T15:28:00.871Z"
   },
   {
    "duration": 6,
    "start_time": "2023-01-21T15:28:00.906Z"
   },
   {
    "duration": 1853,
    "start_time": "2023-01-21T15:28:00.914Z"
   },
   {
    "duration": 220,
    "start_time": "2023-01-21T15:28:02.769Z"
   },
   {
    "duration": 336,
    "start_time": "2023-01-21T15:28:02.990Z"
   },
   {
    "duration": 251,
    "start_time": "2023-01-21T15:28:03.328Z"
   },
   {
    "duration": 4,
    "start_time": "2023-01-21T15:28:03.580Z"
   },
   {
    "duration": 651,
    "start_time": "2023-01-21T15:28:03.586Z"
   },
   {
    "duration": 349,
    "start_time": "2023-01-21T15:28:04.238Z"
   },
   {
    "duration": 170,
    "start_time": "2023-01-21T15:28:12.482Z"
   },
   {
    "duration": 179,
    "start_time": "2023-01-21T15:28:55.791Z"
   },
   {
    "duration": 160,
    "start_time": "2023-01-21T15:35:12.843Z"
   },
   {
    "duration": 211,
    "start_time": "2023-01-21T15:37:05.190Z"
   },
   {
    "duration": 148,
    "start_time": "2023-01-21T15:37:26.494Z"
   },
   {
    "duration": 199,
    "start_time": "2023-01-21T15:37:50.357Z"
   },
   {
    "duration": 141,
    "start_time": "2023-01-21T15:38:08.555Z"
   },
   {
    "duration": 132,
    "start_time": "2023-01-21T15:38:20.993Z"
   },
   {
    "duration": 3,
    "start_time": "2023-01-21T15:54:59.515Z"
   },
   {
    "duration": 6,
    "start_time": "2023-01-21T15:54:59.520Z"
   },
   {
    "duration": 56,
    "start_time": "2023-01-21T15:54:59.528Z"
   },
   {
    "duration": 13,
    "start_time": "2023-01-21T15:54:59.586Z"
   },
   {
    "duration": 17,
    "start_time": "2023-01-21T15:54:59.602Z"
   },
   {
    "duration": 5,
    "start_time": "2023-01-21T15:54:59.620Z"
   },
   {
    "duration": 25,
    "start_time": "2023-01-21T15:54:59.626Z"
   },
   {
    "duration": 9,
    "start_time": "2023-01-21T15:54:59.653Z"
   },
   {
    "duration": 19,
    "start_time": "2023-01-21T15:54:59.663Z"
   },
   {
    "duration": 15,
    "start_time": "2023-01-21T15:54:59.683Z"
   },
   {
    "duration": 3,
    "start_time": "2023-01-21T15:54:59.700Z"
   },
   {
    "duration": 15,
    "start_time": "2023-01-21T15:54:59.705Z"
   },
   {
    "duration": 28,
    "start_time": "2023-01-21T15:54:59.721Z"
   },
   {
    "duration": 103,
    "start_time": "2023-01-21T15:54:59.752Z"
   },
   {
    "duration": 7,
    "start_time": "2023-01-21T15:54:59.857Z"
   },
   {
    "duration": 1913,
    "start_time": "2023-01-21T15:54:59.866Z"
   },
   {
    "duration": 236,
    "start_time": "2023-01-21T15:55:01.781Z"
   },
   {
    "duration": 363,
    "start_time": "2023-01-21T15:55:02.019Z"
   },
   {
    "duration": 256,
    "start_time": "2023-01-21T15:55:02.384Z"
   },
   {
    "duration": 9,
    "start_time": "2023-01-21T15:55:02.641Z"
   },
   {
    "duration": 260,
    "start_time": "2023-01-21T15:55:03.177Z"
   },
   {
    "duration": 350,
    "start_time": "2023-01-21T15:55:03.449Z"
   },
   {
    "duration": 137,
    "start_time": "2023-01-21T15:55:03.800Z"
   },
   {
    "duration": 513,
    "start_time": "2023-01-21T15:55:03.947Z"
   },
   {
    "duration": 162,
    "start_time": "2023-01-21T15:55:07.286Z"
   },
   {
    "duration": 170,
    "start_time": "2023-01-21T15:56:24.297Z"
   },
   {
    "duration": 692,
    "start_time": "2023-01-21T15:57:06.154Z"
   },
   {
    "duration": 780,
    "start_time": "2023-01-21T15:57:22.927Z"
   },
   {
    "duration": 56,
    "start_time": "2023-01-21T15:58:00.694Z"
   },
   {
    "duration": 798,
    "start_time": "2023-01-21T15:58:07.115Z"
   },
   {
    "duration": 683,
    "start_time": "2023-01-21T15:58:20.198Z"
   },
   {
    "duration": 513,
    "start_time": "2023-01-21T15:58:34.640Z"
   },
   {
    "duration": 600,
    "start_time": "2023-01-21T15:58:52.597Z"
   },
   {
    "duration": 561,
    "start_time": "2023-01-21T15:59:48.323Z"
   },
   {
    "duration": 701,
    "start_time": "2023-01-21T16:01:08.647Z"
   },
   {
    "duration": 160,
    "start_time": "2023-01-21T16:01:23.561Z"
   },
   {
    "duration": 170,
    "start_time": "2023-01-21T16:01:34.409Z"
   },
   {
    "duration": 629,
    "start_time": "2023-01-21T16:01:52.564Z"
   },
   {
    "duration": 502,
    "start_time": "2023-01-21T16:02:13.015Z"
   },
   {
    "duration": 171,
    "start_time": "2023-01-21T16:02:20.459Z"
   },
   {
    "duration": 406,
    "start_time": "2023-01-21T16:02:26.180Z"
   },
   {
    "duration": 452,
    "start_time": "2023-01-21T16:02:43.059Z"
   },
   {
    "duration": 368,
    "start_time": "2023-01-21T16:02:59.359Z"
   },
   {
    "duration": 582,
    "start_time": "2023-01-21T16:03:12.379Z"
   },
   {
    "duration": 457,
    "start_time": "2023-01-21T16:03:20.774Z"
   },
   {
    "duration": 364,
    "start_time": "2023-01-21T16:03:38.436Z"
   },
   {
    "duration": 441,
    "start_time": "2023-01-21T16:03:50.421Z"
   },
   {
    "duration": 347,
    "start_time": "2023-01-21T16:03:58.348Z"
   },
   {
    "duration": 368,
    "start_time": "2023-01-21T16:08:53.359Z"
   },
   {
    "duration": 745,
    "start_time": "2023-01-21T16:09:17.819Z"
   },
   {
    "duration": 810,
    "start_time": "2023-01-21T16:10:44.364Z"
   },
   {
    "duration": 864,
    "start_time": "2023-01-21T16:12:43.924Z"
   },
   {
    "duration": 807,
    "start_time": "2023-01-21T16:13:35.450Z"
   },
   {
    "duration": 722,
    "start_time": "2023-01-21T16:13:45.942Z"
   },
   {
    "duration": 724,
    "start_time": "2023-01-21T16:14:09.312Z"
   },
   {
    "duration": 715,
    "start_time": "2023-01-21T16:15:10.497Z"
   },
   {
    "duration": 723,
    "start_time": "2023-01-21T16:15:26.183Z"
   },
   {
    "duration": 812,
    "start_time": "2023-01-21T16:16:16.159Z"
   },
   {
    "duration": 640,
    "start_time": "2023-01-21T16:16:38.012Z"
   },
   {
    "duration": 195,
    "start_time": "2023-01-21T16:19:33.444Z"
   },
   {
    "duration": 336,
    "start_time": "2023-01-21T16:19:39.894Z"
   },
   {
    "duration": 11,
    "start_time": "2023-01-21T16:20:26.027Z"
   },
   {
    "duration": 9,
    "start_time": "2023-01-21T16:20:31.734Z"
   },
   {
    "duration": 9,
    "start_time": "2023-01-21T16:20:40.816Z"
   },
   {
    "duration": 20,
    "start_time": "2023-01-21T16:21:01.941Z"
   },
   {
    "duration": 3,
    "start_time": "2023-01-21T16:25:23.119Z"
   },
   {
    "duration": 9,
    "start_time": "2023-01-21T16:25:23.131Z"
   },
   {
    "duration": 51,
    "start_time": "2023-01-21T16:25:23.153Z"
   },
   {
    "duration": 12,
    "start_time": "2023-01-21T16:25:23.232Z"
   },
   {
    "duration": 14,
    "start_time": "2023-01-21T16:25:23.263Z"
   },
   {
    "duration": 4,
    "start_time": "2023-01-21T16:25:23.292Z"
   },
   {
    "duration": 22,
    "start_time": "2023-01-21T16:25:23.309Z"
   },
   {
    "duration": 8,
    "start_time": "2023-01-21T16:25:23.360Z"
   },
   {
    "duration": 12,
    "start_time": "2023-01-21T16:25:23.382Z"
   },
   {
    "duration": 35,
    "start_time": "2023-01-21T16:25:23.418Z"
   },
   {
    "duration": 6,
    "start_time": "2023-01-21T16:25:23.467Z"
   },
   {
    "duration": 15,
    "start_time": "2023-01-21T16:25:23.486Z"
   },
   {
    "duration": 10,
    "start_time": "2023-01-21T16:25:23.514Z"
   },
   {
    "duration": 16,
    "start_time": "2023-01-21T16:25:23.558Z"
   },
   {
    "duration": 6,
    "start_time": "2023-01-21T16:25:23.589Z"
   },
   {
    "duration": 2015,
    "start_time": "2023-01-21T16:25:23.603Z"
   },
   {
    "duration": 203,
    "start_time": "2023-01-21T16:25:27.526Z"
   },
   {
    "duration": 327,
    "start_time": "2023-01-21T16:25:27.948Z"
   },
   {
    "duration": 244,
    "start_time": "2023-01-21T16:25:28.767Z"
   },
   {
    "duration": 4,
    "start_time": "2023-01-21T16:25:29.251Z"
   },
   {
    "duration": 481,
    "start_time": "2023-01-21T16:25:29.264Z"
   },
   {
    "duration": 252,
    "start_time": "2023-01-21T16:25:30.279Z"
   },
   {
    "duration": 280,
    "start_time": "2023-01-21T16:25:30.820Z"
   },
   {
    "duration": 140,
    "start_time": "2023-01-21T16:25:31.262Z"
   },
   {
    "duration": 682,
    "start_time": "2023-01-21T16:25:31.549Z"
   },
   {
    "duration": 9,
    "start_time": "2023-01-21T16:27:00.142Z"
   },
   {
    "duration": 9,
    "start_time": "2023-01-21T16:27:26.407Z"
   },
   {
    "duration": 54,
    "start_time": "2023-01-21T16:27:40.942Z"
   },
   {
    "duration": 688,
    "start_time": "2023-01-21T16:27:51.996Z"
   },
   {
    "duration": 4,
    "start_time": "2023-01-21T16:28:20.747Z"
   },
   {
    "duration": 134,
    "start_time": "2023-01-21T16:28:25.293Z"
   },
   {
    "duration": 299,
    "start_time": "2023-01-21T16:29:34.370Z"
   },
   {
    "duration": 3,
    "start_time": "2023-01-21T16:29:58.429Z"
   },
   {
    "duration": 14,
    "start_time": "2023-01-21T16:29:58.433Z"
   },
   {
    "duration": 51,
    "start_time": "2023-01-21T16:29:58.448Z"
   },
   {
    "duration": 12,
    "start_time": "2023-01-21T16:29:58.501Z"
   },
   {
    "duration": 17,
    "start_time": "2023-01-21T16:29:58.514Z"
   },
   {
    "duration": 5,
    "start_time": "2023-01-21T16:29:58.533Z"
   },
   {
    "duration": 30,
    "start_time": "2023-01-21T16:29:58.539Z"
   },
   {
    "duration": 8,
    "start_time": "2023-01-21T16:29:58.571Z"
   },
   {
    "duration": 15,
    "start_time": "2023-01-21T16:29:58.582Z"
   },
   {
    "duration": 31,
    "start_time": "2023-01-21T16:29:58.599Z"
   },
   {
    "duration": 4,
    "start_time": "2023-01-21T16:29:58.632Z"
   },
   {
    "duration": 21,
    "start_time": "2023-01-21T16:29:58.637Z"
   },
   {
    "duration": 23,
    "start_time": "2023-01-21T16:29:58.659Z"
   },
   {
    "duration": 15,
    "start_time": "2023-01-21T16:29:58.684Z"
   },
   {
    "duration": 16,
    "start_time": "2023-01-21T16:29:58.701Z"
   },
   {
    "duration": 1798,
    "start_time": "2023-01-21T16:29:58.719Z"
   },
   {
    "duration": 202,
    "start_time": "2023-01-21T16:30:00.519Z"
   },
   {
    "duration": 325,
    "start_time": "2023-01-21T16:30:00.723Z"
   },
   {
    "duration": 250,
    "start_time": "2023-01-21T16:30:01.050Z"
   },
   {
    "duration": 5,
    "start_time": "2023-01-21T16:30:01.302Z"
   },
   {
    "duration": 564,
    "start_time": "2023-01-21T16:30:01.308Z"
   },
   {
    "duration": 518,
    "start_time": "2023-01-21T16:30:01.874Z"
   },
   {
    "duration": 173,
    "start_time": "2023-01-21T16:30:07.030Z"
   },
   {
    "duration": 387,
    "start_time": "2023-01-21T16:30:25.261Z"
   },
   {
    "duration": 311,
    "start_time": "2023-01-21T16:35:34.623Z"
   },
   {
    "duration": 279,
    "start_time": "2023-01-21T16:38:56.698Z"
   },
   {
    "duration": 308,
    "start_time": "2023-01-21T16:39:08.442Z"
   },
   {
    "duration": 271,
    "start_time": "2023-01-21T16:42:37.740Z"
   },
   {
    "duration": 279,
    "start_time": "2023-01-21T16:42:48.645Z"
   },
   {
    "duration": 255,
    "start_time": "2023-01-21T16:42:58.060Z"
   },
   {
    "duration": 305,
    "start_time": "2023-01-21T16:43:30.423Z"
   },
   {
    "duration": 240,
    "start_time": "2023-01-21T16:43:46.450Z"
   },
   {
    "duration": 315,
    "start_time": "2023-01-21T16:46:15.384Z"
   },
   {
    "duration": 368,
    "start_time": "2023-01-21T16:46:58.740Z"
   },
   {
    "duration": 242,
    "start_time": "2023-01-21T16:49:22.374Z"
   },
   {
    "duration": 277,
    "start_time": "2023-01-21T16:49:29.705Z"
   },
   {
    "duration": 250,
    "start_time": "2023-01-21T16:49:46.367Z"
   },
   {
    "duration": 280,
    "start_time": "2023-01-21T16:50:54.798Z"
   },
   {
    "duration": 266,
    "start_time": "2023-01-21T16:51:01.950Z"
   },
   {
    "duration": 257,
    "start_time": "2023-01-21T16:51:13.167Z"
   },
   {
    "duration": 254,
    "start_time": "2023-01-21T16:52:04.168Z"
   },
   {
    "duration": 285,
    "start_time": "2023-01-21T16:53:02.896Z"
   },
   {
    "duration": 237,
    "start_time": "2023-01-21T16:53:11.578Z"
   },
   {
    "duration": 501,
    "start_time": "2023-01-21T16:53:40.100Z"
   },
   {
    "duration": 490,
    "start_time": "2023-01-21T16:53:49.394Z"
   },
   {
    "duration": 386,
    "start_time": "2023-01-21T16:55:29.747Z"
   },
   {
    "duration": 250,
    "start_time": "2023-01-21T16:56:22.468Z"
   },
   {
    "duration": 238,
    "start_time": "2023-01-21T16:56:49.249Z"
   },
   {
    "duration": 337,
    "start_time": "2023-01-21T16:57:01.531Z"
   },
   {
    "duration": 3,
    "start_time": "2023-01-21T16:57:36.651Z"
   },
   {
    "duration": 7,
    "start_time": "2023-01-21T16:57:36.657Z"
   },
   {
    "duration": 54,
    "start_time": "2023-01-21T16:57:36.666Z"
   },
   {
    "duration": 15,
    "start_time": "2023-01-21T16:57:36.721Z"
   },
   {
    "duration": 17,
    "start_time": "2023-01-21T16:57:36.739Z"
   },
   {
    "duration": 5,
    "start_time": "2023-01-21T16:57:36.758Z"
   },
   {
    "duration": 20,
    "start_time": "2023-01-21T16:57:36.765Z"
   },
   {
    "duration": 10,
    "start_time": "2023-01-21T16:57:36.787Z"
   },
   {
    "duration": 14,
    "start_time": "2023-01-21T16:57:36.799Z"
   },
   {
    "duration": 12,
    "start_time": "2023-01-21T16:57:36.815Z"
   },
   {
    "duration": 3,
    "start_time": "2023-01-21T16:57:36.848Z"
   },
   {
    "duration": 16,
    "start_time": "2023-01-21T16:57:36.852Z"
   },
   {
    "duration": 12,
    "start_time": "2023-01-21T16:57:36.869Z"
   },
   {
    "duration": 16,
    "start_time": "2023-01-21T16:57:36.883Z"
   },
   {
    "duration": 6,
    "start_time": "2023-01-21T16:57:36.901Z"
   },
   {
    "duration": 1872,
    "start_time": "2023-01-21T16:57:36.908Z"
   },
   {
    "duration": 204,
    "start_time": "2023-01-21T16:57:38.782Z"
   },
   {
    "duration": 333,
    "start_time": "2023-01-21T16:57:38.988Z"
   },
   {
    "duration": 427,
    "start_time": "2023-01-21T16:57:39.322Z"
   },
   {
    "duration": 4,
    "start_time": "2023-01-21T16:57:39.751Z"
   },
   {
    "duration": 517,
    "start_time": "2023-01-21T16:57:39.757Z"
   },
   {
    "duration": 244,
    "start_time": "2023-01-21T16:57:40.276Z"
   },
   {
    "duration": 379,
    "start_time": "2023-01-21T16:57:45.058Z"
   },
   {
    "duration": 168,
    "start_time": "2023-01-21T17:01:51.254Z"
   },
   {
    "duration": 2136,
    "start_time": "2023-01-21T17:02:09.160Z"
   },
   {
    "duration": 2203,
    "start_time": "2023-01-21T17:02:51.228Z"
   },
   {
    "duration": 2062,
    "start_time": "2023-01-21T17:04:56.251Z"
   },
   {
    "duration": 2200,
    "start_time": "2023-01-21T17:05:36.205Z"
   },
   {
    "duration": 304,
    "start_time": "2023-01-21T17:06:54.546Z"
   },
   {
    "duration": 2194,
    "start_time": "2023-01-21T17:06:59.593Z"
   },
   {
    "duration": 174,
    "start_time": "2023-01-21T17:07:43.679Z"
   },
   {
    "duration": 510,
    "start_time": "2023-01-21T17:08:32.360Z"
   },
   {
    "duration": 177,
    "start_time": "2023-01-21T17:08:35.811Z"
   },
   {
    "duration": 3,
    "start_time": "2023-01-21T17:09:17.747Z"
   },
   {
    "duration": 7,
    "start_time": "2023-01-21T17:09:17.752Z"
   },
   {
    "duration": 50,
    "start_time": "2023-01-21T17:09:17.761Z"
   },
   {
    "duration": 14,
    "start_time": "2023-01-21T17:09:17.813Z"
   },
   {
    "duration": 15,
    "start_time": "2023-01-21T17:09:17.828Z"
   },
   {
    "duration": 4,
    "start_time": "2023-01-21T17:09:17.844Z"
   },
   {
    "duration": 50,
    "start_time": "2023-01-21T17:09:17.850Z"
   },
   {
    "duration": 25,
    "start_time": "2023-01-21T17:09:17.902Z"
   },
   {
    "duration": 12,
    "start_time": "2023-01-21T17:09:17.929Z"
   },
   {
    "duration": 11,
    "start_time": "2023-01-21T17:09:17.943Z"
   },
   {
    "duration": 8,
    "start_time": "2023-01-21T17:09:17.956Z"
   },
   {
    "duration": 16,
    "start_time": "2023-01-21T17:09:17.966Z"
   },
   {
    "duration": 11,
    "start_time": "2023-01-21T17:09:17.983Z"
   },
   {
    "duration": 15,
    "start_time": "2023-01-21T17:09:17.995Z"
   },
   {
    "duration": 5,
    "start_time": "2023-01-21T17:09:18.012Z"
   },
   {
    "duration": 1922,
    "start_time": "2023-01-21T17:09:18.018Z"
   },
   {
    "duration": 209,
    "start_time": "2023-01-21T17:09:19.942Z"
   },
   {
    "duration": 373,
    "start_time": "2023-01-21T17:09:20.152Z"
   },
   {
    "duration": 256,
    "start_time": "2023-01-21T17:09:20.527Z"
   },
   {
    "duration": 4,
    "start_time": "2023-01-21T17:09:20.785Z"
   },
   {
    "duration": 685,
    "start_time": "2023-01-21T17:09:20.790Z"
   },
   {
    "duration": 301,
    "start_time": "2023-01-21T17:09:21.476Z"
   },
   {
    "duration": 355,
    "start_time": "2023-01-21T17:09:21.779Z"
   },
   {
    "duration": 176,
    "start_time": "2023-01-21T17:09:30.002Z"
   },
   {
    "duration": 344,
    "start_time": "2023-01-21T17:10:38.756Z"
   },
   {
    "duration": 183,
    "start_time": "2023-01-21T17:10:53.059Z"
   },
   {
    "duration": 346,
    "start_time": "2023-01-21T17:12:49.487Z"
   },
   {
    "duration": 191,
    "start_time": "2023-01-21T17:12:57.826Z"
   },
   {
    "duration": 359,
    "start_time": "2023-01-21T17:14:06.991Z"
   },
   {
    "duration": 192,
    "start_time": "2023-01-21T17:14:20.472Z"
   },
   {
    "duration": 337,
    "start_time": "2023-01-21T17:19:06.884Z"
   },
   {
    "duration": 54,
    "start_time": "2023-01-21T17:26:14.824Z"
   },
   {
    "duration": 53,
    "start_time": "2023-01-21T17:26:40.840Z"
   },
   {
    "duration": 310,
    "start_time": "2023-01-21T17:26:57.838Z"
   },
   {
    "duration": 350,
    "start_time": "2023-01-21T17:28:01.881Z"
   },
   {
    "duration": 321,
    "start_time": "2023-01-21T17:28:33.216Z"
   },
   {
    "duration": 45,
    "start_time": "2023-01-21T17:31:19.470Z"
   },
   {
    "duration": 498,
    "start_time": "2023-01-21T17:31:28.167Z"
   },
   {
    "duration": 309,
    "start_time": "2023-01-21T17:31:36.822Z"
   },
   {
    "duration": 3554,
    "start_time": "2023-01-21T17:32:49.307Z"
   },
   {
    "duration": 3711,
    "start_time": "2023-01-21T17:34:31.125Z"
   },
   {
    "duration": 345,
    "start_time": "2023-01-21T17:34:38.981Z"
   },
   {
    "duration": 3734,
    "start_time": "2023-01-21T17:34:44.119Z"
   },
   {
    "duration": 341,
    "start_time": "2023-01-21T17:43:25.896Z"
   },
   {
    "duration": 3655,
    "start_time": "2023-01-21T17:43:30.119Z"
   },
   {
    "duration": 198,
    "start_time": "2023-01-21T18:02:15.955Z"
   },
   {
    "duration": 16,
    "start_time": "2023-01-21T18:02:44.396Z"
   },
   {
    "duration": 750,
    "start_time": "2023-01-21T18:03:12.721Z"
   },
   {
    "duration": 108,
    "start_time": "2023-01-21T18:04:12.664Z"
   },
   {
    "duration": 21,
    "start_time": "2023-01-21T18:04:40.860Z"
   },
   {
    "duration": 21,
    "start_time": "2023-01-21T18:05:13.999Z"
   },
   {
    "duration": 22,
    "start_time": "2023-01-21T18:05:24.627Z"
   },
   {
    "duration": 202,
    "start_time": "2023-01-21T18:08:02.430Z"
   },
   {
    "duration": 196,
    "start_time": "2023-01-21T18:09:58.884Z"
   },
   {
    "duration": 194,
    "start_time": "2023-01-21T18:10:09.720Z"
   },
   {
    "duration": 363,
    "start_time": "2023-01-21T18:11:56.552Z"
   },
   {
    "duration": 3720,
    "start_time": "2023-01-21T18:18:37.450Z"
   },
   {
    "duration": 73,
    "start_time": "2023-01-21T20:00:24.926Z"
   },
   {
    "duration": 1310,
    "start_time": "2023-01-21T20:00:37.375Z"
   },
   {
    "duration": 2,
    "start_time": "2023-01-21T20:00:38.687Z"
   },
   {
    "duration": 220,
    "start_time": "2023-01-21T20:00:38.691Z"
   },
   {
    "duration": 17,
    "start_time": "2023-01-21T20:00:38.913Z"
   },
   {
    "duration": 13,
    "start_time": "2023-01-21T20:00:38.932Z"
   },
   {
    "duration": 4,
    "start_time": "2023-01-21T20:00:38.946Z"
   },
   {
    "duration": 20,
    "start_time": "2023-01-21T20:00:38.951Z"
   },
   {
    "duration": 14,
    "start_time": "2023-01-21T20:00:38.975Z"
   },
   {
    "duration": 26,
    "start_time": "2023-01-21T20:00:38.991Z"
   },
   {
    "duration": 10,
    "start_time": "2023-01-21T20:00:39.019Z"
   },
   {
    "duration": 5,
    "start_time": "2023-01-21T20:00:39.031Z"
   },
   {
    "duration": 21,
    "start_time": "2023-01-21T20:00:39.038Z"
   },
   {
    "duration": 15,
    "start_time": "2023-01-21T20:00:39.067Z"
   },
   {
    "duration": 16,
    "start_time": "2023-01-21T20:00:39.088Z"
   },
   {
    "duration": 5,
    "start_time": "2023-01-21T20:00:39.105Z"
   },
   {
    "duration": 1893,
    "start_time": "2023-01-21T20:00:39.112Z"
   },
   {
    "duration": 215,
    "start_time": "2023-01-21T20:00:41.007Z"
   },
   {
    "duration": 334,
    "start_time": "2023-01-21T20:00:41.223Z"
   },
   {
    "duration": 258,
    "start_time": "2023-01-21T20:00:41.569Z"
   },
   {
    "duration": 5,
    "start_time": "2023-01-21T20:00:41.830Z"
   },
   {
    "duration": 675,
    "start_time": "2023-01-21T20:00:41.837Z"
   },
   {
    "duration": 370,
    "start_time": "2023-01-21T20:00:42.513Z"
   },
   {
    "duration": 404,
    "start_time": "2023-01-21T20:00:46.285Z"
   },
   {
    "duration": 3994,
    "start_time": "2023-01-21T20:01:38.387Z"
   },
   {
    "duration": 3,
    "start_time": "2023-01-21T20:03:02.201Z"
   },
   {
    "duration": 29,
    "start_time": "2023-01-21T20:05:21.587Z"
   },
   {
    "duration": 10,
    "start_time": "2023-01-21T20:19:57.767Z"
   },
   {
    "duration": 100,
    "start_time": "2023-01-21T20:22:30.447Z"
   },
   {
    "duration": 97,
    "start_time": "2023-01-21T20:23:00.445Z"
   },
   {
    "duration": 104,
    "start_time": "2023-01-21T20:23:11.270Z"
   },
   {
    "duration": 190,
    "start_time": "2023-01-21T20:23:25.341Z"
   },
   {
    "duration": 55,
    "start_time": "2023-01-21T20:23:30.806Z"
   },
   {
    "duration": 50,
    "start_time": "2023-01-21T20:23:44.568Z"
   },
   {
    "duration": 18,
    "start_time": "2023-01-21T20:26:59.392Z"
   },
   {
    "duration": 17,
    "start_time": "2023-01-21T20:27:22.135Z"
   },
   {
    "duration": 12,
    "start_time": "2023-01-21T20:27:29.528Z"
   },
   {
    "duration": 90,
    "start_time": "2023-01-21T20:27:55.947Z"
   },
   {
    "duration": 29,
    "start_time": "2023-01-21T20:28:02.361Z"
   },
   {
    "duration": 18,
    "start_time": "2023-01-21T20:29:49.009Z"
   },
   {
    "duration": 34,
    "start_time": "2023-01-21T20:30:32.744Z"
   },
   {
    "duration": 37,
    "start_time": "2023-01-21T20:30:45.960Z"
   },
   {
    "duration": 54,
    "start_time": "2023-01-21T20:31:42.464Z"
   },
   {
    "duration": 20,
    "start_time": "2023-01-21T20:32:41.733Z"
   },
   {
    "duration": 27,
    "start_time": "2023-01-21T20:32:49.393Z"
   },
   {
    "duration": 61,
    "start_time": "2023-01-21T20:33:19.346Z"
   },
   {
    "duration": 36,
    "start_time": "2023-01-21T20:34:14.946Z"
   },
   {
    "duration": 18,
    "start_time": "2023-01-21T20:35:29.329Z"
   },
   {
    "duration": 23,
    "start_time": "2023-01-21T20:35:53.195Z"
   },
   {
    "duration": 232,
    "start_time": "2023-01-21T20:37:41.795Z"
   },
   {
    "duration": 620,
    "start_time": "2023-01-21T20:41:41.292Z"
   },
   {
    "duration": 517,
    "start_time": "2023-01-21T20:41:57.560Z"
   },
   {
    "duration": 406,
    "start_time": "2023-01-21T20:43:02.656Z"
   },
   {
    "duration": 448,
    "start_time": "2023-01-21T20:43:14.734Z"
   },
   {
    "duration": 5,
    "start_time": "2023-01-21T20:43:28.397Z"
   },
   {
    "duration": 36,
    "start_time": "2023-01-21T20:43:28.404Z"
   },
   {
    "duration": 227,
    "start_time": "2023-01-21T20:43:28.442Z"
   },
   {
    "duration": 27,
    "start_time": "2023-01-21T20:43:28.671Z"
   },
   {
    "duration": 61,
    "start_time": "2023-01-21T20:43:28.701Z"
   },
   {
    "duration": 11,
    "start_time": "2023-01-21T20:43:28.764Z"
   },
   {
    "duration": 85,
    "start_time": "2023-01-21T20:43:28.777Z"
   },
   {
    "duration": 28,
    "start_time": "2023-01-21T20:43:28.865Z"
   },
   {
    "duration": 57,
    "start_time": "2023-01-21T20:43:28.895Z"
   },
   {
    "duration": 10,
    "start_time": "2023-01-21T20:43:28.955Z"
   },
   {
    "duration": 65,
    "start_time": "2023-01-21T20:43:28.967Z"
   },
   {
    "duration": 28,
    "start_time": "2023-01-21T20:43:29.034Z"
   },
   {
    "duration": 92,
    "start_time": "2023-01-21T20:43:29.065Z"
   },
   {
    "duration": 42,
    "start_time": "2023-01-21T20:43:29.161Z"
   },
   {
    "duration": 43,
    "start_time": "2023-01-21T20:43:29.205Z"
   },
   {
    "duration": 3073,
    "start_time": "2023-01-21T20:43:29.251Z"
   },
   {
    "duration": 406,
    "start_time": "2023-01-21T20:43:32.336Z"
   },
   {
    "duration": 755,
    "start_time": "2023-01-21T20:43:32.747Z"
   },
   {
    "duration": 433,
    "start_time": "2023-01-21T20:43:33.515Z"
   },
   {
    "duration": 7,
    "start_time": "2023-01-21T20:43:33.951Z"
   },
   {
    "duration": 774,
    "start_time": "2023-01-21T20:43:33.972Z"
   },
   {
    "duration": 403,
    "start_time": "2023-01-21T20:43:34.748Z"
   },
   {
    "duration": 477,
    "start_time": "2023-01-21T20:43:35.156Z"
   },
   {
    "duration": 4902,
    "start_time": "2023-01-21T20:43:35.636Z"
   },
   {
    "duration": 626,
    "start_time": "2023-01-21T20:43:40.540Z"
   },
   {
    "duration": 744,
    "start_time": "2023-01-21T20:43:45.446Z"
   },
   {
    "duration": 88,
    "start_time": "2023-01-21T20:46:04.765Z"
   },
   {
    "duration": 417,
    "start_time": "2023-01-21T20:46:12.695Z"
   },
   {
    "duration": 452,
    "start_time": "2023-01-21T20:46:36.445Z"
   },
   {
    "duration": 482,
    "start_time": "2023-01-21T20:47:04.513Z"
   },
   {
    "duration": 476,
    "start_time": "2023-01-21T20:47:24.248Z"
   },
   {
    "duration": 432,
    "start_time": "2023-01-21T20:47:33.522Z"
   },
   {
    "duration": 831,
    "start_time": "2023-01-21T20:48:53.892Z"
   },
   {
    "duration": 528,
    "start_time": "2023-01-21T20:49:03.629Z"
   },
   {
    "duration": 470,
    "start_time": "2023-01-21T20:49:12.117Z"
   },
   {
    "duration": 396,
    "start_time": "2023-01-21T20:49:27.116Z"
   },
   {
    "duration": 852,
    "start_time": "2023-01-21T20:51:09.097Z"
   },
   {
    "duration": 900,
    "start_time": "2023-01-21T20:51:48.197Z"
   },
   {
    "duration": 407,
    "start_time": "2023-01-21T20:51:59.722Z"
   },
   {
    "duration": 428,
    "start_time": "2023-01-21T20:52:13.042Z"
   },
   {
    "duration": 532,
    "start_time": "2023-01-21T20:54:40.105Z"
   },
   {
    "duration": 528,
    "start_time": "2023-01-21T20:54:59.614Z"
   },
   {
    "duration": 487,
    "start_time": "2023-01-21T20:55:15.401Z"
   },
   {
    "duration": 483,
    "start_time": "2023-01-21T20:59:07.216Z"
   },
   {
    "duration": 467,
    "start_time": "2023-01-21T20:59:17.151Z"
   },
   {
    "duration": 471,
    "start_time": "2023-01-21T20:59:31.834Z"
   },
   {
    "duration": 353,
    "start_time": "2023-01-21T21:00:57.290Z"
   },
   {
    "duration": 429,
    "start_time": "2023-01-21T21:01:04.723Z"
   },
   {
    "duration": 402,
    "start_time": "2023-01-21T21:01:10.618Z"
   },
   {
    "duration": 346,
    "start_time": "2023-01-21T21:01:15.301Z"
   },
   {
    "duration": 417,
    "start_time": "2023-01-21T21:01:20.243Z"
   },
   {
    "duration": 313,
    "start_time": "2023-01-21T21:01:27.028Z"
   },
   {
    "duration": 396,
    "start_time": "2023-01-21T21:05:53.706Z"
   },
   {
    "duration": 385,
    "start_time": "2023-01-21T21:09:59.248Z"
   },
   {
    "duration": 418,
    "start_time": "2023-01-21T21:10:08.666Z"
   },
   {
    "duration": 553,
    "start_time": "2023-01-21T21:10:21.160Z"
   },
   {
    "duration": 546,
    "start_time": "2023-01-21T21:10:58.010Z"
   },
   {
    "duration": 413,
    "start_time": "2023-01-21T21:11:15.332Z"
   },
   {
    "duration": 456,
    "start_time": "2023-01-21T21:11:24.759Z"
   },
   {
    "duration": 3,
    "start_time": "2023-01-21T21:20:56.497Z"
   },
   {
    "duration": 7,
    "start_time": "2023-01-21T21:20:56.502Z"
   },
   {
    "duration": 54,
    "start_time": "2023-01-21T21:20:56.510Z"
   },
   {
    "duration": 18,
    "start_time": "2023-01-21T21:20:56.566Z"
   },
   {
    "duration": 26,
    "start_time": "2023-01-21T21:20:56.587Z"
   },
   {
    "duration": 4,
    "start_time": "2023-01-21T21:20:56.614Z"
   },
   {
    "duration": 19,
    "start_time": "2023-01-21T21:20:56.619Z"
   },
   {
    "duration": 7,
    "start_time": "2023-01-21T21:20:56.640Z"
   },
   {
    "duration": 24,
    "start_time": "2023-01-21T21:20:56.648Z"
   },
   {
    "duration": 11,
    "start_time": "2023-01-21T21:20:56.674Z"
   },
   {
    "duration": 13,
    "start_time": "2023-01-21T21:20:56.687Z"
   },
   {
    "duration": 13,
    "start_time": "2023-01-21T21:20:56.701Z"
   },
   {
    "duration": 12,
    "start_time": "2023-01-21T21:20:56.716Z"
   },
   {
    "duration": 18,
    "start_time": "2023-01-21T21:20:56.733Z"
   },
   {
    "duration": 21,
    "start_time": "2023-01-21T21:20:56.752Z"
   },
   {
    "duration": 2043,
    "start_time": "2023-01-21T21:20:56.780Z"
   },
   {
    "duration": 222,
    "start_time": "2023-01-21T21:20:58.824Z"
   },
   {
    "duration": 485,
    "start_time": "2023-01-21T21:20:59.048Z"
   },
   {
    "duration": 273,
    "start_time": "2023-01-21T21:20:59.535Z"
   },
   {
    "duration": 5,
    "start_time": "2023-01-21T21:20:59.809Z"
   },
   {
    "duration": 538,
    "start_time": "2023-01-21T21:20:59.816Z"
   },
   {
    "duration": 282,
    "start_time": "2023-01-21T21:21:00.355Z"
   },
   {
    "duration": 355,
    "start_time": "2023-01-21T21:21:00.639Z"
   },
   {
    "duration": 3773,
    "start_time": "2023-01-21T21:21:00.999Z"
   },
   {
    "duration": 458,
    "start_time": "2023-01-21T21:21:04.777Z"
   },
   {
    "duration": 430,
    "start_time": "2023-01-21T21:21:07.830Z"
   },
   {
    "duration": 350,
    "start_time": "2023-01-21T21:22:49.825Z"
   },
   {
    "duration": 336,
    "start_time": "2023-01-21T21:23:09.194Z"
   },
   {
    "duration": 387,
    "start_time": "2023-01-21T21:23:18.862Z"
   },
   {
    "duration": 344,
    "start_time": "2023-01-21T21:23:29.040Z"
   },
   {
    "duration": 344,
    "start_time": "2023-01-21T21:23:32.417Z"
   },
   {
    "duration": 515,
    "start_time": "2023-01-21T21:28:48.836Z"
   },
   {
    "duration": 71,
    "start_time": "2023-01-21T21:33:16.345Z"
   },
   {
    "duration": 355,
    "start_time": "2023-01-21T21:33:25.863Z"
   },
   {
    "duration": 300,
    "start_time": "2023-01-21T21:34:16.023Z"
   },
   {
    "duration": 304,
    "start_time": "2023-01-21T21:51:20.881Z"
   },
   {
    "duration": 332,
    "start_time": "2023-01-21T21:52:31.164Z"
   },
   {
    "duration": 335,
    "start_time": "2023-01-21T21:53:33.918Z"
   },
   {
    "duration": 394,
    "start_time": "2023-01-21T21:57:09.651Z"
   },
   {
    "duration": 286,
    "start_time": "2023-01-21T21:58:57.987Z"
   },
   {
    "duration": 350,
    "start_time": "2023-01-21T22:00:55.003Z"
   },
   {
    "duration": 258,
    "start_time": "2023-01-21T22:01:29.425Z"
   },
   {
    "duration": 298,
    "start_time": "2023-01-21T22:05:55.759Z"
   },
   {
    "duration": 295,
    "start_time": "2023-01-21T22:06:06.192Z"
   },
   {
    "duration": 260,
    "start_time": "2023-01-21T22:06:14.141Z"
   },
   {
    "duration": 272,
    "start_time": "2023-01-21T22:06:23.813Z"
   },
   {
    "duration": 377,
    "start_time": "2023-01-21T22:06:40.325Z"
   },
   {
    "duration": 253,
    "start_time": "2023-01-21T22:07:12.684Z"
   },
   {
    "duration": 249,
    "start_time": "2023-01-21T22:11:56.860Z"
   },
   {
    "duration": 51,
    "start_time": "2023-01-21T22:12:26.525Z"
   },
   {
    "duration": 5,
    "start_time": "2023-01-22T10:08:25.629Z"
   },
   {
    "duration": 54,
    "start_time": "2023-01-22T10:12:56.756Z"
   },
   {
    "duration": 1444,
    "start_time": "2023-01-22T10:13:04.910Z"
   },
   {
    "duration": 2,
    "start_time": "2023-01-22T10:13:06.357Z"
   },
   {
    "duration": 102,
    "start_time": "2023-01-22T10:13:06.361Z"
   },
   {
    "duration": 29,
    "start_time": "2023-01-22T10:13:06.465Z"
   },
   {
    "duration": 16,
    "start_time": "2023-01-22T10:13:06.497Z"
   },
   {
    "duration": 6,
    "start_time": "2023-01-22T10:13:06.515Z"
   },
   {
    "duration": 21,
    "start_time": "2023-01-22T10:13:06.522Z"
   },
   {
    "duration": 42,
    "start_time": "2023-01-22T10:13:06.545Z"
   },
   {
    "duration": 16,
    "start_time": "2023-01-22T10:13:06.588Z"
   },
   {
    "duration": 12,
    "start_time": "2023-01-22T10:13:06.606Z"
   },
   {
    "duration": 5,
    "start_time": "2023-01-22T10:13:06.620Z"
   },
   {
    "duration": 57,
    "start_time": "2023-01-22T10:13:06.628Z"
   },
   {
    "duration": 19,
    "start_time": "2023-01-22T10:13:06.688Z"
   },
   {
    "duration": 30,
    "start_time": "2023-01-22T10:13:06.710Z"
   },
   {
    "duration": 10,
    "start_time": "2023-01-22T10:13:06.742Z"
   },
   {
    "duration": 2147,
    "start_time": "2023-01-22T10:13:06.754Z"
   },
   {
    "duration": 243,
    "start_time": "2023-01-22T10:13:08.903Z"
   },
   {
    "duration": 503,
    "start_time": "2023-01-22T10:13:09.149Z"
   },
   {
    "duration": 368,
    "start_time": "2023-01-22T10:13:09.656Z"
   },
   {
    "duration": 6,
    "start_time": "2023-01-22T10:13:10.027Z"
   },
   {
    "duration": 802,
    "start_time": "2023-01-22T10:13:10.035Z"
   },
   {
    "duration": 374,
    "start_time": "2023-01-22T10:13:10.840Z"
   },
   {
    "duration": 388,
    "start_time": "2023-01-22T10:13:11.216Z"
   },
   {
    "duration": 4350,
    "start_time": "2023-01-22T10:13:11.607Z"
   },
   {
    "duration": 464,
    "start_time": "2023-01-22T10:13:15.959Z"
   },
   {
    "duration": 359,
    "start_time": "2023-01-22T10:13:16.425Z"
   },
   {
    "duration": 353,
    "start_time": "2023-01-22T10:13:16.786Z"
   },
   {
    "duration": 309,
    "start_time": "2023-01-22T10:13:17.141Z"
   },
   {
    "duration": 70,
    "start_time": "2023-01-22T10:13:20.728Z"
   },
   {
    "duration": 14,
    "start_time": "2023-01-22T10:13:39.474Z"
   },
   {
    "duration": 13,
    "start_time": "2023-01-22T10:14:50.269Z"
   },
   {
    "duration": 24,
    "start_time": "2023-01-22T10:15:13.209Z"
   },
   {
    "duration": 21,
    "start_time": "2023-01-22T10:15:26.516Z"
   },
   {
    "duration": 30,
    "start_time": "2023-01-22T10:16:57.284Z"
   },
   {
    "duration": 139,
    "start_time": "2023-01-22T10:17:09.070Z"
   },
   {
    "duration": 39,
    "start_time": "2023-01-22T10:17:25.055Z"
   },
   {
    "duration": 14,
    "start_time": "2023-01-22T10:17:36.031Z"
   },
   {
    "duration": 775,
    "start_time": "2023-01-22T10:18:20.102Z"
   },
   {
    "duration": 766,
    "start_time": "2023-01-22T10:18:59.205Z"
   },
   {
    "duration": 9,
    "start_time": "2023-01-22T10:19:11.689Z"
   },
   {
    "duration": 11,
    "start_time": "2023-01-22T10:19:43.833Z"
   },
   {
    "duration": 20,
    "start_time": "2023-01-22T10:31:59.434Z"
   },
   {
    "duration": 733,
    "start_time": "2023-01-22T10:33:18.998Z"
   },
   {
    "duration": 9,
    "start_time": "2023-01-22T10:34:00.407Z"
   },
   {
    "duration": 13,
    "start_time": "2023-01-22T10:35:33.631Z"
   },
   {
    "duration": 11,
    "start_time": "2023-01-22T10:35:57.356Z"
   },
   {
    "duration": 11,
    "start_time": "2023-01-22T10:43:13.769Z"
   },
   {
    "duration": 11,
    "start_time": "2023-01-22T10:44:05.104Z"
   },
   {
    "duration": 55,
    "start_time": "2023-01-22T10:45:34.172Z"
   },
   {
    "duration": 10,
    "start_time": "2023-01-22T10:45:41.325Z"
   },
   {
    "duration": 12,
    "start_time": "2023-01-22T10:53:19.539Z"
   },
   {
    "duration": 17,
    "start_time": "2023-01-22T10:54:52.866Z"
   },
   {
    "duration": 21,
    "start_time": "2023-01-22T10:55:03.558Z"
   },
   {
    "duration": 16,
    "start_time": "2023-01-22T10:55:19.194Z"
   },
   {
    "duration": 13,
    "start_time": "2023-01-22T10:56:41.215Z"
   },
   {
    "duration": 16,
    "start_time": "2023-01-22T10:57:24.963Z"
   },
   {
    "duration": 700,
    "start_time": "2023-01-22T10:57:42.632Z"
   },
   {
    "duration": 14,
    "start_time": "2023-01-22T10:58:03.494Z"
   },
   {
    "duration": 20,
    "start_time": "2023-01-22T10:59:05.959Z"
   },
   {
    "duration": 19,
    "start_time": "2023-01-22T11:00:07.788Z"
   },
   {
    "duration": 53,
    "start_time": "2023-01-22T11:00:52.598Z"
   },
   {
    "duration": 46,
    "start_time": "2023-01-22T11:01:05.458Z"
   },
   {
    "duration": 13,
    "start_time": "2023-01-22T11:01:13.874Z"
   },
   {
    "duration": 13,
    "start_time": "2023-01-22T11:01:23.829Z"
   },
   {
    "duration": 18,
    "start_time": "2023-01-22T11:01:43.963Z"
   },
   {
    "duration": 13,
    "start_time": "2023-01-22T11:13:58.410Z"
   },
   {
    "duration": 15,
    "start_time": "2023-01-22T11:15:18.990Z"
   },
   {
    "duration": 16,
    "start_time": "2023-01-22T11:16:51.671Z"
   },
   {
    "duration": 41,
    "start_time": "2023-01-22T11:17:11.141Z"
   },
   {
    "duration": 19,
    "start_time": "2023-01-22T11:17:20.377Z"
   },
   {
    "duration": 12,
    "start_time": "2023-01-22T11:18:10.729Z"
   },
   {
    "duration": 3,
    "start_time": "2023-01-22T11:53:01.124Z"
   },
   {
    "duration": 5,
    "start_time": "2023-01-22T11:58:42.974Z"
   },
   {
    "duration": 16,
    "start_time": "2023-01-22T12:00:07.267Z"
   },
   {
    "duration": 7,
    "start_time": "2023-01-22T12:01:30.655Z"
   },
   {
    "duration": 804,
    "start_time": "2023-01-22T12:12:52.258Z"
   },
   {
    "duration": 5,
    "start_time": "2023-01-22T12:43:32.071Z"
   },
   {
    "duration": 11,
    "start_time": "2023-01-22T12:43:32.078Z"
   },
   {
    "duration": 55,
    "start_time": "2023-01-22T12:43:32.091Z"
   },
   {
    "duration": 16,
    "start_time": "2023-01-22T12:43:32.148Z"
   },
   {
    "duration": 32,
    "start_time": "2023-01-22T12:43:32.166Z"
   },
   {
    "duration": 6,
    "start_time": "2023-01-22T12:43:32.199Z"
   },
   {
    "duration": 25,
    "start_time": "2023-01-22T12:43:32.207Z"
   },
   {
    "duration": 15,
    "start_time": "2023-01-22T12:43:32.234Z"
   },
   {
    "duration": 37,
    "start_time": "2023-01-22T12:43:32.252Z"
   },
   {
    "duration": 12,
    "start_time": "2023-01-22T12:43:32.291Z"
   },
   {
    "duration": 3,
    "start_time": "2023-01-22T12:43:32.305Z"
   },
   {
    "duration": 16,
    "start_time": "2023-01-22T12:43:32.310Z"
   },
   {
    "duration": 20,
    "start_time": "2023-01-22T12:43:32.328Z"
   },
   {
    "duration": 31,
    "start_time": "2023-01-22T12:43:32.384Z"
   },
   {
    "duration": 6,
    "start_time": "2023-01-22T12:43:32.417Z"
   },
   {
    "duration": 2199,
    "start_time": "2023-01-22T12:43:32.425Z"
   },
   {
    "duration": 263,
    "start_time": "2023-01-22T12:43:34.626Z"
   },
   {
    "duration": 17,
    "start_time": "2023-01-22T12:43:34.891Z"
   },
   {
    "duration": 965,
    "start_time": "2023-01-22T12:43:34.910Z"
   },
   {
    "duration": 301,
    "start_time": "2023-01-22T12:43:35.884Z"
   },
   {
    "duration": 5,
    "start_time": "2023-01-22T12:43:36.188Z"
   },
   {
    "duration": 635,
    "start_time": "2023-01-22T12:43:36.195Z"
   },
   {
    "duration": 329,
    "start_time": "2023-01-22T12:43:36.832Z"
   },
   {
    "duration": 433,
    "start_time": "2023-01-22T12:43:37.163Z"
   },
   {
    "duration": 4567,
    "start_time": "2023-01-22T12:43:37.599Z"
   },
   {
    "duration": 476,
    "start_time": "2023-01-22T12:43:42.168Z"
   },
   {
    "duration": 367,
    "start_time": "2023-01-22T12:43:42.649Z"
   },
   {
    "duration": 492,
    "start_time": "2023-01-22T12:43:43.018Z"
   },
   {
    "duration": 299,
    "start_time": "2023-01-22T12:43:43.511Z"
   },
   {
    "duration": 11,
    "start_time": "2023-01-22T12:43:43.812Z"
   },
   {
    "duration": 15,
    "start_time": "2023-01-22T12:43:43.826Z"
   },
   {
    "duration": 1134,
    "start_time": "2023-01-22T12:46:05.178Z"
   },
   {
    "duration": 1357,
    "start_time": "2023-01-22T13:57:31.402Z"
   },
   {
    "duration": 3,
    "start_time": "2023-01-22T13:57:32.761Z"
   },
   {
    "duration": 119,
    "start_time": "2023-01-22T13:57:32.765Z"
   },
   {
    "duration": 17,
    "start_time": "2023-01-22T13:57:32.886Z"
   },
   {
    "duration": 34,
    "start_time": "2023-01-22T13:57:32.905Z"
   },
   {
    "duration": 20,
    "start_time": "2023-01-22T13:57:32.941Z"
   },
   {
    "duration": 42,
    "start_time": "2023-01-22T13:57:32.963Z"
   },
   {
    "duration": 42,
    "start_time": "2023-01-22T13:57:33.007Z"
   },
   {
    "duration": 26,
    "start_time": "2023-01-22T13:57:33.051Z"
   },
   {
    "duration": 32,
    "start_time": "2023-01-22T13:57:33.079Z"
   },
   {
    "duration": 50,
    "start_time": "2023-01-22T13:57:33.113Z"
   },
   {
    "duration": 31,
    "start_time": "2023-01-22T13:57:33.165Z"
   },
   {
    "duration": 69,
    "start_time": "2023-01-22T13:57:33.198Z"
   },
   {
    "duration": 25,
    "start_time": "2023-01-22T13:57:33.270Z"
   },
   {
    "duration": 56,
    "start_time": "2023-01-22T13:57:33.297Z"
   },
   {
    "duration": 950,
    "start_time": "2023-01-22T13:57:33.356Z"
   },
   {
    "duration": 53,
    "start_time": "2023-01-22T13:57:34.308Z"
   },
   {
    "duration": 0,
    "start_time": "2023-01-22T13:57:34.363Z"
   },
   {
    "duration": 0,
    "start_time": "2023-01-22T13:57:34.364Z"
   },
   {
    "duration": 0,
    "start_time": "2023-01-22T13:57:34.365Z"
   },
   {
    "duration": 0,
    "start_time": "2023-01-22T13:57:34.366Z"
   },
   {
    "duration": 0,
    "start_time": "2023-01-22T13:57:34.368Z"
   },
   {
    "duration": 0,
    "start_time": "2023-01-22T13:57:34.369Z"
   },
   {
    "duration": 0,
    "start_time": "2023-01-22T13:57:34.370Z"
   },
   {
    "duration": 0,
    "start_time": "2023-01-22T13:57:34.371Z"
   },
   {
    "duration": 0,
    "start_time": "2023-01-22T13:57:34.372Z"
   },
   {
    "duration": 0,
    "start_time": "2023-01-22T13:57:34.373Z"
   },
   {
    "duration": 0,
    "start_time": "2023-01-22T13:57:34.374Z"
   },
   {
    "duration": 0,
    "start_time": "2023-01-22T13:57:34.375Z"
   },
   {
    "duration": 0,
    "start_time": "2023-01-22T13:57:34.376Z"
   },
   {
    "duration": 0,
    "start_time": "2023-01-22T13:57:34.377Z"
   },
   {
    "duration": 0,
    "start_time": "2023-01-22T13:57:34.378Z"
   },
   {
    "duration": 0,
    "start_time": "2023-01-22T13:57:34.379Z"
   },
   {
    "duration": 0,
    "start_time": "2023-01-22T13:57:34.380Z"
   },
   {
    "duration": 38,
    "start_time": "2023-01-22T14:08:37.309Z"
   },
   {
    "duration": 25,
    "start_time": "2023-01-22T14:09:03.918Z"
   },
   {
    "duration": 23,
    "start_time": "2023-01-22T14:09:27.683Z"
   },
   {
    "duration": 29,
    "start_time": "2023-01-22T14:09:48.653Z"
   },
   {
    "duration": 27,
    "start_time": "2023-01-22T14:10:11.465Z"
   },
   {
    "duration": 37,
    "start_time": "2023-01-22T14:12:29.142Z"
   },
   {
    "duration": 82,
    "start_time": "2023-01-22T14:13:19.114Z"
   },
   {
    "duration": 61,
    "start_time": "2023-01-22T14:13:45.534Z"
   },
   {
    "duration": 60,
    "start_time": "2023-01-22T14:14:21.382Z"
   },
   {
    "duration": 52,
    "start_time": "2023-01-22T14:14:32.618Z"
   },
   {
    "duration": 4,
    "start_time": "2023-01-22T14:15:10.262Z"
   },
   {
    "duration": 17,
    "start_time": "2023-01-22T14:15:10.269Z"
   },
   {
    "duration": 67,
    "start_time": "2023-01-22T14:15:10.287Z"
   },
   {
    "duration": 28,
    "start_time": "2023-01-22T14:15:10.356Z"
   },
   {
    "duration": 23,
    "start_time": "2023-01-22T14:15:10.387Z"
   },
   {
    "duration": 5,
    "start_time": "2023-01-22T14:15:10.412Z"
   },
   {
    "duration": 61,
    "start_time": "2023-01-22T14:15:10.419Z"
   },
   {
    "duration": 18,
    "start_time": "2023-01-22T14:15:10.482Z"
   },
   {
    "duration": 18,
    "start_time": "2023-01-22T14:15:10.503Z"
   },
   {
    "duration": 40,
    "start_time": "2023-01-22T14:15:10.523Z"
   },
   {
    "duration": 7,
    "start_time": "2023-01-22T14:15:10.565Z"
   },
   {
    "duration": 23,
    "start_time": "2023-01-22T14:15:10.574Z"
   },
   {
    "duration": 22,
    "start_time": "2023-01-22T14:15:10.599Z"
   },
   {
    "duration": 60,
    "start_time": "2023-01-22T14:15:10.625Z"
   },
   {
    "duration": 53,
    "start_time": "2023-01-22T14:15:10.687Z"
   },
   {
    "duration": 1124,
    "start_time": "2023-01-22T14:15:10.742Z"
   },
   {
    "duration": 30,
    "start_time": "2023-01-22T14:15:11.867Z"
   },
   {
    "duration": 51,
    "start_time": "2023-01-22T14:15:19.526Z"
   },
   {
    "duration": 4,
    "start_time": "2023-01-22T14:16:40.391Z"
   },
   {
    "duration": 10,
    "start_time": "2023-01-22T14:16:40.397Z"
   },
   {
    "duration": 87,
    "start_time": "2023-01-22T14:16:40.409Z"
   },
   {
    "duration": 18,
    "start_time": "2023-01-22T14:16:40.499Z"
   },
   {
    "duration": 19,
    "start_time": "2023-01-22T14:16:40.520Z"
   },
   {
    "duration": 9,
    "start_time": "2023-01-22T14:16:40.542Z"
   },
   {
    "duration": 17,
    "start_time": "2023-01-22T14:16:40.553Z"
   },
   {
    "duration": 8,
    "start_time": "2023-01-22T14:16:40.572Z"
   },
   {
    "duration": 15,
    "start_time": "2023-01-22T14:16:40.581Z"
   },
   {
    "duration": 49,
    "start_time": "2023-01-22T14:16:40.598Z"
   },
   {
    "duration": 4,
    "start_time": "2023-01-22T14:16:40.649Z"
   },
   {
    "duration": 16,
    "start_time": "2023-01-22T14:16:40.655Z"
   },
   {
    "duration": 13,
    "start_time": "2023-01-22T14:16:40.673Z"
   },
   {
    "duration": 18,
    "start_time": "2023-01-22T14:16:40.689Z"
   },
   {
    "duration": 46,
    "start_time": "2023-01-22T14:16:40.728Z"
   },
   {
    "duration": 967,
    "start_time": "2023-01-22T14:16:40.776Z"
   },
   {
    "duration": 48,
    "start_time": "2023-01-22T14:16:46.177Z"
   },
   {
    "duration": 841,
    "start_time": "2023-01-22T14:17:23.874Z"
   },
   {
    "duration": 3,
    "start_time": "2023-01-22T14:17:34.924Z"
   },
   {
    "duration": 22,
    "start_time": "2023-01-22T14:17:34.929Z"
   },
   {
    "duration": 49,
    "start_time": "2023-01-22T14:17:34.953Z"
   },
   {
    "duration": 16,
    "start_time": "2023-01-22T14:17:35.003Z"
   },
   {
    "duration": 16,
    "start_time": "2023-01-22T14:17:35.021Z"
   },
   {
    "duration": 12,
    "start_time": "2023-01-22T14:17:35.039Z"
   },
   {
    "duration": 19,
    "start_time": "2023-01-22T14:17:35.053Z"
   },
   {
    "duration": 9,
    "start_time": "2023-01-22T14:17:35.073Z"
   },
   {
    "duration": 16,
    "start_time": "2023-01-22T14:17:35.084Z"
   },
   {
    "duration": 29,
    "start_time": "2023-01-22T14:17:35.103Z"
   },
   {
    "duration": 15,
    "start_time": "2023-01-22T14:17:35.135Z"
   },
   {
    "duration": 13,
    "start_time": "2023-01-22T14:17:35.152Z"
   },
   {
    "duration": 13,
    "start_time": "2023-01-22T14:17:35.167Z"
   },
   {
    "duration": 18,
    "start_time": "2023-01-22T14:17:35.183Z"
   },
   {
    "duration": 55,
    "start_time": "2023-01-22T14:17:35.227Z"
   },
   {
    "duration": 1052,
    "start_time": "2023-01-22T14:17:35.283Z"
   },
   {
    "duration": 57,
    "start_time": "2023-01-22T14:17:36.336Z"
   },
   {
    "duration": 9,
    "start_time": "2023-01-22T14:17:36.395Z"
   },
   {
    "duration": 2461,
    "start_time": "2023-01-22T14:17:38.590Z"
   },
   {
    "duration": 229,
    "start_time": "2023-01-22T14:18:17.072Z"
   },
   {
    "duration": 15,
    "start_time": "2023-01-22T14:31:00.612Z"
   },
   {
    "duration": 3,
    "start_time": "2023-01-22T14:31:19.225Z"
   },
   {
    "duration": 6,
    "start_time": "2023-01-22T14:31:19.230Z"
   },
   {
    "duration": 54,
    "start_time": "2023-01-22T14:31:19.237Z"
   },
   {
    "duration": 16,
    "start_time": "2023-01-22T14:31:19.293Z"
   },
   {
    "duration": 24,
    "start_time": "2023-01-22T14:31:19.311Z"
   },
   {
    "duration": 5,
    "start_time": "2023-01-22T14:31:19.337Z"
   },
   {
    "duration": 18,
    "start_time": "2023-01-22T14:31:19.344Z"
   },
   {
    "duration": 11,
    "start_time": "2023-01-22T14:31:19.363Z"
   },
   {
    "duration": 18,
    "start_time": "2023-01-22T14:31:19.376Z"
   },
   {
    "duration": 11,
    "start_time": "2023-01-22T14:31:19.396Z"
   },
   {
    "duration": 3,
    "start_time": "2023-01-22T14:31:19.427Z"
   },
   {
    "duration": 17,
    "start_time": "2023-01-22T14:31:19.431Z"
   },
   {
    "duration": 11,
    "start_time": "2023-01-22T14:31:19.450Z"
   },
   {
    "duration": 12,
    "start_time": "2023-01-22T14:31:24.136Z"
   },
   {
    "duration": 11,
    "start_time": "2023-01-22T14:32:04.281Z"
   },
   {
    "duration": 3,
    "start_time": "2023-01-22T14:32:20.713Z"
   },
   {
    "duration": 9,
    "start_time": "2023-01-22T14:32:20.719Z"
   },
   {
    "duration": 55,
    "start_time": "2023-01-22T14:32:20.729Z"
   },
   {
    "duration": 14,
    "start_time": "2023-01-22T14:32:20.786Z"
   },
   {
    "duration": 21,
    "start_time": "2023-01-22T14:32:20.803Z"
   },
   {
    "duration": 6,
    "start_time": "2023-01-22T14:32:20.826Z"
   },
   {
    "duration": 22,
    "start_time": "2023-01-22T14:32:20.833Z"
   },
   {
    "duration": 8,
    "start_time": "2023-01-22T14:32:20.857Z"
   },
   {
    "duration": 36,
    "start_time": "2023-01-22T14:32:20.867Z"
   },
   {
    "duration": 19,
    "start_time": "2023-01-22T14:32:20.904Z"
   },
   {
    "duration": 3,
    "start_time": "2023-01-22T14:32:20.924Z"
   },
   {
    "duration": 26,
    "start_time": "2023-01-22T14:32:20.928Z"
   },
   {
    "duration": 17,
    "start_time": "2023-01-22T14:32:20.955Z"
   },
   {
    "duration": 10,
    "start_time": "2023-01-22T14:32:20.974Z"
   },
   {
    "duration": 17,
    "start_time": "2023-01-22T14:32:20.986Z"
   },
   {
    "duration": 43,
    "start_time": "2023-01-22T14:32:23.077Z"
   },
   {
    "duration": 13,
    "start_time": "2023-01-22T14:33:08.009Z"
   },
   {
    "duration": 3,
    "start_time": "2023-01-22T14:33:11.719Z"
   },
   {
    "duration": 10,
    "start_time": "2023-01-22T14:33:11.724Z"
   },
   {
    "duration": 49,
    "start_time": "2023-01-22T14:33:11.736Z"
   },
   {
    "duration": 14,
    "start_time": "2023-01-22T14:33:11.787Z"
   },
   {
    "duration": 16,
    "start_time": "2023-01-22T14:33:11.803Z"
   },
   {
    "duration": 4,
    "start_time": "2023-01-22T14:33:11.821Z"
   },
   {
    "duration": 18,
    "start_time": "2023-01-22T14:33:11.826Z"
   },
   {
    "duration": 9,
    "start_time": "2023-01-22T14:33:11.845Z"
   },
   {
    "duration": 16,
    "start_time": "2023-01-22T14:33:11.855Z"
   },
   {
    "duration": 10,
    "start_time": "2023-01-22T14:33:11.872Z"
   },
   {
    "duration": 3,
    "start_time": "2023-01-22T14:33:11.884Z"
   },
   {
    "duration": 41,
    "start_time": "2023-01-22T14:33:11.888Z"
   },
   {
    "duration": 12,
    "start_time": "2023-01-22T14:33:11.930Z"
   },
   {
    "duration": 12,
    "start_time": "2023-01-22T14:33:11.945Z"
   },
   {
    "duration": 16,
    "start_time": "2023-01-22T14:33:11.959Z"
   },
   {
    "duration": 72,
    "start_time": "2023-01-22T14:33:11.977Z"
   },
   {
    "duration": 858,
    "start_time": "2023-01-22T14:33:12.051Z"
   },
   {
    "duration": 50,
    "start_time": "2023-01-22T14:33:12.911Z"
   },
   {
    "duration": 5,
    "start_time": "2023-01-22T14:33:12.962Z"
   },
   {
    "duration": 13,
    "start_time": "2023-01-22T14:33:15.077Z"
   },
   {
    "duration": 13,
    "start_time": "2023-01-22T14:33:29.112Z"
   },
   {
    "duration": 3,
    "start_time": "2023-01-22T14:36:40.618Z"
   },
   {
    "duration": 33,
    "start_time": "2023-01-22T14:36:40.623Z"
   },
   {
    "duration": 87,
    "start_time": "2023-01-22T14:36:40.658Z"
   },
   {
    "duration": 15,
    "start_time": "2023-01-22T14:36:40.747Z"
   },
   {
    "duration": 40,
    "start_time": "2023-01-22T14:36:40.763Z"
   },
   {
    "duration": 18,
    "start_time": "2023-01-22T14:36:40.805Z"
   },
   {
    "duration": 28,
    "start_time": "2023-01-22T14:36:40.824Z"
   },
   {
    "duration": 24,
    "start_time": "2023-01-22T14:36:40.854Z"
   },
   {
    "duration": 26,
    "start_time": "2023-01-22T14:36:40.881Z"
   },
   {
    "duration": 26,
    "start_time": "2023-01-22T14:36:40.909Z"
   },
   {
    "duration": 11,
    "start_time": "2023-01-22T14:36:40.936Z"
   },
   {
    "duration": 22,
    "start_time": "2023-01-22T14:36:40.949Z"
   },
   {
    "duration": 11,
    "start_time": "2023-01-22T14:36:40.973Z"
   },
   {
    "duration": 14,
    "start_time": "2023-01-22T14:36:40.986Z"
   },
   {
    "duration": 26,
    "start_time": "2023-01-22T14:36:41.002Z"
   },
   {
    "duration": 41,
    "start_time": "2023-01-22T14:36:41.030Z"
   },
   {
    "duration": 1111,
    "start_time": "2023-01-22T14:36:41.073Z"
   },
   {
    "duration": 52,
    "start_time": "2023-01-22T14:36:45.025Z"
   },
   {
    "duration": 43,
    "start_time": "2023-01-22T14:37:09.214Z"
   },
   {
    "duration": 3,
    "start_time": "2023-01-22T14:37:21.157Z"
   },
   {
    "duration": 11,
    "start_time": "2023-01-22T14:37:21.162Z"
   },
   {
    "duration": 51,
    "start_time": "2023-01-22T14:37:21.175Z"
   },
   {
    "duration": 15,
    "start_time": "2023-01-22T14:37:21.228Z"
   },
   {
    "duration": 15,
    "start_time": "2023-01-22T14:37:21.245Z"
   },
   {
    "duration": 5,
    "start_time": "2023-01-22T14:37:21.261Z"
   },
   {
    "duration": 19,
    "start_time": "2023-01-22T14:37:21.267Z"
   },
   {
    "duration": 10,
    "start_time": "2023-01-22T14:37:21.288Z"
   },
   {
    "duration": 40,
    "start_time": "2023-01-22T14:37:21.300Z"
   },
   {
    "duration": 10,
    "start_time": "2023-01-22T14:37:21.344Z"
   },
   {
    "duration": 7,
    "start_time": "2023-01-22T14:37:21.355Z"
   },
   {
    "duration": 15,
    "start_time": "2023-01-22T14:37:21.363Z"
   },
   {
    "duration": 11,
    "start_time": "2023-01-22T14:37:21.379Z"
   },
   {
    "duration": 41,
    "start_time": "2023-01-22T14:37:21.392Z"
   },
   {
    "duration": 20,
    "start_time": "2023-01-22T14:37:21.435Z"
   },
   {
    "duration": 37,
    "start_time": "2023-01-22T14:37:21.457Z"
   },
   {
    "duration": 885,
    "start_time": "2023-01-22T14:37:21.496Z"
   },
   {
    "duration": 56,
    "start_time": "2023-01-22T14:37:22.383Z"
   },
   {
    "duration": 6,
    "start_time": "2023-01-22T14:37:22.441Z"
   },
   {
    "duration": 15,
    "start_time": "2023-01-22T14:37:24.974Z"
   },
   {
    "duration": 14,
    "start_time": "2023-01-22T14:41:12.482Z"
   },
   {
    "duration": 77,
    "start_time": "2023-01-22T15:07:55.829Z"
   },
   {
    "duration": 1480,
    "start_time": "2023-01-22T15:08:01.511Z"
   },
   {
    "duration": 3,
    "start_time": "2023-01-22T15:08:02.994Z"
   },
   {
    "duration": 175,
    "start_time": "2023-01-22T15:08:02.999Z"
   },
   {
    "duration": 19,
    "start_time": "2023-01-22T15:08:05.840Z"
   },
   {
    "duration": 24,
    "start_time": "2023-01-22T15:08:10.511Z"
   },
   {
    "duration": 7,
    "start_time": "2023-01-22T15:08:15.331Z"
   },
   {
    "duration": 34,
    "start_time": "2023-01-22T15:08:17.599Z"
   },
   {
    "duration": 14,
    "start_time": "2023-01-22T15:08:20.180Z"
   },
   {
    "duration": 13,
    "start_time": "2023-01-22T15:08:24.163Z"
   },
   {
    "duration": 25,
    "start_time": "2023-01-22T15:08:28.574Z"
   },
   {
    "duration": 12,
    "start_time": "2023-01-22T15:08:33.875Z"
   },
   {
    "duration": 18,
    "start_time": "2023-01-22T15:08:47.738Z"
   },
   {
    "duration": 12,
    "start_time": "2023-01-22T15:11:00.767Z"
   },
   {
    "duration": 3,
    "start_time": "2023-01-22T15:11:03.983Z"
   },
   {
    "duration": 8,
    "start_time": "2023-01-22T15:11:03.988Z"
   },
   {
    "duration": 52,
    "start_time": "2023-01-22T15:11:03.998Z"
   },
   {
    "duration": 13,
    "start_time": "2023-01-22T15:11:04.052Z"
   },
   {
    "duration": 16,
    "start_time": "2023-01-22T15:11:04.067Z"
   },
   {
    "duration": 11,
    "start_time": "2023-01-22T15:11:04.084Z"
   },
   {
    "duration": 41,
    "start_time": "2023-01-22T15:11:04.096Z"
   },
   {
    "duration": 10,
    "start_time": "2023-01-22T15:11:04.139Z"
   },
   {
    "duration": 15,
    "start_time": "2023-01-22T15:11:04.152Z"
   },
   {
    "duration": 17,
    "start_time": "2023-01-22T15:11:04.168Z"
   },
   {
    "duration": 13,
    "start_time": "2023-01-22T15:11:04.187Z"
   },
   {
    "duration": 23,
    "start_time": "2023-01-22T15:11:05.868Z"
   },
   {
    "duration": 14,
    "start_time": "2023-01-22T15:11:54.736Z"
   },
   {
    "duration": 11,
    "start_time": "2023-01-22T15:12:07.201Z"
   },
   {
    "duration": 28,
    "start_time": "2023-01-22T15:12:18.548Z"
   },
   {
    "duration": 56,
    "start_time": "2023-01-22T15:12:27.618Z"
   },
   {
    "duration": 864,
    "start_time": "2023-01-22T15:13:13.618Z"
   },
   {
    "duration": 969,
    "start_time": "2023-01-22T15:13:23.435Z"
   },
   {
    "duration": 915,
    "start_time": "2023-01-22T15:13:31.718Z"
   },
   {
    "duration": 863,
    "start_time": "2023-01-22T15:13:42.945Z"
   },
   {
    "duration": 148,
    "start_time": "2023-01-22T15:14:45.109Z"
   },
   {
    "duration": 47,
    "start_time": "2023-01-22T15:17:10.147Z"
   },
   {
    "duration": 6,
    "start_time": "2023-01-22T15:17:48.519Z"
   },
   {
    "duration": 14,
    "start_time": "2023-01-22T15:17:51.078Z"
   },
   {
    "duration": 6,
    "start_time": "2023-01-22T15:18:48.634Z"
   },
   {
    "duration": 15,
    "start_time": "2023-01-22T15:18:53.009Z"
   },
   {
    "duration": 722,
    "start_time": "2023-01-22T15:19:02.587Z"
   },
   {
    "duration": 275,
    "start_time": "2023-01-22T15:19:44.239Z"
   },
   {
    "duration": 3,
    "start_time": "2023-01-22T15:21:18.976Z"
   },
   {
    "duration": 8,
    "start_time": "2023-01-22T15:21:18.981Z"
   },
   {
    "duration": 65,
    "start_time": "2023-01-22T15:21:18.991Z"
   },
   {
    "duration": 19,
    "start_time": "2023-01-22T15:21:19.058Z"
   },
   {
    "duration": 24,
    "start_time": "2023-01-22T15:21:19.080Z"
   },
   {
    "duration": 5,
    "start_time": "2023-01-22T15:21:19.105Z"
   },
   {
    "duration": 20,
    "start_time": "2023-01-22T15:21:19.112Z"
   },
   {
    "duration": 22,
    "start_time": "2023-01-22T15:21:19.135Z"
   },
   {
    "duration": 15,
    "start_time": "2023-01-22T15:21:19.159Z"
   },
   {
    "duration": 14,
    "start_time": "2023-01-22T15:21:19.176Z"
   },
   {
    "duration": 12,
    "start_time": "2023-01-22T15:21:19.192Z"
   },
   {
    "duration": 48,
    "start_time": "2023-01-22T15:21:19.206Z"
   },
   {
    "duration": 12,
    "start_time": "2023-01-22T15:21:19.256Z"
   },
   {
    "duration": 19,
    "start_time": "2023-01-22T15:21:19.270Z"
   },
   {
    "duration": 38,
    "start_time": "2023-01-22T15:21:19.290Z"
   },
   {
    "duration": 867,
    "start_time": "2023-01-22T15:21:19.330Z"
   },
   {
    "duration": 63,
    "start_time": "2023-01-22T15:21:20.199Z"
   },
   {
    "duration": 5,
    "start_time": "2023-01-22T15:21:20.264Z"
   },
   {
    "duration": 24,
    "start_time": "2023-01-22T15:21:20.271Z"
   },
   {
    "duration": 894,
    "start_time": "2023-01-22T15:21:20.297Z"
   },
   {
    "duration": 366,
    "start_time": "2023-01-22T15:21:24.824Z"
   },
   {
    "duration": 728,
    "start_time": "2023-01-22T15:21:39.925Z"
   },
   {
    "duration": 71,
    "start_time": "2023-01-22T15:22:52.597Z"
   },
   {
    "duration": 330,
    "start_time": "2023-01-22T15:23:04.637Z"
   },
   {
    "duration": 1213,
    "start_time": "2023-01-22T15:23:54.151Z"
   },
   {
    "duration": 3,
    "start_time": "2023-01-22T15:23:55.366Z"
   },
   {
    "duration": 75,
    "start_time": "2023-01-22T15:23:55.371Z"
   },
   {
    "duration": 24,
    "start_time": "2023-01-22T15:23:55.449Z"
   },
   {
    "duration": 16,
    "start_time": "2023-01-22T15:23:55.475Z"
   },
   {
    "duration": 5,
    "start_time": "2023-01-22T15:23:55.493Z"
   },
   {
    "duration": 29,
    "start_time": "2023-01-22T15:23:55.500Z"
   },
   {
    "duration": 27,
    "start_time": "2023-01-22T15:23:55.531Z"
   },
   {
    "duration": 26,
    "start_time": "2023-01-22T15:23:55.559Z"
   },
   {
    "duration": 12,
    "start_time": "2023-01-22T15:23:55.588Z"
   },
   {
    "duration": 12,
    "start_time": "2023-01-22T15:23:55.602Z"
   },
   {
    "duration": 12,
    "start_time": "2023-01-22T15:23:55.616Z"
   },
   {
    "duration": 12,
    "start_time": "2023-01-22T15:23:55.654Z"
   },
   {
    "duration": 35,
    "start_time": "2023-01-22T15:23:55.668Z"
   },
   {
    "duration": 52,
    "start_time": "2023-01-22T15:23:55.707Z"
   },
   {
    "duration": 800,
    "start_time": "2023-01-22T15:23:55.761Z"
   },
   {
    "duration": 58,
    "start_time": "2023-01-22T15:23:56.563Z"
   },
   {
    "duration": 5,
    "start_time": "2023-01-22T15:23:56.623Z"
   },
   {
    "duration": 32,
    "start_time": "2023-01-22T15:23:56.630Z"
   },
   {
    "duration": 843,
    "start_time": "2023-01-22T15:23:56.664Z"
   },
   {
    "duration": 356,
    "start_time": "2023-01-22T15:23:57.509Z"
   },
   {
    "duration": 6,
    "start_time": "2023-01-22T15:23:57.867Z"
   },
   {
    "duration": 602,
    "start_time": "2023-01-22T15:23:57.874Z"
   },
   {
    "duration": 387,
    "start_time": "2023-01-22T15:23:58.478Z"
   },
   {
    "duration": 414,
    "start_time": "2023-01-22T15:23:58.866Z"
   },
   {
    "duration": 3982,
    "start_time": "2023-01-22T15:23:59.281Z"
   },
   {
    "duration": 434,
    "start_time": "2023-01-22T15:24:03.265Z"
   },
   {
    "duration": 383,
    "start_time": "2023-01-22T15:24:03.702Z"
   },
   {
    "duration": 476,
    "start_time": "2023-01-22T15:24:04.087Z"
   },
   {
    "duration": 327,
    "start_time": "2023-01-22T15:24:04.566Z"
   },
   {
    "duration": 14,
    "start_time": "2023-01-22T15:24:04.895Z"
   },
   {
    "duration": 33,
    "start_time": "2023-01-22T15:24:04.911Z"
   },
   {
    "duration": 148,
    "start_time": "2023-01-22T15:24:18.599Z"
   },
   {
    "duration": 279,
    "start_time": "2023-01-22T15:24:29.380Z"
   },
   {
    "duration": 743,
    "start_time": "2023-01-22T15:25:03.947Z"
   },
   {
    "duration": 759,
    "start_time": "2023-01-22T15:25:29.358Z"
   },
   {
    "duration": 659,
    "start_time": "2023-01-22T15:25:38.366Z"
   },
   {
    "duration": 705,
    "start_time": "2023-01-22T15:25:54.156Z"
   },
   {
    "duration": 267,
    "start_time": "2023-01-22T15:26:11.870Z"
   },
   {
    "duration": 699,
    "start_time": "2023-01-22T15:27:05.349Z"
   },
   {
    "duration": 279,
    "start_time": "2023-01-22T15:27:18.091Z"
   },
   {
    "duration": 731,
    "start_time": "2023-01-22T15:27:42.112Z"
   },
   {
    "duration": 387,
    "start_time": "2023-01-22T15:27:51.372Z"
   },
   {
    "duration": 3,
    "start_time": "2023-01-22T15:28:00.373Z"
   },
   {
    "duration": 50,
    "start_time": "2023-01-22T15:28:00.378Z"
   },
   {
    "duration": 92,
    "start_time": "2023-01-22T15:28:00.430Z"
   },
   {
    "duration": 15,
    "start_time": "2023-01-22T15:28:00.524Z"
   },
   {
    "duration": 40,
    "start_time": "2023-01-22T15:28:00.541Z"
   },
   {
    "duration": 40,
    "start_time": "2023-01-22T15:28:00.583Z"
   },
   {
    "duration": 38,
    "start_time": "2023-01-22T15:28:00.625Z"
   },
   {
    "duration": 32,
    "start_time": "2023-01-22T15:28:00.665Z"
   },
   {
    "duration": 54,
    "start_time": "2023-01-22T15:28:00.699Z"
   },
   {
    "duration": 85,
    "start_time": "2023-01-22T15:28:00.754Z"
   },
   {
    "duration": 38,
    "start_time": "2023-01-22T15:28:00.841Z"
   },
   {
    "duration": 37,
    "start_time": "2023-01-22T15:28:00.881Z"
   },
   {
    "duration": 32,
    "start_time": "2023-01-22T15:28:00.920Z"
   },
   {
    "duration": 46,
    "start_time": "2023-01-22T15:28:00.955Z"
   },
   {
    "duration": 81,
    "start_time": "2023-01-22T15:28:01.004Z"
   },
   {
    "duration": 776,
    "start_time": "2023-01-22T15:28:01.087Z"
   },
   {
    "duration": 65,
    "start_time": "2023-01-22T15:28:01.865Z"
   },
   {
    "duration": 23,
    "start_time": "2023-01-22T15:28:01.932Z"
   },
   {
    "duration": 20,
    "start_time": "2023-01-22T15:28:01.957Z"
   },
   {
    "duration": 695,
    "start_time": "2023-01-22T15:28:01.979Z"
   },
   {
    "duration": 267,
    "start_time": "2023-01-22T15:28:05.116Z"
   },
   {
    "duration": 397,
    "start_time": "2023-01-22T15:28:31.830Z"
   },
   {
    "duration": 265,
    "start_time": "2023-01-22T15:28:58.604Z"
   },
   {
    "duration": 1213,
    "start_time": "2023-01-22T15:29:55.857Z"
   },
   {
    "duration": 393,
    "start_time": "2023-01-22T15:30:31.679Z"
   },
   {
    "duration": 332,
    "start_time": "2023-01-22T15:34:21.110Z"
   },
   {
    "duration": 288,
    "start_time": "2023-01-22T15:37:34.068Z"
   },
   {
    "duration": 6,
    "start_time": "2023-01-22T15:37:45.200Z"
   },
   {
    "duration": 861,
    "start_time": "2023-01-22T15:37:52.252Z"
   },
   {
    "duration": 663,
    "start_time": "2023-01-22T15:39:21.672Z"
   },
   {
    "duration": 811,
    "start_time": "2023-01-22T15:39:36.379Z"
   },
   {
    "duration": 715,
    "start_time": "2023-01-22T15:41:13.610Z"
   },
   {
    "duration": 16,
    "start_time": "2023-01-22T15:45:02.235Z"
   },
   {
    "duration": 11,
    "start_time": "2023-01-22T15:45:48.692Z"
   },
   {
    "duration": 575,
    "start_time": "2023-01-22T15:46:12.835Z"
   },
   {
    "duration": 12,
    "start_time": "2023-01-22T15:46:52.026Z"
   },
   {
    "duration": 42,
    "start_time": "2023-01-22T15:47:42.385Z"
   },
   {
    "duration": 55,
    "start_time": "2023-01-22T15:47:50.617Z"
   },
   {
    "duration": 12,
    "start_time": "2023-01-22T15:52:06.535Z"
   },
   {
    "duration": 295,
    "start_time": "2023-01-22T15:53:10.661Z"
   },
   {
    "duration": 305,
    "start_time": "2023-01-22T15:53:48.175Z"
   },
   {
    "duration": 349,
    "start_time": "2023-01-22T15:56:01.639Z"
   },
   {
    "duration": 436,
    "start_time": "2023-01-22T15:56:08.311Z"
   },
   {
    "duration": 374,
    "start_time": "2023-01-22T15:58:30.600Z"
   },
   {
    "duration": 397,
    "start_time": "2023-01-22T15:58:47.734Z"
   },
   {
    "duration": 1111,
    "start_time": "2023-01-22T16:01:11.747Z"
   },
   {
    "duration": 601,
    "start_time": "2023-01-22T16:01:44.790Z"
   },
   {
    "duration": 374,
    "start_time": "2023-01-22T16:06:21.719Z"
   },
   {
    "duration": 4,
    "start_time": "2023-01-22T16:07:20.731Z"
   },
   {
    "duration": 2203,
    "start_time": "2023-01-22T16:07:27.456Z"
   },
   {
    "duration": 4371,
    "start_time": "2023-01-22T16:07:51.430Z"
   },
   {
    "duration": 383,
    "start_time": "2023-01-22T16:10:08.527Z"
   },
   {
    "duration": 1452,
    "start_time": "2023-01-22T16:10:39.835Z"
   },
   {
    "duration": 3,
    "start_time": "2023-01-22T16:10:48.017Z"
   },
   {
    "duration": 5,
    "start_time": "2023-01-22T16:10:48.022Z"
   },
   {
    "duration": 65,
    "start_time": "2023-01-22T16:10:48.029Z"
   },
   {
    "duration": 20,
    "start_time": "2023-01-22T16:10:48.096Z"
   },
   {
    "duration": 19,
    "start_time": "2023-01-22T16:10:48.118Z"
   },
   {
    "duration": 7,
    "start_time": "2023-01-22T16:10:48.157Z"
   },
   {
    "duration": 29,
    "start_time": "2023-01-22T16:10:48.166Z"
   },
   {
    "duration": 9,
    "start_time": "2023-01-22T16:10:48.196Z"
   },
   {
    "duration": 18,
    "start_time": "2023-01-22T16:10:48.208Z"
   },
   {
    "duration": 32,
    "start_time": "2023-01-22T16:10:48.227Z"
   },
   {
    "duration": 18,
    "start_time": "2023-01-22T16:10:48.261Z"
   },
   {
    "duration": 13,
    "start_time": "2023-01-22T16:10:48.281Z"
   },
   {
    "duration": 12,
    "start_time": "2023-01-22T16:10:48.295Z"
   },
   {
    "duration": 18,
    "start_time": "2023-01-22T16:10:48.309Z"
   },
   {
    "duration": 47,
    "start_time": "2023-01-22T16:10:48.354Z"
   },
   {
    "duration": 954,
    "start_time": "2023-01-22T16:10:48.403Z"
   },
   {
    "duration": 60,
    "start_time": "2023-01-22T16:10:49.359Z"
   },
   {
    "duration": 6,
    "start_time": "2023-01-22T16:10:49.421Z"
   },
   {
    "duration": 32,
    "start_time": "2023-01-22T16:10:49.429Z"
   },
   {
    "duration": 766,
    "start_time": "2023-01-22T16:10:49.463Z"
   },
   {
    "duration": 313,
    "start_time": "2023-01-22T16:10:50.231Z"
   },
   {
    "duration": 19,
    "start_time": "2023-01-22T16:10:50.554Z"
   },
   {
    "duration": 603,
    "start_time": "2023-01-22T16:10:50.579Z"
   },
   {
    "duration": 337,
    "start_time": "2023-01-22T16:10:51.185Z"
   },
   {
    "duration": 391,
    "start_time": "2023-01-22T16:10:51.525Z"
   },
   {
    "duration": 2436,
    "start_time": "2023-01-22T16:10:54.112Z"
   },
   {
    "duration": 1471,
    "start_time": "2023-01-22T16:11:35.734Z"
   },
   {
    "duration": 3,
    "start_time": "2023-01-22T16:11:52.748Z"
   },
   {
    "duration": 23,
    "start_time": "2023-01-22T16:11:52.753Z"
   },
   {
    "duration": 64,
    "start_time": "2023-01-22T16:11:52.779Z"
   },
   {
    "duration": 15,
    "start_time": "2023-01-22T16:11:52.845Z"
   },
   {
    "duration": 28,
    "start_time": "2023-01-22T16:11:52.861Z"
   },
   {
    "duration": 10,
    "start_time": "2023-01-22T16:11:52.891Z"
   },
   {
    "duration": 24,
    "start_time": "2023-01-22T16:11:52.902Z"
   },
   {
    "duration": 10,
    "start_time": "2023-01-22T16:11:52.928Z"
   },
   {
    "duration": 223,
    "start_time": "2023-01-22T16:11:52.941Z"
   },
   {
    "duration": 10,
    "start_time": "2023-01-22T16:11:53.165Z"
   },
   {
    "duration": 14,
    "start_time": "2023-01-22T16:11:53.177Z"
   },
   {
    "duration": 14,
    "start_time": "2023-01-22T16:11:53.193Z"
   },
   {
    "duration": 52,
    "start_time": "2023-01-22T16:11:53.208Z"
   },
   {
    "duration": 29,
    "start_time": "2023-01-22T16:11:53.262Z"
   },
   {
    "duration": 41,
    "start_time": "2023-01-22T16:11:53.292Z"
   },
   {
    "duration": 827,
    "start_time": "2023-01-22T16:11:53.335Z"
   },
   {
    "duration": 52,
    "start_time": "2023-01-22T16:11:54.165Z"
   },
   {
    "duration": 5,
    "start_time": "2023-01-22T16:11:54.219Z"
   },
   {
    "duration": 41,
    "start_time": "2023-01-22T16:11:54.226Z"
   },
   {
    "duration": 787,
    "start_time": "2023-01-22T16:11:54.269Z"
   },
   {
    "duration": 315,
    "start_time": "2023-01-22T16:11:55.059Z"
   },
   {
    "duration": 4,
    "start_time": "2023-01-22T16:11:55.377Z"
   },
   {
    "duration": 586,
    "start_time": "2023-01-22T16:11:55.383Z"
   },
   {
    "duration": 526,
    "start_time": "2023-01-22T16:11:55.973Z"
   },
   {
    "duration": 421,
    "start_time": "2023-01-22T16:11:56.501Z"
   },
   {
    "duration": 2194,
    "start_time": "2023-01-22T16:11:59.347Z"
   },
   {
    "duration": 2262,
    "start_time": "2023-01-22T16:12:10.138Z"
   },
   {
    "duration": 303,
    "start_time": "2023-01-22T16:12:33.575Z"
   },
   {
    "duration": 1550,
    "start_time": "2023-01-22T16:12:54.604Z"
   },
   {
    "duration": 595,
    "start_time": "2023-01-22T16:15:45.043Z"
   },
   {
    "duration": 1485,
    "start_time": "2023-01-22T16:16:04.017Z"
   },
   {
    "duration": 597,
    "start_time": "2023-01-22T16:16:27.208Z"
   },
   {
    "duration": 4,
    "start_time": "2023-01-22T16:24:27.953Z"
   },
   {
    "duration": 13,
    "start_time": "2023-01-22T16:24:27.959Z"
   },
   {
    "duration": 56,
    "start_time": "2023-01-22T16:24:27.975Z"
   },
   {
    "duration": 14,
    "start_time": "2023-01-22T16:24:28.033Z"
   },
   {
    "duration": 18,
    "start_time": "2023-01-22T16:24:28.049Z"
   },
   {
    "duration": 7,
    "start_time": "2023-01-22T16:24:28.069Z"
   },
   {
    "duration": 28,
    "start_time": "2023-01-22T16:24:28.079Z"
   },
   {
    "duration": 12,
    "start_time": "2023-01-22T16:24:28.110Z"
   },
   {
    "duration": 39,
    "start_time": "2023-01-22T16:24:28.125Z"
   },
   {
    "duration": 23,
    "start_time": "2023-01-22T16:24:28.166Z"
   },
   {
    "duration": 20,
    "start_time": "2023-01-22T16:24:28.191Z"
   },
   {
    "duration": 13,
    "start_time": "2023-01-22T16:24:28.214Z"
   },
   {
    "duration": 32,
    "start_time": "2023-01-22T16:24:28.229Z"
   },
   {
    "duration": 23,
    "start_time": "2023-01-22T16:24:28.265Z"
   },
   {
    "duration": 63,
    "start_time": "2023-01-22T16:24:28.290Z"
   },
   {
    "duration": 814,
    "start_time": "2023-01-22T16:24:28.355Z"
   },
   {
    "duration": 51,
    "start_time": "2023-01-22T16:24:29.171Z"
   },
   {
    "duration": 5,
    "start_time": "2023-01-22T16:24:29.223Z"
   },
   {
    "duration": 39,
    "start_time": "2023-01-22T16:24:29.230Z"
   },
   {
    "duration": 979,
    "start_time": "2023-01-22T16:24:29.275Z"
   },
   {
    "duration": 311,
    "start_time": "2023-01-22T16:24:30.256Z"
   },
   {
    "duration": 6,
    "start_time": "2023-01-22T16:24:30.569Z"
   },
   {
    "duration": 637,
    "start_time": "2023-01-22T16:24:30.577Z"
   },
   {
    "duration": 369,
    "start_time": "2023-01-22T16:24:31.216Z"
   },
   {
    "duration": 388,
    "start_time": "2023-01-22T16:24:31.587Z"
   },
   {
    "duration": 1583,
    "start_time": "2023-01-22T16:24:31.977Z"
   },
   {
    "duration": 463,
    "start_time": "2023-01-22T16:24:33.562Z"
   },
   {
    "duration": 3,
    "start_time": "2023-01-22T16:26:27.114Z"
   },
   {
    "duration": 5,
    "start_time": "2023-01-22T16:26:27.119Z"
   },
   {
    "duration": 66,
    "start_time": "2023-01-22T16:26:27.126Z"
   },
   {
    "duration": 14,
    "start_time": "2023-01-22T16:26:27.193Z"
   },
   {
    "duration": 19,
    "start_time": "2023-01-22T16:26:27.209Z"
   },
   {
    "duration": 25,
    "start_time": "2023-01-22T16:26:27.230Z"
   },
   {
    "duration": 45,
    "start_time": "2023-01-22T16:26:27.257Z"
   },
   {
    "duration": 14,
    "start_time": "2023-01-22T16:26:27.305Z"
   },
   {
    "duration": 35,
    "start_time": "2023-01-22T16:26:27.321Z"
   },
   {
    "duration": 17,
    "start_time": "2023-01-22T16:26:27.359Z"
   },
   {
    "duration": 34,
    "start_time": "2023-01-22T16:26:27.378Z"
   },
   {
    "duration": 24,
    "start_time": "2023-01-22T16:26:27.414Z"
   },
   {
    "duration": 20,
    "start_time": "2023-01-22T16:26:27.440Z"
   },
   {
    "duration": 40,
    "start_time": "2023-01-22T16:26:27.464Z"
   },
   {
    "duration": 57,
    "start_time": "2023-01-22T16:26:27.506Z"
   },
   {
    "duration": 989,
    "start_time": "2023-01-22T16:26:27.565Z"
   },
   {
    "duration": 50,
    "start_time": "2023-01-22T16:26:28.556Z"
   },
   {
    "duration": 4,
    "start_time": "2023-01-22T16:26:28.608Z"
   },
   {
    "duration": 14,
    "start_time": "2023-01-22T16:26:28.614Z"
   },
   {
    "duration": 753,
    "start_time": "2023-01-22T16:26:28.630Z"
   },
   {
    "duration": 327,
    "start_time": "2023-01-22T16:26:29.385Z"
   },
   {
    "duration": 5,
    "start_time": "2023-01-22T16:26:29.714Z"
   },
   {
    "duration": 608,
    "start_time": "2023-01-22T16:26:29.720Z"
   },
   {
    "duration": 356,
    "start_time": "2023-01-22T16:26:30.329Z"
   },
   {
    "duration": 409,
    "start_time": "2023-01-22T16:26:30.687Z"
   },
   {
    "duration": 1556,
    "start_time": "2023-01-22T16:26:31.098Z"
   },
   {
    "duration": 440,
    "start_time": "2023-01-22T16:26:32.656Z"
   },
   {
    "duration": 548,
    "start_time": "2023-01-22T16:26:51.709Z"
   },
   {
    "duration": 354,
    "start_time": "2023-01-22T16:28:56.976Z"
   },
   {
    "duration": 11,
    "start_time": "2023-01-22T16:37:21.138Z"
   },
   {
    "duration": 11,
    "start_time": "2023-01-22T16:37:40.809Z"
   },
   {
    "duration": 1271,
    "start_time": "2023-01-22T16:44:15.129Z"
   },
   {
    "duration": 3,
    "start_time": "2023-01-22T16:44:16.402Z"
   },
   {
    "duration": 67,
    "start_time": "2023-01-22T16:44:16.407Z"
   },
   {
    "duration": 22,
    "start_time": "2023-01-22T16:44:16.477Z"
   },
   {
    "duration": 19,
    "start_time": "2023-01-22T16:44:16.502Z"
   },
   {
    "duration": 5,
    "start_time": "2023-01-22T16:44:16.523Z"
   },
   {
    "duration": 37,
    "start_time": "2023-01-22T16:44:16.530Z"
   },
   {
    "duration": 10,
    "start_time": "2023-01-22T16:44:16.569Z"
   },
   {
    "duration": 16,
    "start_time": "2023-01-22T16:44:16.581Z"
   },
   {
    "duration": 11,
    "start_time": "2023-01-22T16:44:16.601Z"
   },
   {
    "duration": 53,
    "start_time": "2023-01-22T16:44:16.615Z"
   },
   {
    "duration": 16,
    "start_time": "2023-01-22T16:44:16.671Z"
   },
   {
    "duration": 10,
    "start_time": "2023-01-22T16:44:16.689Z"
   },
   {
    "duration": 57,
    "start_time": "2023-01-22T16:44:16.702Z"
   },
   {
    "duration": 53,
    "start_time": "2023-01-22T16:44:16.761Z"
   },
   {
    "duration": 1065,
    "start_time": "2023-01-22T16:44:16.816Z"
   },
   {
    "duration": 56,
    "start_time": "2023-01-22T16:44:17.883Z"
   },
   {
    "duration": 15,
    "start_time": "2023-01-22T16:44:17.941Z"
   },
   {
    "duration": 17,
    "start_time": "2023-01-22T16:44:17.959Z"
   },
   {
    "duration": 842,
    "start_time": "2023-01-22T16:44:17.978Z"
   },
   {
    "duration": 291,
    "start_time": "2023-01-22T16:44:18.822Z"
   },
   {
    "duration": 5,
    "start_time": "2023-01-22T16:44:19.114Z"
   },
   {
    "duration": 624,
    "start_time": "2023-01-22T16:44:19.120Z"
   },
   {
    "duration": 350,
    "start_time": "2023-01-22T16:44:19.746Z"
   },
   {
    "duration": 387,
    "start_time": "2023-01-22T16:44:20.098Z"
   },
   {
    "duration": 1470,
    "start_time": "2023-01-22T16:44:20.487Z"
   },
   {
    "duration": 537,
    "start_time": "2023-01-22T16:44:21.959Z"
   },
   {
    "duration": 324,
    "start_time": "2023-01-22T16:44:22.499Z"
   },
   {
    "duration": 324,
    "start_time": "2023-01-22T16:44:22.824Z"
   },
   {
    "duration": 286,
    "start_time": "2023-01-22T16:44:23.154Z"
   },
   {
    "duration": 21,
    "start_time": "2023-01-22T16:44:23.442Z"
   },
   {
    "duration": 17,
    "start_time": "2023-01-22T16:44:23.464Z"
   },
   {
    "duration": 20,
    "start_time": "2023-01-22T16:51:56.731Z"
   },
   {
    "duration": 1258,
    "start_time": "2023-01-22T16:52:23.373Z"
   },
   {
    "duration": 3,
    "start_time": "2023-01-22T16:52:24.634Z"
   },
   {
    "duration": 118,
    "start_time": "2023-01-22T16:52:24.639Z"
   },
   {
    "duration": 20,
    "start_time": "2023-01-22T16:52:24.759Z"
   },
   {
    "duration": 36,
    "start_time": "2023-01-22T16:52:24.781Z"
   },
   {
    "duration": 65,
    "start_time": "2023-01-22T16:52:24.819Z"
   },
   {
    "duration": 46,
    "start_time": "2023-01-22T16:52:24.886Z"
   },
   {
    "duration": 30,
    "start_time": "2023-01-22T16:52:24.934Z"
   },
   {
    "duration": 56,
    "start_time": "2023-01-22T16:52:24.966Z"
   },
   {
    "duration": 43,
    "start_time": "2023-01-22T16:52:25.024Z"
   },
   {
    "duration": 60,
    "start_time": "2023-01-22T16:52:25.069Z"
   },
   {
    "duration": 50,
    "start_time": "2023-01-22T16:52:25.130Z"
   },
   {
    "duration": 42,
    "start_time": "2023-01-22T16:52:25.182Z"
   },
   {
    "duration": 62,
    "start_time": "2023-01-22T16:52:25.228Z"
   },
   {
    "duration": 48,
    "start_time": "2023-01-22T16:52:25.293Z"
   },
   {
    "duration": 797,
    "start_time": "2023-01-22T16:52:25.342Z"
   },
   {
    "duration": 58,
    "start_time": "2023-01-22T16:52:26.141Z"
   },
   {
    "duration": 16,
    "start_time": "2023-01-22T16:52:26.201Z"
   },
   {
    "duration": 10,
    "start_time": "2023-01-22T16:52:26.219Z"
   },
   {
    "duration": 871,
    "start_time": "2023-01-22T16:52:26.231Z"
   },
   {
    "duration": 358,
    "start_time": "2023-01-22T16:52:27.105Z"
   },
   {
    "duration": 6,
    "start_time": "2023-01-22T16:52:27.464Z"
   },
   {
    "duration": 657,
    "start_time": "2023-01-22T16:52:27.473Z"
   },
   {
    "duration": 372,
    "start_time": "2023-01-22T16:52:28.133Z"
   },
   {
    "duration": 375,
    "start_time": "2023-01-22T16:52:28.508Z"
   },
   {
    "duration": 1584,
    "start_time": "2023-01-22T16:52:28.885Z"
   },
   {
    "duration": 544,
    "start_time": "2023-01-22T16:52:30.471Z"
   },
   {
    "duration": 343,
    "start_time": "2023-01-22T16:52:31.017Z"
   },
   {
    "duration": 336,
    "start_time": "2023-01-22T16:52:31.361Z"
   },
   {
    "duration": 285,
    "start_time": "2023-01-22T16:52:31.698Z"
   },
   {
    "duration": 10,
    "start_time": "2023-01-22T16:52:31.985Z"
   },
   {
    "duration": 24,
    "start_time": "2023-01-22T16:52:31.997Z"
   },
   {
    "duration": 515,
    "start_time": "2023-01-22T16:57:29.024Z"
   },
   {
    "duration": 345,
    "start_time": "2023-01-22T17:02:29.941Z"
   },
   {
    "duration": 5,
    "start_time": "2023-01-22T17:02:36.316Z"
   },
   {
    "duration": 26,
    "start_time": "2023-01-22T17:02:36.324Z"
   },
   {
    "duration": 78,
    "start_time": "2023-01-22T17:02:36.353Z"
   },
   {
    "duration": 21,
    "start_time": "2023-01-22T17:02:36.434Z"
   },
   {
    "duration": 40,
    "start_time": "2023-01-22T17:02:36.457Z"
   },
   {
    "duration": 22,
    "start_time": "2023-01-22T17:02:36.499Z"
   },
   {
    "duration": 33,
    "start_time": "2023-01-22T17:02:36.523Z"
   },
   {
    "duration": 16,
    "start_time": "2023-01-22T17:02:36.558Z"
   },
   {
    "duration": 26,
    "start_time": "2023-01-22T17:02:36.576Z"
   },
   {
    "duration": 14,
    "start_time": "2023-01-22T17:02:36.731Z"
   },
   {
    "duration": 22,
    "start_time": "2023-01-22T17:02:36.754Z"
   },
   {
    "duration": 17,
    "start_time": "2023-01-22T17:02:36.779Z"
   },
   {
    "duration": 22,
    "start_time": "2023-01-22T17:02:36.800Z"
   },
   {
    "duration": 44,
    "start_time": "2023-01-22T17:02:36.825Z"
   },
   {
    "duration": 57,
    "start_time": "2023-01-22T17:02:36.873Z"
   },
   {
    "duration": 1117,
    "start_time": "2023-01-22T17:02:36.932Z"
   },
   {
    "duration": 69,
    "start_time": "2023-01-22T17:02:38.051Z"
   },
   {
    "duration": 37,
    "start_time": "2023-01-22T17:02:38.122Z"
   },
   {
    "duration": 9,
    "start_time": "2023-01-22T17:02:38.161Z"
   },
   {
    "duration": 835,
    "start_time": "2023-01-22T17:02:38.171Z"
   },
   {
    "duration": 344,
    "start_time": "2023-01-22T17:02:39.007Z"
   },
   {
    "duration": 5,
    "start_time": "2023-01-22T17:02:39.353Z"
   },
   {
    "duration": 766,
    "start_time": "2023-01-22T17:02:39.360Z"
   },
   {
    "duration": 369,
    "start_time": "2023-01-22T17:02:40.128Z"
   },
   {
    "duration": 407,
    "start_time": "2023-01-22T17:02:40.499Z"
   },
   {
    "duration": 1785,
    "start_time": "2023-01-22T17:02:40.908Z"
   },
   {
    "duration": 709,
    "start_time": "2023-01-22T17:02:42.696Z"
   },
   {
    "duration": 580,
    "start_time": "2023-01-22T17:02:43.410Z"
   },
   {
    "duration": 116,
    "start_time": "2023-01-22T17:02:43.991Z"
   },
   {
    "duration": 0,
    "start_time": "2023-01-22T17:02:44.108Z"
   },
   {
    "duration": 0,
    "start_time": "2023-01-22T17:02:44.110Z"
   },
   {
    "duration": 0,
    "start_time": "2023-01-22T17:02:44.111Z"
   },
   {
    "duration": 371,
    "start_time": "2023-01-22T17:03:06.949Z"
   },
   {
    "duration": 334,
    "start_time": "2023-01-22T17:03:19.215Z"
   },
   {
    "duration": 1367,
    "start_time": "2023-01-22T17:03:36.650Z"
   },
   {
    "duration": 2,
    "start_time": "2023-01-22T17:03:38.019Z"
   },
   {
    "duration": 87,
    "start_time": "2023-01-22T17:03:38.023Z"
   },
   {
    "duration": 23,
    "start_time": "2023-01-22T17:03:38.112Z"
   },
   {
    "duration": 20,
    "start_time": "2023-01-22T17:03:38.138Z"
   },
   {
    "duration": 24,
    "start_time": "2023-01-22T17:03:38.160Z"
   },
   {
    "duration": 31,
    "start_time": "2023-01-22T17:03:38.186Z"
   },
   {
    "duration": 29,
    "start_time": "2023-01-22T17:03:38.219Z"
   },
   {
    "duration": 46,
    "start_time": "2023-01-22T17:03:38.251Z"
   },
   {
    "duration": 35,
    "start_time": "2023-01-22T17:03:38.299Z"
   },
   {
    "duration": 41,
    "start_time": "2023-01-22T17:03:38.336Z"
   },
   {
    "duration": 36,
    "start_time": "2023-01-22T17:03:38.378Z"
   },
   {
    "duration": 23,
    "start_time": "2023-01-22T17:03:38.416Z"
   },
   {
    "duration": 58,
    "start_time": "2023-01-22T17:03:38.442Z"
   },
   {
    "duration": 81,
    "start_time": "2023-01-22T17:03:38.502Z"
   },
   {
    "duration": 973,
    "start_time": "2023-01-22T17:03:38.587Z"
   },
   {
    "duration": 64,
    "start_time": "2023-01-22T17:03:39.563Z"
   },
   {
    "duration": 34,
    "start_time": "2023-01-22T17:03:39.629Z"
   },
   {
    "duration": 11,
    "start_time": "2023-01-22T17:03:39.666Z"
   },
   {
    "duration": 1068,
    "start_time": "2023-01-22T17:03:39.679Z"
   },
   {
    "duration": 433,
    "start_time": "2023-01-22T17:03:40.749Z"
   },
   {
    "duration": 5,
    "start_time": "2023-01-22T17:03:41.185Z"
   },
   {
    "duration": 687,
    "start_time": "2023-01-22T17:03:41.192Z"
   },
   {
    "duration": 366,
    "start_time": "2023-01-22T17:03:41.881Z"
   },
   {
    "duration": 440,
    "start_time": "2023-01-22T17:03:42.253Z"
   },
   {
    "duration": 1560,
    "start_time": "2023-01-22T17:03:42.696Z"
   },
   {
    "duration": 557,
    "start_time": "2023-01-22T17:03:44.258Z"
   },
   {
    "duration": 340,
    "start_time": "2023-01-22T17:03:44.817Z"
   },
   {
    "duration": 393,
    "start_time": "2023-01-22T17:03:45.160Z"
   },
   {
    "duration": 287,
    "start_time": "2023-01-22T17:03:45.555Z"
   },
   {
    "duration": 19,
    "start_time": "2023-01-22T17:03:45.844Z"
   },
   {
    "duration": 37,
    "start_time": "2023-01-22T17:03:45.865Z"
   },
   {
    "duration": 1420,
    "start_time": "2023-01-23T19:30:01.578Z"
   },
   {
    "duration": 3,
    "start_time": "2023-01-23T19:30:03.001Z"
   },
   {
    "duration": 235,
    "start_time": "2023-01-23T19:30:03.006Z"
   },
   {
    "duration": 19,
    "start_time": "2023-01-23T19:30:03.243Z"
   },
   {
    "duration": 40,
    "start_time": "2023-01-23T19:30:03.263Z"
   },
   {
    "duration": 37,
    "start_time": "2023-01-23T19:30:03.305Z"
   },
   {
    "duration": 31,
    "start_time": "2023-01-23T19:30:03.345Z"
   },
   {
    "duration": 24,
    "start_time": "2023-01-23T19:30:03.378Z"
   },
   {
    "duration": 20,
    "start_time": "2023-01-23T19:30:03.404Z"
   },
   {
    "duration": 12,
    "start_time": "2023-01-23T19:30:03.427Z"
   },
   {
    "duration": 23,
    "start_time": "2023-01-23T19:30:03.440Z"
   },
   {
    "duration": 35,
    "start_time": "2023-01-23T19:30:03.464Z"
   },
   {
    "duration": 17,
    "start_time": "2023-01-23T19:30:03.501Z"
   },
   {
    "duration": 62,
    "start_time": "2023-01-23T19:30:03.519Z"
   },
   {
    "duration": 55,
    "start_time": "2023-01-23T19:30:03.584Z"
   },
   {
    "duration": 745,
    "start_time": "2023-01-23T19:30:03.641Z"
   },
   {
    "duration": 46,
    "start_time": "2023-01-23T19:30:04.388Z"
   },
   {
    "duration": 12,
    "start_time": "2023-01-23T19:30:04.436Z"
   },
   {
    "duration": 22,
    "start_time": "2023-01-23T19:30:04.450Z"
   },
   {
    "duration": 759,
    "start_time": "2023-01-23T19:30:04.474Z"
   },
   {
    "duration": 271,
    "start_time": "2023-01-23T19:30:05.235Z"
   },
   {
    "duration": 6,
    "start_time": "2023-01-23T19:30:05.508Z"
   },
   {
    "duration": 539,
    "start_time": "2023-01-23T19:30:05.515Z"
   },
   {
    "duration": 378,
    "start_time": "2023-01-23T19:30:06.056Z"
   },
   {
    "duration": 351,
    "start_time": "2023-01-23T19:30:06.437Z"
   },
   {
    "duration": 1476,
    "start_time": "2023-01-23T19:30:06.789Z"
   },
   {
    "duration": 377,
    "start_time": "2023-01-23T19:30:08.267Z"
   },
   {
    "duration": 302,
    "start_time": "2023-01-23T19:30:08.648Z"
   },
   {
    "duration": 330,
    "start_time": "2023-01-23T19:30:08.952Z"
   },
   {
    "duration": 253,
    "start_time": "2023-01-23T19:30:09.284Z"
   },
   {
    "duration": 12,
    "start_time": "2023-01-23T19:30:09.539Z"
   },
   {
    "duration": 27,
    "start_time": "2023-01-23T19:30:09.553Z"
   },
   {
    "duration": 113,
    "start_time": "2023-01-23T19:34:21.498Z"
   },
   {
    "duration": 103,
    "start_time": "2023-01-23T19:34:24.991Z"
   },
   {
    "duration": 3,
    "start_time": "2023-01-23T19:34:45.790Z"
   },
   {
    "duration": 3,
    "start_time": "2023-01-23T19:34:49.487Z"
   },
   {
    "duration": 9,
    "start_time": "2023-01-23T19:41:19.111Z"
   },
   {
    "duration": 3,
    "start_time": "2023-01-23T19:46:13.676Z"
   },
   {
    "duration": 80,
    "start_time": "2023-01-23T19:50:57.595Z"
   },
   {
    "duration": 9,
    "start_time": "2023-01-23T19:51:25.228Z"
   },
   {
    "duration": 3,
    "start_time": "2023-01-23T19:54:29.585Z"
   },
   {
    "duration": 13,
    "start_time": "2023-01-23T19:54:29.590Z"
   },
   {
    "duration": 65,
    "start_time": "2023-01-23T19:54:29.604Z"
   },
   {
    "duration": 13,
    "start_time": "2023-01-23T19:54:29.671Z"
   },
   {
    "duration": 14,
    "start_time": "2023-01-23T19:54:29.686Z"
   },
   {
    "duration": 4,
    "start_time": "2023-01-23T19:54:29.702Z"
   },
   {
    "duration": 14,
    "start_time": "2023-01-23T19:54:29.708Z"
   },
   {
    "duration": 7,
    "start_time": "2023-01-23T19:54:29.724Z"
   },
   {
    "duration": 13,
    "start_time": "2023-01-23T19:54:29.733Z"
   },
   {
    "duration": 16,
    "start_time": "2023-01-23T19:54:31.368Z"
   },
   {
    "duration": 11,
    "start_time": "2023-01-23T19:56:42.385Z"
   },
   {
    "duration": 10,
    "start_time": "2023-01-23T19:56:53.847Z"
   },
   {
    "duration": 9,
    "start_time": "2023-01-23T19:57:28.081Z"
   },
   {
    "duration": 11,
    "start_time": "2023-01-23T19:57:36.986Z"
   },
   {
    "duration": 2,
    "start_time": "2023-01-23T19:57:40.112Z"
   },
   {
    "duration": 6,
    "start_time": "2023-01-23T19:57:40.116Z"
   },
   {
    "duration": 56,
    "start_time": "2023-01-23T19:57:40.123Z"
   },
   {
    "duration": 15,
    "start_time": "2023-01-23T19:57:40.181Z"
   },
   {
    "duration": 15,
    "start_time": "2023-01-23T19:57:40.197Z"
   },
   {
    "duration": 6,
    "start_time": "2023-01-23T19:57:40.213Z"
   },
   {
    "duration": 17,
    "start_time": "2023-01-23T19:57:40.220Z"
   },
   {
    "duration": 8,
    "start_time": "2023-01-23T19:57:40.238Z"
   },
   {
    "duration": 41,
    "start_time": "2023-01-23T19:57:40.248Z"
   },
   {
    "duration": 12,
    "start_time": "2023-01-23T19:57:41.926Z"
   },
   {
    "duration": 10,
    "start_time": "2023-01-23T19:57:53.038Z"
   },
   {
    "duration": 728,
    "start_time": "2023-01-23T19:58:20.533Z"
   },
   {
    "duration": 10,
    "start_time": "2023-01-23T20:00:24.044Z"
   },
   {
    "duration": 14,
    "start_time": "2023-01-23T20:01:00.256Z"
   },
   {
    "duration": 15,
    "start_time": "2023-01-23T20:01:20.246Z"
   },
   {
    "duration": 14,
    "start_time": "2023-01-23T20:01:25.185Z"
   },
   {
    "duration": 3,
    "start_time": "2023-01-23T20:01:37.897Z"
   },
   {
    "duration": 7,
    "start_time": "2023-01-23T20:01:37.902Z"
   },
   {
    "duration": 56,
    "start_time": "2023-01-23T20:01:37.911Z"
   },
   {
    "duration": 14,
    "start_time": "2023-01-23T20:01:37.970Z"
   },
   {
    "duration": 15,
    "start_time": "2023-01-23T20:01:37.986Z"
   },
   {
    "duration": 4,
    "start_time": "2023-01-23T20:01:38.002Z"
   },
   {
    "duration": 17,
    "start_time": "2023-01-23T20:01:38.008Z"
   },
   {
    "duration": 8,
    "start_time": "2023-01-23T20:01:38.027Z"
   },
   {
    "duration": 13,
    "start_time": "2023-01-23T20:01:38.037Z"
   },
   {
    "duration": 35,
    "start_time": "2023-01-23T20:01:38.052Z"
   },
   {
    "duration": 11,
    "start_time": "2023-01-23T20:01:38.089Z"
   },
   {
    "duration": 12,
    "start_time": "2023-01-23T20:01:38.102Z"
   },
   {
    "duration": 7,
    "start_time": "2023-01-23T20:01:38.116Z"
   },
   {
    "duration": 15,
    "start_time": "2023-01-23T20:01:40.378Z"
   },
   {
    "duration": 3,
    "start_time": "2023-01-23T20:11:44.419Z"
   },
   {
    "duration": 4,
    "start_time": "2023-01-23T20:11:44.425Z"
   },
   {
    "duration": 52,
    "start_time": "2023-01-23T20:11:44.432Z"
   },
   {
    "duration": 13,
    "start_time": "2023-01-23T20:11:44.486Z"
   },
   {
    "duration": 15,
    "start_time": "2023-01-23T20:11:44.502Z"
   },
   {
    "duration": 6,
    "start_time": "2023-01-23T20:11:44.519Z"
   },
   {
    "duration": 27,
    "start_time": "2023-01-23T20:11:44.527Z"
   },
   {
    "duration": 30,
    "start_time": "2023-01-23T20:11:44.557Z"
   },
   {
    "duration": 20,
    "start_time": "2023-01-23T20:11:44.590Z"
   },
   {
    "duration": 12,
    "start_time": "2023-01-23T20:11:44.614Z"
   },
   {
    "duration": 12,
    "start_time": "2023-01-23T20:11:44.628Z"
   },
   {
    "duration": 47,
    "start_time": "2023-01-23T20:11:44.642Z"
   },
   {
    "duration": 12,
    "start_time": "2023-01-23T20:11:44.691Z"
   },
   {
    "duration": 16,
    "start_time": "2023-01-23T20:11:44.704Z"
   },
   {
    "duration": 65,
    "start_time": "2023-01-23T20:11:44.722Z"
   },
   {
    "duration": 705,
    "start_time": "2023-01-23T20:11:44.789Z"
   },
   {
    "duration": 47,
    "start_time": "2023-01-23T20:11:45.496Z"
   },
   {
    "duration": 14,
    "start_time": "2023-01-23T20:11:45.545Z"
   },
   {
    "duration": 7,
    "start_time": "2023-01-23T20:11:45.582Z"
   },
   {
    "duration": 668,
    "start_time": "2023-01-23T20:11:45.591Z"
   },
   {
    "duration": 328,
    "start_time": "2023-01-23T20:11:46.261Z"
   },
   {
    "duration": 5,
    "start_time": "2023-01-23T20:11:46.591Z"
   },
   {
    "duration": 718,
    "start_time": "2023-01-23T20:11:49.533Z"
   },
   {
    "duration": 539,
    "start_time": "2023-01-23T20:11:59.328Z"
   },
   {
    "duration": 539,
    "start_time": "2023-01-23T20:12:08.409Z"
   },
   {
    "duration": 773,
    "start_time": "2023-01-23T20:12:36.205Z"
   },
   {
    "duration": 495,
    "start_time": "2023-01-23T20:14:33.238Z"
   },
   {
    "duration": 493,
    "start_time": "2023-01-23T20:18:41.739Z"
   },
   {
    "duration": 517,
    "start_time": "2023-01-23T20:18:49.613Z"
   },
   {
    "duration": 605,
    "start_time": "2023-01-23T20:18:58.090Z"
   },
   {
    "duration": 535,
    "start_time": "2023-01-23T20:19:05.839Z"
   },
   {
    "duration": 524,
    "start_time": "2023-01-23T20:19:12.577Z"
   },
   {
    "duration": 584,
    "start_time": "2023-01-23T20:21:15.736Z"
   },
   {
    "duration": 472,
    "start_time": "2023-01-23T20:23:06.699Z"
   },
   {
    "duration": 405,
    "start_time": "2023-01-23T20:23:16.699Z"
   },
   {
    "duration": 368,
    "start_time": "2023-01-23T20:25:38.978Z"
   },
   {
    "duration": 370,
    "start_time": "2023-01-23T20:27:48.074Z"
   },
   {
    "duration": 74,
    "start_time": "2023-01-23T20:28:13.468Z"
   },
   {
    "duration": 12,
    "start_time": "2023-01-23T20:32:06.877Z"
   },
   {
    "duration": 10,
    "start_time": "2023-01-23T20:33:23.323Z"
   },
   {
    "duration": 11,
    "start_time": "2023-01-23T20:35:53.144Z"
   },
   {
    "duration": 3,
    "start_time": "2023-01-23T20:36:02.025Z"
   },
   {
    "duration": 17,
    "start_time": "2023-01-23T20:36:02.030Z"
   },
   {
    "duration": 117,
    "start_time": "2023-01-23T20:36:02.049Z"
   },
   {
    "duration": 13,
    "start_time": "2023-01-23T20:36:02.169Z"
   },
   {
    "duration": 46,
    "start_time": "2023-01-23T20:36:02.184Z"
   },
   {
    "duration": 19,
    "start_time": "2023-01-23T20:36:02.231Z"
   },
   {
    "duration": 16,
    "start_time": "2023-01-23T20:36:02.252Z"
   },
   {
    "duration": 8,
    "start_time": "2023-01-23T20:36:02.270Z"
   },
   {
    "duration": 20,
    "start_time": "2023-01-23T20:36:02.281Z"
   },
   {
    "duration": 26,
    "start_time": "2023-01-23T20:36:02.303Z"
   },
   {
    "duration": 17,
    "start_time": "2023-01-23T20:36:02.330Z"
   },
   {
    "duration": 14,
    "start_time": "2023-01-23T20:36:02.349Z"
   },
   {
    "duration": 10,
    "start_time": "2023-01-23T20:36:02.365Z"
   },
   {
    "duration": 37,
    "start_time": "2023-01-23T20:36:02.376Z"
   },
   {
    "duration": 37,
    "start_time": "2023-01-23T20:36:02.415Z"
   },
   {
    "duration": 786,
    "start_time": "2023-01-23T20:36:02.454Z"
   },
   {
    "duration": 52,
    "start_time": "2023-01-23T20:36:03.242Z"
   },
   {
    "duration": 15,
    "start_time": "2023-01-23T20:36:03.296Z"
   },
   {
    "duration": 17,
    "start_time": "2023-01-23T20:36:03.313Z"
   },
   {
    "duration": 661,
    "start_time": "2023-01-23T20:36:03.332Z"
   },
   {
    "duration": 236,
    "start_time": "2023-01-23T20:36:03.994Z"
   },
   {
    "duration": 4,
    "start_time": "2023-01-23T20:36:04.233Z"
   },
   {
    "duration": 486,
    "start_time": "2023-01-23T20:36:04.239Z"
   },
   {
    "duration": 304,
    "start_time": "2023-01-23T20:36:04.728Z"
   },
   {
    "duration": 444,
    "start_time": "2023-01-23T20:36:05.034Z"
   },
   {
    "duration": 1273,
    "start_time": "2023-01-23T20:36:05.481Z"
   },
   {
    "duration": 390,
    "start_time": "2023-01-23T20:36:06.756Z"
   },
   {
    "duration": 284,
    "start_time": "2023-01-23T20:36:07.148Z"
   },
   {
    "duration": 301,
    "start_time": "2023-01-23T20:36:07.433Z"
   },
   {
    "duration": 251,
    "start_time": "2023-01-23T20:36:07.736Z"
   },
   {
    "duration": 10,
    "start_time": "2023-01-23T20:36:07.989Z"
   },
   {
    "duration": 11,
    "start_time": "2023-01-23T20:36:16.687Z"
   },
   {
    "duration": 12,
    "start_time": "2023-01-23T20:36:23.979Z"
   },
   {
    "duration": 1133,
    "start_time": "2023-01-23T20:42:11.455Z"
   },
   {
    "duration": 2,
    "start_time": "2023-01-23T20:42:12.590Z"
   },
   {
    "duration": 56,
    "start_time": "2023-01-23T20:42:12.594Z"
   },
   {
    "duration": 17,
    "start_time": "2023-01-23T20:42:12.652Z"
   },
   {
    "duration": 14,
    "start_time": "2023-01-23T20:42:12.671Z"
   },
   {
    "duration": 9,
    "start_time": "2023-01-23T20:42:12.687Z"
   },
   {
    "duration": 18,
    "start_time": "2023-01-23T20:42:12.698Z"
   },
   {
    "duration": 9,
    "start_time": "2023-01-23T20:42:12.717Z"
   },
   {
    "duration": 22,
    "start_time": "2023-01-23T20:42:12.728Z"
   },
   {
    "duration": 34,
    "start_time": "2023-01-23T20:42:12.753Z"
   },
   {
    "duration": 12,
    "start_time": "2023-01-23T20:42:12.788Z"
   },
   {
    "duration": 13,
    "start_time": "2023-01-23T20:42:12.801Z"
   },
   {
    "duration": 10,
    "start_time": "2023-01-23T20:42:12.816Z"
   },
   {
    "duration": 53,
    "start_time": "2023-01-23T20:42:12.829Z"
   },
   {
    "duration": 40,
    "start_time": "2023-01-23T20:42:12.884Z"
   },
   {
    "duration": 826,
    "start_time": "2023-01-23T20:42:12.926Z"
   },
   {
    "duration": 46,
    "start_time": "2023-01-23T20:42:13.754Z"
   },
   {
    "duration": 12,
    "start_time": "2023-01-23T20:42:13.802Z"
   },
   {
    "duration": 5,
    "start_time": "2023-01-23T20:42:13.816Z"
   },
   {
    "duration": 738,
    "start_time": "2023-01-23T20:42:13.822Z"
   },
   {
    "duration": 253,
    "start_time": "2023-01-23T20:42:14.562Z"
   },
   {
    "duration": 5,
    "start_time": "2023-01-23T20:42:14.816Z"
   },
   {
    "duration": 504,
    "start_time": "2023-01-23T20:42:14.822Z"
   },
   {
    "duration": 335,
    "start_time": "2023-01-23T20:42:15.328Z"
   },
   {
    "duration": 353,
    "start_time": "2023-01-23T20:42:15.665Z"
   },
   {
    "duration": 1376,
    "start_time": "2023-01-23T20:42:16.020Z"
   },
   {
    "duration": 491,
    "start_time": "2023-01-23T20:42:17.398Z"
   },
   {
    "duration": 300,
    "start_time": "2023-01-23T20:42:17.891Z"
   },
   {
    "duration": 304,
    "start_time": "2023-01-23T20:42:18.192Z"
   },
   {
    "duration": 280,
    "start_time": "2023-01-23T20:42:18.497Z"
   },
   {
    "duration": 14,
    "start_time": "2023-01-23T20:42:18.779Z"
   },
   {
    "duration": 21,
    "start_time": "2023-01-23T20:42:18.795Z"
   },
   {
    "duration": 21,
    "start_time": "2023-01-23T20:46:50.064Z"
   },
   {
    "duration": 13,
    "start_time": "2023-01-23T20:46:59.617Z"
   },
   {
    "duration": 13,
    "start_time": "2023-01-23T20:47:03.912Z"
   },
   {
    "duration": 1071,
    "start_time": "2023-01-23T20:47:29.211Z"
   },
   {
    "duration": 3,
    "start_time": "2023-01-23T20:47:30.284Z"
   },
   {
    "duration": 77,
    "start_time": "2023-01-23T20:47:30.288Z"
   },
   {
    "duration": 16,
    "start_time": "2023-01-23T20:47:30.367Z"
   },
   {
    "duration": 22,
    "start_time": "2023-01-23T20:47:30.385Z"
   },
   {
    "duration": 29,
    "start_time": "2023-01-23T20:47:30.408Z"
   },
   {
    "duration": 51,
    "start_time": "2023-01-23T20:47:30.439Z"
   },
   {
    "duration": 30,
    "start_time": "2023-01-23T20:47:30.492Z"
   },
   {
    "duration": 47,
    "start_time": "2023-01-23T20:47:30.524Z"
   },
   {
    "duration": 51,
    "start_time": "2023-01-23T20:47:30.572Z"
   },
   {
    "duration": 64,
    "start_time": "2023-01-23T20:47:30.624Z"
   },
   {
    "duration": 60,
    "start_time": "2023-01-23T20:47:30.689Z"
   },
   {
    "duration": 35,
    "start_time": "2023-01-23T20:47:30.751Z"
   },
   {
    "duration": 64,
    "start_time": "2023-01-23T20:47:30.789Z"
   },
   {
    "duration": 68,
    "start_time": "2023-01-23T20:47:30.855Z"
   },
   {
    "duration": 735,
    "start_time": "2023-01-23T20:47:30.925Z"
   },
   {
    "duration": 51,
    "start_time": "2023-01-23T20:47:31.662Z"
   },
   {
    "duration": 12,
    "start_time": "2023-01-23T20:47:31.714Z"
   },
   {
    "duration": 29,
    "start_time": "2023-01-23T20:47:31.727Z"
   },
   {
    "duration": 759,
    "start_time": "2023-01-23T20:47:31.758Z"
   },
   {
    "duration": 253,
    "start_time": "2023-01-23T20:47:32.518Z"
   },
   {
    "duration": 5,
    "start_time": "2023-01-23T20:47:32.780Z"
   },
   {
    "duration": 522,
    "start_time": "2023-01-23T20:47:32.787Z"
   },
   {
    "duration": 292,
    "start_time": "2023-01-23T20:47:33.311Z"
   },
   {
    "duration": 358,
    "start_time": "2023-01-23T20:47:33.605Z"
   },
   {
    "duration": 1198,
    "start_time": "2023-01-23T20:47:33.964Z"
   },
   {
    "duration": 491,
    "start_time": "2023-01-23T20:47:35.164Z"
   },
   {
    "duration": 284,
    "start_time": "2023-01-23T20:47:35.657Z"
   },
   {
    "duration": 311,
    "start_time": "2023-01-23T20:47:35.942Z"
   },
   {
    "duration": 260,
    "start_time": "2023-01-23T20:47:36.254Z"
   },
   {
    "duration": 12,
    "start_time": "2023-01-23T20:47:36.516Z"
   },
   {
    "duration": 22,
    "start_time": "2023-01-23T20:47:36.530Z"
   },
   {
    "duration": 489,
    "start_time": "2023-01-23T20:49:29.086Z"
   },
   {
    "duration": 607,
    "start_time": "2023-01-23T20:49:39.244Z"
   },
   {
    "duration": 409,
    "start_time": "2023-01-23T20:51:14.585Z"
   },
   {
    "duration": 1153,
    "start_time": "2023-01-23T21:00:40.852Z"
   },
   {
    "duration": 3,
    "start_time": "2023-01-23T21:00:42.007Z"
   },
   {
    "duration": 58,
    "start_time": "2023-01-23T21:00:42.011Z"
   },
   {
    "duration": 17,
    "start_time": "2023-01-23T21:00:42.071Z"
   },
   {
    "duration": 13,
    "start_time": "2023-01-23T21:00:42.090Z"
   },
   {
    "duration": 18,
    "start_time": "2023-01-23T21:00:42.105Z"
   },
   {
    "duration": 24,
    "start_time": "2023-01-23T21:00:42.125Z"
   },
   {
    "duration": 8,
    "start_time": "2023-01-23T21:00:42.151Z"
   },
   {
    "duration": 21,
    "start_time": "2023-01-23T21:00:42.161Z"
   },
   {
    "duration": 15,
    "start_time": "2023-01-23T21:00:42.185Z"
   },
   {
    "duration": 11,
    "start_time": "2023-01-23T21:00:42.202Z"
   },
   {
    "duration": 12,
    "start_time": "2023-01-23T21:00:42.214Z"
   },
   {
    "duration": 8,
    "start_time": "2023-01-23T21:00:42.227Z"
   },
   {
    "duration": 19,
    "start_time": "2023-01-23T21:00:42.236Z"
   },
   {
    "duration": 37,
    "start_time": "2023-01-23T21:00:42.282Z"
   },
   {
    "duration": 746,
    "start_time": "2023-01-23T21:00:42.320Z"
   },
   {
    "duration": 50,
    "start_time": "2023-01-23T21:00:43.067Z"
   },
   {
    "duration": 11,
    "start_time": "2023-01-23T21:00:43.119Z"
   },
   {
    "duration": 7,
    "start_time": "2023-01-23T21:00:43.132Z"
   },
   {
    "duration": 732,
    "start_time": "2023-01-23T21:00:43.140Z"
   },
   {
    "duration": 266,
    "start_time": "2023-01-23T21:00:43.873Z"
   },
   {
    "duration": 5,
    "start_time": "2023-01-23T21:00:44.140Z"
   },
   {
    "duration": 499,
    "start_time": "2023-01-23T21:00:44.146Z"
   },
   {
    "duration": 321,
    "start_time": "2023-01-23T21:00:44.647Z"
   },
   {
    "duration": 358,
    "start_time": "2023-01-23T21:00:44.970Z"
   },
   {
    "duration": 1358,
    "start_time": "2023-01-23T21:00:45.330Z"
   },
   {
    "duration": 484,
    "start_time": "2023-01-23T21:00:46.690Z"
   },
   {
    "duration": 299,
    "start_time": "2023-01-23T21:00:47.176Z"
   },
   {
    "duration": 319,
    "start_time": "2023-01-23T21:00:47.481Z"
   },
   {
    "duration": 254,
    "start_time": "2023-01-23T21:00:47.802Z"
   },
   {
    "duration": 10,
    "start_time": "2023-01-23T21:00:48.058Z"
   },
   {
    "duration": 21,
    "start_time": "2023-01-23T21:00:48.069Z"
   },
   {
    "duration": 1132,
    "start_time": "2023-01-23T21:05:31.150Z"
   },
   {
    "duration": 3,
    "start_time": "2023-01-23T21:05:32.284Z"
   },
   {
    "duration": 221,
    "start_time": "2023-01-23T21:05:32.288Z"
   },
   {
    "duration": 17,
    "start_time": "2023-01-23T21:05:32.511Z"
   },
   {
    "duration": 20,
    "start_time": "2023-01-23T21:05:32.530Z"
   },
   {
    "duration": 21,
    "start_time": "2023-01-23T21:05:32.552Z"
   },
   {
    "duration": 30,
    "start_time": "2023-01-23T21:05:32.574Z"
   },
   {
    "duration": 11,
    "start_time": "2023-01-23T21:05:32.605Z"
   },
   {
    "duration": 30,
    "start_time": "2023-01-23T21:05:32.618Z"
   },
   {
    "duration": 24,
    "start_time": "2023-01-23T21:05:32.650Z"
   },
   {
    "duration": 11,
    "start_time": "2023-01-23T21:05:32.676Z"
   },
   {
    "duration": 15,
    "start_time": "2023-01-23T21:05:32.688Z"
   },
   {
    "duration": 20,
    "start_time": "2023-01-23T21:05:32.705Z"
   },
   {
    "duration": 35,
    "start_time": "2023-01-23T21:05:32.728Z"
   },
   {
    "duration": 36,
    "start_time": "2023-01-23T21:05:32.764Z"
   },
   {
    "duration": 731,
    "start_time": "2023-01-23T21:05:32.802Z"
   },
   {
    "duration": 59,
    "start_time": "2023-01-23T21:05:33.535Z"
   },
   {
    "duration": 15,
    "start_time": "2023-01-23T21:05:33.596Z"
   },
   {
    "duration": 5,
    "start_time": "2023-01-23T21:05:33.613Z"
   },
   {
    "duration": 743,
    "start_time": "2023-01-23T21:05:33.620Z"
   },
   {
    "duration": 245,
    "start_time": "2023-01-23T21:05:34.364Z"
   },
   {
    "duration": 4,
    "start_time": "2023-01-23T21:05:34.610Z"
   },
   {
    "duration": 502,
    "start_time": "2023-01-23T21:05:34.616Z"
   },
   {
    "duration": 312,
    "start_time": "2023-01-23T21:05:35.119Z"
   },
   {
    "duration": 356,
    "start_time": "2023-01-23T21:05:35.433Z"
   },
   {
    "duration": 1449,
    "start_time": "2023-01-23T21:05:35.791Z"
   },
   {
    "duration": 503,
    "start_time": "2023-01-23T21:05:37.242Z"
   },
   {
    "duration": 293,
    "start_time": "2023-01-23T21:05:37.746Z"
   },
   {
    "duration": 314,
    "start_time": "2023-01-23T21:05:38.040Z"
   },
   {
    "duration": 249,
    "start_time": "2023-01-23T21:05:38.355Z"
   },
   {
    "duration": 9,
    "start_time": "2023-01-23T21:05:38.606Z"
   },
   {
    "duration": 15,
    "start_time": "2023-01-23T21:05:38.617Z"
   },
   {
    "duration": 4,
    "start_time": "2023-01-23T21:11:16.000Z"
   },
   {
    "duration": 6,
    "start_time": "2023-01-23T21:12:12.463Z"
   },
   {
    "duration": 10,
    "start_time": "2023-01-23T21:12:23.236Z"
   },
   {
    "duration": 1107,
    "start_time": "2023-01-23T21:12:42.572Z"
   },
   {
    "duration": 2,
    "start_time": "2023-01-23T21:12:43.681Z"
   },
   {
    "duration": 53,
    "start_time": "2023-01-23T21:12:43.688Z"
   },
   {
    "duration": 17,
    "start_time": "2023-01-23T21:12:43.744Z"
   },
   {
    "duration": 12,
    "start_time": "2023-01-23T21:12:43.762Z"
   },
   {
    "duration": 6,
    "start_time": "2023-01-23T21:12:43.776Z"
   },
   {
    "duration": 23,
    "start_time": "2023-01-23T21:12:43.784Z"
   },
   {
    "duration": 9,
    "start_time": "2023-01-23T21:12:43.808Z"
   },
   {
    "duration": 14,
    "start_time": "2023-01-23T21:12:43.818Z"
   },
   {
    "duration": 19,
    "start_time": "2023-01-23T21:12:43.834Z"
   },
   {
    "duration": 9,
    "start_time": "2023-01-23T21:12:43.855Z"
   },
   {
    "duration": 10,
    "start_time": "2023-01-23T21:12:43.881Z"
   },
   {
    "duration": 8,
    "start_time": "2023-01-23T21:12:43.893Z"
   },
   {
    "duration": 16,
    "start_time": "2023-01-23T21:12:43.902Z"
   },
   {
    "duration": 36,
    "start_time": "2023-01-23T21:12:43.920Z"
   },
   {
    "duration": 680,
    "start_time": "2023-01-23T21:12:43.982Z"
   },
   {
    "duration": 51,
    "start_time": "2023-01-23T21:12:44.664Z"
   },
   {
    "duration": 12,
    "start_time": "2023-01-23T21:12:44.717Z"
   },
   {
    "duration": 5,
    "start_time": "2023-01-23T21:12:44.731Z"
   },
   {
    "duration": 740,
    "start_time": "2023-01-23T21:12:44.737Z"
   },
   {
    "duration": 256,
    "start_time": "2023-01-23T21:12:45.480Z"
   },
   {
    "duration": 5,
    "start_time": "2023-01-23T21:12:45.737Z"
   },
   {
    "duration": 515,
    "start_time": "2023-01-23T21:12:45.743Z"
   },
   {
    "duration": 385,
    "start_time": "2023-01-23T21:12:46.260Z"
   },
   {
    "duration": 335,
    "start_time": "2023-01-23T21:12:46.647Z"
   },
   {
    "duration": 1286,
    "start_time": "2023-01-23T21:12:46.984Z"
   },
   {
    "duration": 611,
    "start_time": "2023-01-23T21:12:48.281Z"
   },
   {
    "duration": 306,
    "start_time": "2023-01-23T21:12:48.893Z"
   },
   {
    "duration": 297,
    "start_time": "2023-01-23T21:12:49.201Z"
   },
   {
    "duration": 290,
    "start_time": "2023-01-23T21:12:49.500Z"
   },
   {
    "duration": 9,
    "start_time": "2023-01-23T21:12:49.792Z"
   },
   {
    "duration": 11,
    "start_time": "2023-01-23T21:12:49.803Z"
   },
   {
    "duration": 3536,
    "start_time": "2023-01-24T14:38:55.079Z"
   }
  ],
  "kernelspec": {
   "display_name": "Python 3 (ipykernel)",
   "language": "python",
   "name": "python3"
  },
  "language_info": {
   "codemirror_mode": {
    "name": "ipython",
    "version": 3
   },
   "file_extension": ".py",
   "mimetype": "text/x-python",
   "name": "python",
   "nbconvert_exporter": "python",
   "pygments_lexer": "ipython3",
   "version": "3.9.13"
  },
  "toc": {
   "base_numbering": 1,
   "nav_menu": {
    "height": "357px",
    "width": "291px"
   },
   "number_sections": true,
   "sideBar": true,
   "skip_h1_title": true,
   "title_cell": "Содержание",
   "title_sidebar": "Contents",
   "toc_cell": true,
   "toc_position": {
    "height": "calc(100% - 180px)",
    "left": "10px",
    "top": "150px",
    "width": "276.1875px"
   },
   "toc_section_display": true,
   "toc_window_display": true
  }
 },
 "nbformat": 4,
 "nbformat_minor": 2
}
